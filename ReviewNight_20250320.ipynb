{
 "cells": [
  {
   "cell_type": "markdown",
   "metadata": {},
   "source": [
    "#### **1. Data Types**"
   ]
  },
  {
   "cell_type": "markdown",
   "metadata": {},
   "source": [
    "a) Identify the data types of the following values:\n",
    "   - `42`- integer\n",
    "   - `\"Hello, Bootcamp!\"` - string\n",
    "   - `3.14` - floating\n",
    "   - `True` - boolean string\n",
    "   - `[1, 2, 3]`- list\n",
    "   - `(4, 5)` - tuple\n",
    "   - `{ 'key': 'value' }`- dictionary\n",
    "   - `None`- called a None type (reserved word**)"
   ]
  },
  {
   "cell_type": "markdown",
   "metadata": {},
   "source": [
    "b) Write Python code to:\n",
    "   - Convert an integer `42` to a float.\n",
    "   - Convert the string `\"2025\"` to an integer.\n",
    "   - Check whether the value `3.14` is of type `float`."
   ]
  },
  {
   "cell_type": "code",
   "execution_count": 8,
   "metadata": {},
   "outputs": [
    {
     "name": "stdout",
     "output_type": "stream",
     "text": [
      "<class 'float'>\n",
      "42.0\n",
      "<class 'int'>\n",
      "3.14 is a <class 'float'>\n"
     ]
    }
   ],
   "source": [
    "# place code here \n",
    "\n",
    "cap = float(42)\n",
    "print(type(cap))\n",
    "print(cap)\n",
    "\n",
    "tap = int(\"2025\")\n",
    "print(type (tap))\n",
    "\n",
    "print(f\"3.14 is a {type(3.14)}\")\n"
   ]
  },
  {
   "cell_type": "markdown",
   "metadata": {},
   "source": [
    "#### **2. String Slicing**"
   ]
  },
  {
   "cell_type": "markdown",
   "metadata": {},
   "source": [
    "a) Given the string `\"PythonBootcamp\"`, write code to:\n",
    "   - Extract the word `\"Python\"` using slicing.\n",
    "   - Extract the word `\"Boot\"` using slicing.\n",
    "   - Reverse the entire string.\n",
    "   - Extract every second character from the string"
   ]
  },
  {
   "cell_type": "code",
   "execution_count": 16,
   "metadata": {},
   "outputs": [
    {
     "name": "stdout",
     "output_type": "stream",
     "text": [
      "Python\n",
      "Boot\n",
      "pmactooBnohtyP\n",
      "yhnotap\n"
     ]
    }
   ],
   "source": [
    "text = \"PythonBootcamp\"\n",
    "\n",
    "#place code here \n",
    "\n",
    "pyth = text[0:6]\n",
    "print(pyth)\n",
    "\n",
    "boot = text[6:10]\n",
    "print(boot)\n",
    "\n",
    "print(text[::-1])\n",
    "\n",
    "print(text[1::2])"
   ]
  },
  {
   "cell_type": "markdown",
   "metadata": {},
   "source": [
    "b) Modify the following code so it prints `\"Hello\"` instead of `\"World\"`:"
   ]
  },
  {
   "cell_type": "code",
   "execution_count": 18,
   "metadata": {},
   "outputs": [
    {
     "name": "stdout",
     "output_type": "stream",
     "text": [
      "Hello\n"
     ]
    }
   ],
   "source": [
    "greeting = \"HelloWorld\"\n",
    "\n",
    "print(greeting[0:5])"
   ]
  },
  {
   "cell_type": "markdown",
   "metadata": {},
   "source": [
    "#### **3. Complex Data Types**"
   ]
  },
  {
   "cell_type": "markdown",
   "metadata": {},
   "source": [
    "a) Lists:\n",
    "   - Write a Python list that contains the following elements: `1`, `\"two\"`, `3.0`, `False`.\n",
    "   - Add the string `\"new item\"` to this list.\n",
    "   - Remove the first element from the list."
   ]
  },
  {
   "cell_type": "code",
   "execution_count": 38,
   "metadata": {},
   "outputs": [
    {
     "name": "stdout",
     "output_type": "stream",
     "text": [
      "original [1, 'two', 3.0, False]\n",
      "Added one [1, 'two', 3.0, False, 'new item']\n",
      "Removed ['two', 3.0, False, 'new item']\n",
      "['two', 'cookie', 3.0, False, 'new item']\n"
     ]
    }
   ],
   "source": [
    "# write your code here\n",
    "\n",
    "python_list = [1,\"two\", 3.0, False]\n",
    "print(\"original\", python_list)\n",
    "python_list.append(\"new item\")\n",
    "print(\"Added one\", python_list)\n",
    "python_list.pop(0)\n",
    "print(\"Removed\", python_list)\n",
    "\n",
    "## if wish to place in specific location\n",
    "python_list.insert(1,\"cookie\")\n",
    "print(python_list)\n",
    "# .remove removes the first occurence of that element with that value and it stops\n",
    "# pop removes element from specific index position\n"
   ]
  },
  {
   "cell_type": "markdown",
   "metadata": {},
   "source": [
    "b) Dictionaries:\n",
    "   - Create a dictionary to represent a book, with keys for `\"title\"`, `\"author\"`, and `\"year\"`.\n",
    "   - Add a new key-value pair to store the `\"genre\"`.\n",
    "   - Retrieve the `\"author\"` value."
   ]
  },
  {
   "cell_type": "code",
   "execution_count": 42,
   "metadata": {},
   "outputs": [
    {
     "name": "stdout",
     "output_type": "stream",
     "text": [
      "{'title': 'And Then There Were None', 'Author': 'Agatha Christie', 'Year': '1939'}\n",
      "{'title': 'And Then There Were None', 'Author': 'Agatha Christie', 'Year': '1939', 'Genre': 'Mystery'}\n",
      "Agatha Christie\n"
     ]
    }
   ],
   "source": [
    "# write your code here\n",
    "\n",
    "books = {\"title\"  : \"And Then There Were None\",\n",
    "         \"Author\" : \"Agatha Christie\", \n",
    "         \"Year\"   : \"1939\"}\n",
    "\n",
    "genre = \"Mystery\"\n",
    "\n",
    "print(books)\n",
    "\n",
    "### cant have two keys with the same name\n",
    "# if not there just adds key and value\n",
    "# if not replaces the value for the key if present in dictionary\n",
    "\n",
    "books[\"Genre\"] = \"Mystery\"\n",
    "\n",
    "print(books)\n",
    "print(books[\"Author\"])"
   ]
  },
  {
   "cell_type": "code",
   "execution_count": null,
   "metadata": {},
   "outputs": [],
   "source": [
    "##to update a value for a key\n",
    "books.update({\"Genre\" : \"Sc-fi\"})"
   ]
  },
  {
   "cell_type": "code",
   "execution_count": 44,
   "metadata": {},
   "outputs": [
    {
     "name": "stdout",
     "output_type": "stream",
     "text": [
      "{'title': 'And Then There Were None', 'Author': 'Agatha Christie', 'Year': '1939', 'Genre': 'Sc-fi'}\n"
     ]
    }
   ],
   "source": [
    "print(books)"
   ]
  },
  {
   "cell_type": "markdown",
   "metadata": {},
   "source": [
    "#### **4. Flow Control**"
   ]
  },
  {
   "cell_type": "markdown",
   "metadata": {},
   "source": [
    "a) Write a Python program that prints whether a given number is:\n",
    "   - Positive\n",
    "   - Negative\n",
    "   - Zero\n",
    "\n",
    "Perform Certain Operations when Certain Conditions are Met"
   ]
  },
  {
   "cell_type": "code",
   "execution_count": null,
   "metadata": {},
   "outputs": [
    {
     "name": "stdout",
     "output_type": "stream",
     "text": [
      "zero\n"
     ]
    }
   ],
   "source": [
    "# write your code here\n",
    "num = 0\n",
    "\n",
    "if num > 0:\n",
    "    print(\"Positive\")\n",
    "if num < 0:\n",
    "    print(\"Negative\")\n",
    "if num == 0:\n",
    "    print(\"Zero\")\n",
    "\n",
    "#if num > 0:\n",
    "    #print(\"Positive\")\n",
    "#elif num < 0:\n",
    "   # print(\"Negative\")\n",
    "#else:\n",
    "    #print(\"Zero\")"
   ]
  },
  {
   "cell_type": "markdown",
   "metadata": {},
   "source": [
    "b) Loop through the numbers from 1 to 10, and print only the even numbers.\n"
   ]
  },
  {
   "cell_type": "code",
   "execution_count": 51,
   "metadata": {},
   "outputs": [
    {
     "name": "stdout",
     "output_type": "stream",
     "text": [
      "2\n",
      "4\n",
      "6\n",
      "8\n",
      "10\n"
     ]
    }
   ],
   "source": [
    "# write your code here\n",
    "# range creates a list essentially\n",
    "# for every number within the range of 1 through 10 \n",
    "# if it is divided by 2 and zero remainder\n",
    "# print the number\n",
    "\n",
    "#essentially ls = [0,1,2,3,4,5,6,7,8,9,10]\n",
    "\n",
    "for num in range(1,11):\n",
    "    if num % 2 == 0:\n",
    "        print(num)"
   ]
  },
  {
   "cell_type": "code",
   "execution_count": 53,
   "metadata": {},
   "outputs": [
    {
     "name": "stdout",
     "output_type": "stream",
     "text": [
      "2\n",
      "4\n",
      "6\n",
      "8\n",
      "10\n"
     ]
    }
   ],
   "source": [
    "num = 1\n",
    "\n",
    "while num <= 10:\n",
    "        if num % 2 == 0:\n",
    "            print(num)\n",
    "        num = num + 1"
   ]
  },
  {
   "cell_type": "markdown",
   "metadata": {},
   "source": [
    "c) Write a program that uses a `while` loop to simulate a simple countdown timer:\n",
    "   - Start from `10` and count down to `1`, then print `\"Blast off!\"`.\n",
    "   - make sure you have some sort of way to keep track of loop iterations to prevent the program from running endlessly"
   ]
  },
  {
   "cell_type": "code",
   "execution_count": 54,
   "metadata": {},
   "outputs": [
    {
     "name": "stdout",
     "output_type": "stream",
     "text": [
      "10\n",
      "9\n",
      "8\n",
      "7\n",
      "6\n",
      "5\n",
      "4\n",
      "3\n",
      "2\n",
      "1\n",
      "Blast Off\n"
     ]
    }
   ],
   "source": [
    "# write your code here\n",
    "# while loop requires a stop condition\n",
    "\n",
    "num = 10\n",
    "\n",
    "while num >= 0:\n",
    "    if num > 0:\n",
    "        print(num)\n",
    "        #else works as well\n",
    "    if num == 0:\n",
    "        print(\"Blast Off\")\n",
    "    num  = num - 1\n",
    "\n",
    "### puttin on same tab means runs every time\n"
   ]
  },
  {
   "cell_type": "code",
   "execution_count": 67,
   "metadata": {},
   "outputs": [
    {
     "name": "stdout",
     "output_type": "stream",
     "text": [
      "1 banana\n",
      "2 banana\n",
      "4 banana\n"
     ]
    }
   ],
   "source": [
    "fruits = [\"apple\", \"banana\", \"banana\", \"orange\", \"banana\", \"kiwi\", \"pineapple\"]\n",
    "banans = []\n",
    "\n",
    "#for fruit in fruits:\n",
    "   # print(fruits)\n",
    "\n",
    "for index, fruit in enumerate(fruits):\n",
    "    if fruit == \"banana\":\n",
    "        print(index, fruit)\n",
    "\n"
   ]
  },
  {
   "cell_type": "code",
   "execution_count": 69,
   "metadata": {},
   "outputs": [],
   "source": [
    "#fruits = [\"apple\", \"banana\", \"banana\", \"orange\", \"banana\", \"kiwi\", \"pineapple\"]\n",
    "#banans = []\n",
    "\n",
    "#for index, fruit in enumerate(fruits):\n",
    "   # if fruit == \"banana\":\n",
    "       # bananas.append(fruits.pop(index))\n",
    "       # print(index, fruit)\n",
    "#print(bananas)  \n",
    "\n",
    "#not working, dont use, experiment"
   ]
  },
  {
   "cell_type": "markdown",
   "metadata": {},
   "source": [
    "d) Write a Python program to simulate a simple \"FizzBuzz\" game for numbers 1 through 20:\n",
    "   - If the number is divisible by 3, print `\"Fizz\"`.\n",
    "   - If the number is divisible by 5, print `\"Buzz\"`.\n",
    "   - If divisible by both, print `\"FizzBuzz\"`."
   ]
  },
  {
   "cell_type": "code",
   "execution_count": 71,
   "metadata": {},
   "outputs": [
    {
     "name": "stdout",
     "output_type": "stream",
     "text": [
      "3 Fizz\n",
      "5 Buzz\n",
      "6 Fizz\n",
      "9 Fizz\n",
      "10 Buzz\n",
      "12 Fizz\n",
      "15 FizzBuzz\n",
      "18 Fizz\n",
      "20 Buzz\n"
     ]
    }
   ],
   "source": [
    "# write your code here\n",
    "\n",
    "#num = int(input())\n",
    "\n",
    "for num in range(1,21):\n",
    "    if num % 3 == 0 and num % 5 ==0:\n",
    "        print(num, \"FizzBuzz\")\n",
    "    elif num % 3 == 0:\n",
    "        print(num, \"Fizz\")\n",
    "    elif num % 5 == 0:\n",
    "         print(num, \"Buzz\")\n",
    "    else:\n",
    "        continue"
   ]
  },
  {
   "cell_type": "code",
   "execution_count": 73,
   "metadata": {},
   "outputs": [
    {
     "name": "stdout",
     "output_type": "stream",
     "text": [
      "3 Fizz\n",
      "6 Fizz\n",
      "9 Fizz\n",
      "12 Fizz\n",
      "15 Fizz\n",
      "15 Buzz\n",
      "15 FizzBuzz\n",
      "18 Fizz\n"
     ]
    }
   ],
   "source": [
    "for num in range(1,21):\n",
    "    if num % 3 == 0:\n",
    "        print(num, \"Fizz\")\n",
    "        if num % 5 == 0:\n",
    "                print(num, \"Buzz\")\n",
    "                if num % 3 == 0 and num % 5 == 0:\n",
    "                    print(num, \"FizzBuzz\")\n",
    "    else:\n",
    "        continue"
   ]
  },
  {
   "cell_type": "markdown",
   "metadata": {},
   "source": [
    "e) Loops:\n",
    "   - Use a `for` loop to print all the vowels in the string `\"education\"`.\n",
    "   - Write code to iterate over the list `[2, 4, 6, 8]` and print the square of each number."
   ]
  },
  {
   "cell_type": "code",
   "execution_count": null,
   "metadata": {},
   "outputs": [],
   "source": [
    "# write your code here"
   ]
  },
  {
   "cell_type": "markdown",
   "metadata": {},
   "source": [
    "#### **Challenge Questions**\n",
    "1.  Write a program that takes a list of strings and prints only the strings that are palindromes.\n",
    "2. Write a Python function that takes a list of numbers and returns the largest number in the list. Use a `for` loop to find the largest value."
   ]
  },
  {
   "cell_type": "markdown",
   "metadata": {},
   "source": []
  }
 ],
 "metadata": {
  "kernelspec": {
   "display_name": "Python 3",
   "language": "python",
   "name": "python3"
  },
  "language_info": {
   "codemirror_mode": {
    "name": "ipython",
    "version": 3
   },
   "file_extension": ".py",
   "mimetype": "text/x-python",
   "name": "python",
   "nbconvert_exporter": "python",
   "pygments_lexer": "ipython3",
   "version": "3.undefined.undefined"
  }
 },
 "nbformat": 4,
 "nbformat_minor": 2
}
