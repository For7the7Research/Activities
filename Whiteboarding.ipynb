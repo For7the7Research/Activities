{
 "cells": [
  {
   "cell_type": "markdown",
   "metadata": {},
   "source": [
    "# Question 1\n",
    "\n",
    "### Write a Python function that takes in two integers and returns their sum, unless the two integers are equal.\n",
    "\n",
    "If the two integers are equal, then return three times their sum.\n",
    "\n",
    "Example:\n",
    "\n",
    "sum2Integers(10, 20) // --> 30\n",
    "sum2Integers(10, 10) // --> 60\n"
   ]
  },
  {
   "cell_type": "markdown",
   "metadata": {},
   "source": [
    "Define variable that is equal to an input that the person can enter\n",
    "If integer a and integer b are equal\n",
    "    then multiply by 3 to the sum of integer a and b\n",
    "Else that they are not\n",
    "    return their sum"
   ]
  },
  {
   "cell_type": "code",
   "execution_count": 4,
   "metadata": {},
   "outputs": [
    {
     "name": "stdout",
     "output_type": "stream",
     "text": [
      "15\n"
     ]
    }
   ],
   "source": [
    "a = int(input())\n",
    "b = int(input())\n",
    "\n",
    "if a == b:\n",
    "    print((a+b)*3)\n",
    "else:\n",
    "    print(a+b)"
   ]
  },
  {
   "cell_type": "code",
   "execution_count": 8,
   "metadata": {},
   "outputs": [
    {
     "name": "stdout",
     "output_type": "stream",
     "text": [
      "60\n"
     ]
    }
   ],
   "source": [
    "a = 10\n",
    "b = 10\n",
    "\n",
    "sum = a + b\n",
    "if a ==b:\n",
    "    sum = sum*3\n",
    "print(sum)"
   ]
  },
  {
   "cell_type": "markdown",
   "metadata": {},
   "source": [
    "# Question 2\n",
    "## Write a Python function that takes in integers and returns the integer with the highest value.\n",
    "\n",
    "(Do NOT use max()!!!)\n",
    "\n",
    "Example:\n",
    "\n",
    "findHighest(5, 8, 1) // --> 8\n",
    "findHighest([4, 1, -3]) // --> 4\n",
    "Take note of the argument data type options.\n"
   ]
  },
  {
   "cell_type": "markdown",
   "metadata": {},
   "source": [
    "# Solution 1 - If statement\n",
    "\n",
    "Three integers minimum\n",
    "\n"
   ]
  },
  {
   "cell_type": "code",
   "execution_count": 10,
   "metadata": {},
   "outputs": [],
   "source": [
    "import pandas as pd"
   ]
  },
  {
   "cell_type": "code",
   "execution_count": 14,
   "metadata": {},
   "outputs": [
    {
     "name": "stdout",
     "output_type": "stream",
     "text": [
      "50\n"
     ]
    }
   ],
   "source": [
    "#solution 1 - if statement\n",
    "\n",
    "a = 50\n",
    "b = 17\n",
    "c = 23\n",
    "\n",
    "if a > b and a > c: \n",
    "    print(a)\n",
    "elif b > a and b > c:\n",
    "    print(b)\n",
    "else:\n",
    "    print(c)"
   ]
  },
  {
   "cell_type": "markdown",
   "metadata": {},
   "source": [
    "# Solution 2 an array - for loop"
   ]
  },
  {
   "cell_type": "code",
   "execution_count": null,
   "metadata": {},
   "outputs": [],
   "source": [
    "numbersArray = [5,8,9,10,1,3]\n",
    "highest = numbersArray[0]\n",
    "\n",
    "for num in numbersArray:\n",
    "    if num > highest:\n",
    "            highest = num\n",
    "print(highest)"
   ]
  },
  {
   "cell_type": "markdown",
   "metadata": {},
   "source": [
    "# Sort funtion"
   ]
  },
  {
   "cell_type": "code",
   "execution_count": 18,
   "metadata": {},
   "outputs": [
    {
     "name": "stdout",
     "output_type": "stream",
     "text": [
      "12\n"
     ]
    }
   ],
   "source": [
    "the_list = [10, 2, 5 ,12]\n",
    "\n",
    "the_list.sort()\n",
    "print(the_list[-1])\n",
    "\n"
   ]
  },
  {
   "cell_type": "markdown",
   "metadata": {},
   "source": [
    "# Pandas Sort function"
   ]
  },
  {
   "cell_type": "code",
   "execution_count": null,
   "metadata": {},
   "outputs": [
    {
     "name": "stdout",
     "output_type": "stream",
     "text": [
      "   col1\n",
      "6    89\n"
     ]
    }
   ],
   "source": [
    "df = {\"col1\" : [3,4,57,10,34,7, 89]}\n",
    "# \"col2\" : [1,2,3,4,5,6,7]}\n",
    "#casting dictionary into a dataframe\n",
    "dataframe =  pd.DataFrame(data = df)\n",
    "dataframe.sort_values(by = \"col1\", ascending = True, inplace = True)\n",
    "print(dataframe.tail(1))"
   ]
  },
  {
   "cell_type": "markdown",
   "metadata": {},
   "source": [
    "# Question 3\n",
    "\n",
    "## Write a function that generates a random number between 0-10.\n",
    "\n",
    "If the number is greater than 5, log “{number} is greater than five!”.\n",
    "\n",
    "If it is less than 5, log “{number} is less than five!”\n",
    "\n",
    "Question that should be asked:\n",
    "What should happen if the number equals five?\n",
    "\n",
    "Example:\n",
    "\n",
    "isFive()\n"
   ]
  },
  {
   "cell_type": "code",
   "execution_count": 25,
   "metadata": {},
   "outputs": [],
   "source": [
    "import random"
   ]
  },
  {
   "cell_type": "markdown",
   "metadata": {},
   "source": [
    "set a variable"
   ]
  },
  {
   "cell_type": "code",
   "execution_count": 28,
   "metadata": {},
   "outputs": [
    {
     "name": "stdout",
     "output_type": "stream",
     "text": [
      "The 2 is less than five\n"
     ]
    }
   ],
   "source": [
    "num = random.randint(0, 10)\n",
    "\n",
    "if num > 5:\n",
    "    print(f\"The {num} is greater than five!\")\n",
    "elif num < 5:\n",
    "    print(f\"The {num} is less than five\")\n",
    "else:\n",
    "    print(f\"{num} os five!\")"
   ]
  },
  {
   "cell_type": "markdown",
   "metadata": {},
   "source": [
    "# Question 4\n",
    "\n",
    "## Write a Python function that counts the number of vowels in a string.\n",
    "\n",
    "The vowels are \"a\", \"e\", \"i\", \"o\" & \"u\"\n",
    "\n",
    "Example:\n",
    "\n",
    "countVowels('hello') // --> 2\n",
    "countVowels('why') // --> 0\n"
   ]
  },
  {
   "cell_type": "markdown",
   "metadata": {},
   "source": [
    "Starting at zero and counting every character\n",
    "\n",
    "from my homework"
   ]
  },
  {
   "cell_type": "code",
   "execution_count": 29,
   "metadata": {},
   "outputs": [
    {
     "name": "stdout",
     "output_type": "stream",
     "text": [
      "\n",
      "Total vowels: 12\n"
     ]
    }
   ],
   "source": [
    "x = 'The quick brown fox jumps over the lazy dog'\n",
    "\n",
    "count = 0\n",
    "vowels = 'aeiouyAEIOUY'\n",
    "\n",
    "for char in (x):\n",
    "    if char in vowels:\n",
    "        count += 1\n",
    "\n",
    "print(f\"\\nTotal vowels: {count}\")\n"
   ]
  },
  {
   "cell_type": "code",
   "execution_count": 36,
   "metadata": {},
   "outputs": [
    {
     "name": "stdout",
     "output_type": "stream",
     "text": [
      "11\n"
     ]
    }
   ],
   "source": [
    "x = 'The quick brown fox jumps over the lazy dog'\n",
    "\n",
    "phrase  = x.lower()\n",
    "vowels = [\"a\", \"e\", \"i\", \"o\", \"u\"]\n",
    "count = 0\n",
    "\n",
    "for letter in phrase:\n",
    "    if letter in vowels:\n",
    "        count += 1\n",
    "print(count)"
   ]
  },
  {
   "cell_type": "markdown",
   "metadata": {},
   "source": [
    "# as a function"
   ]
  },
  {
   "cell_type": "code",
   "execution_count": 39,
   "metadata": {},
   "outputs": [
    {
     "name": "stdout",
     "output_type": "stream",
     "text": [
      "11\n",
      "7\n"
     ]
    }
   ],
   "source": [
    "def countVowels(phrase):\n",
    "    \n",
    "    phrase  = phrase.lower()\n",
    "    vowels = [\"a\", \"e\", \"i\", \"o\", \"u\"]\n",
    "    count = 0\n",
    "\n",
    "    for letter in phrase:\n",
    "        if letter in vowels:\n",
    "            count += 1\n",
    "    print(count)\n",
    "\n",
    "countVowels(\"The quick brown fox jumps over the lazy dog\")\n",
    "countVowels(\"I want to be sedated.\")"
   ]
  },
  {
   "cell_type": "markdown",
   "metadata": {},
   "source": [
    "# Question 5\n",
    "## Write a Python function that determines if a string is a palindrome.\n",
    "\n",
    "A palindrome is a string that is the same forward and backwards.\n",
    "\n",
    "Example:\n",
    "\n",
    "isPalindrome('racecar') // --> true\n",
    "isPalindrome('table') // --> false\n"
   ]
  },
  {
   "cell_type": "code",
   "execution_count": 41,
   "metadata": {},
   "outputs": [
    {
     "name": "stdout",
     "output_type": "stream",
     "text": [
      "True Palindrome\n",
      "Not a Palindrome\n"
     ]
    }
   ],
   "source": [
    "def isPalindrome(word):\n",
    "    reversedWord = word[::-1]\n",
    "\n",
    "    if word == reversedWord:\n",
    "        print(\"True Palindrome\")\n",
    "    else:\n",
    "        print(\"Not a Palindrome\")\n",
    "\n",
    "isPalindrome(\"racecar\")\n",
    "isPalindrome(\"table\")"
   ]
  },
  {
   "cell_type": "code",
   "execution_count": 42,
   "metadata": {},
   "outputs": [
    {
     "name": "stdout",
     "output_type": "stream",
     "text": [
      "racecar\n",
      "True\n",
      "elbat\n",
      "False\n"
     ]
    }
   ],
   "source": [
    "def isPalindrome(word):\n",
    "    reversedWord = word[::-1]\n",
    "    print(reversedWord)\n",
    "    print(word == reversedWord)\n",
    "\n",
    "isPalindrome(\"racecar\")\n",
    "isPalindrome(\"table\")"
   ]
  }
 ],
 "metadata": {
  "kernelspec": {
   "display_name": "Python 3",
   "language": "python",
   "name": "python3"
  },
  "language_info": {
   "codemirror_mode": {
    "name": "ipython",
    "version": 3
   },
   "file_extension": ".py",
   "mimetype": "text/x-python",
   "name": "python",
   "nbconvert_exporter": "python",
   "pygments_lexer": "ipython3",
   "version": "3.13.2"
  }
 },
 "nbformat": 4,
 "nbformat_minor": 2
}
