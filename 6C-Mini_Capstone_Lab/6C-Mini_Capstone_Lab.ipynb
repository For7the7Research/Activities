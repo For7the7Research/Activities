{
 "cells": [
  {
   "cell_type": "markdown",
   "metadata": {},
   "source": [
    "# LAB: \"Mini Capstone\"\n",
    "## GOAL: Get a feel for the Capstone project by going through the whole process in one night!\n",
    "\n",
    "1. Acquire a dataset (no 1000-cell minimum like in the real capstone). Try picking something that looks interesting from the Kaggle Trending page.\n",
    "1. Use Pandas to import the dataset into Python"
   ]
  },
  {
   "cell_type": "code",
   "execution_count": 1,
   "metadata": {},
   "outputs": [
    {
     "data": {
      "application/vnd.microsoft.datawrangler.viewer.v0+json": {
       "columns": [
        {
         "name": "index",
         "rawType": "int64",
         "type": "integer"
        },
        {
         "name": "title",
         "rawType": "object",
         "type": "string"
        },
        {
         "name": "description",
         "rawType": "object",
         "type": "unknown"
        },
        {
         "name": "rating",
         "rawType": "float64",
         "type": "float"
        },
        {
         "name": "year",
         "rawType": "float64",
         "type": "float"
        },
        {
         "name": "tags",
         "rawType": "object",
         "type": "string"
        },
        {
         "name": "cover",
         "rawType": "object",
         "type": "string"
        }
       ],
       "conversionMethod": "pd.DataFrame",
       "ref": "296539ef-99f3-44cc-9353-f13760c43d33",
       "rows": [
        [
         "0",
         "Salad Days (Tang LiuZang) - Part 2",
         "The second season of Salad Days (Tang LiuZang).",
         "4.7",
         "2021.0",
         "['BL', 'Manhua', 'Romance', 'Shounen-ai', 'Sports', 'Webtoons', 'Full Color']",
         "https://cdn.anime-planet.com/manga/primary/salad-days-tang-liuzang-part-2-1-285x399.jpg?t=1638084843"
        ],
        [
         "1",
         "The Master of Diabolism",
         "As the grandmaster who founded the Demonic Sect, Wei WuXian roamed the world in his wanton ways, hated by millions for the chaos he created. In the end, he was back-stabbed by his dearest shidi and killed by powerful clans that combined to overpower him. He incarnates into the body of a lunatic who was abandoned by his clan and is later, unwillingly, taken away by a famous cultivator among the clans—Lan WangJi, his archenemy.",
         "4.7",
         "2017.0",
         "['Action', 'Adventure', 'BL', 'Comedy', 'Manhua', 'Mystery', 'Romance', 'Shounen-ai', 'Ancient China', 'Cultivation', 'Martial Arts', 'Supernatural', 'Xianxia', 'Mature Themes', 'Suicide', 'Violence', 'Based on a Web Novel']",
         "https://cdn.anime-planet.com/manga/primary/the-master-of-diabolism-1-190x252.jpg?t=1625917239"
        ],
        [
         "2",
         "JoJo's Bizarre Adventure Part 7: Steel Ball Run",
         "Set in 1890, Steel Ball Run spotlights Gyro Zepelli and Johnny Joestar as they pit their spirits on a Fifty Million Dollar race across the heart of America. Their track quickly becomes a no-rules land as the racers' dreams collide and only human will spurs them on. But there is more to this race than any contestant realized and each of them soon grasps the real size of their world.",
         "4.7",
         "2004.0",
         "['Action', 'Adventure', 'Horror', 'Mystery', 'Seinen', '19th Century', 'America', 'Historical']",
         "https://cdn.anime-planet.com/manga/primary/jojos-bizarre-adventure-part-7-steel-ball-run-1-185x300.jpg?t=1625909521"
        ],
        [
         "3",
         "A Sign of Affection",
         "Yuki is a typical college student, whose world revolves around her friends, social media, and the latest sales. But when a chance encounter on a train leads to her meeting friend-of-a-friend and fellow student Itsuomi-san, her world starts to widen. But even though Itsuomi-kun can speak three languages, sign language isn’t one of them. Can the two learn to communicate the budding feelings between them?",
         "4.7",
         "2019.0",
         "['Romance', 'Shoujo', 'Slice of Life', 'Disability']",
         "https://cdn.anime-planet.com/manga/primary/a-sign-of-affection-1-190x285.jpg?t=1625922916"
        ],
        [
         "4",
         "Moriarty the Patriot",
         "Before he was Sherlock’s rival, Moriarty fought against the unfair class caste system in London by making sure corrupt nobility got their comeuppance. But even the best-intentioned plans can spin out of control—will Moriarty’s dream of a more just and equal world turn him into a hero…or a monster?",
         "4.7",
         "2016.0",
         "['Mystery', 'Shounen', 'Detectives', 'England', 'Europe', 'Historical', 'Sherlock Holmes', 'Adapted to Anime', 'Based on a Novel']",
         "https://cdn.anime-planet.com/manga/primary/moriarty-the-patriot-1-190x285.jpg?t=1625916116"
        ],
        [
         "5",
         "Classroom of the Elite (Light Novel)",
         "At the prestigious Tokyo Metropolitan Advanced Nurturing High School, which aims to produce the country’s future leaders, students are given remarkable freedom. However, they also have to deal with a point system that decides one’s place in the school’s hierarchy! Ayanokoji Kiyotaka has landed at the bottom in the scorned Class D, where he meets Horikita Suzune, who’s determined to work her way back up to Class A, and Kushida Kikyo, who seems like she only wants to make friends. Can they advance through this school where cutthroat competition is the name of the game?",
         "4.7",
         "2015.0",
         "['Comedy', 'Drama', 'Ecchi', 'Harem', 'Light Novels', 'Romance', 'Boarding School', 'School Life', 'Adapted to Anime']",
         "https://cdn.anime-planet.com/manga/primary/classroom-of-the-elite-light-novel-1-285x403.jpg?t=1630446924"
        ],
        [
         "6",
         "Who Made Me a Princess",
         "The beautiful Athanasia was killed at the hands of her own biological father, Claude de Alger Obelia, the cold-blooded emperor! It’s just a silly bedtime story… until one woman wakes up to suddenly find she’s become that unfortunate princess! She needs a plan to survive her doomed fate, and time is running out. Will she go with Plan A, live as quietly as possible without being noticed by the infamous emperor? Plan B, collect enough money to escape the palace? Or will she be stuck with plan C, sweet-talking her way into her father’s good graces?!",
         "4.7",
         "2017.0",
         "['Fantasy', 'Manhwa', 'Romance', 'Slice of Life', 'Webtoons', 'Full Color', 'Isekai', 'Magic', 'Person in a Strange World', 'Political', 'Reincarnation', 'Royalty', 'Based on a Web Novel']",
         "https://cdn.anime-planet.com/manga/primary/who-made-me-a-princess-1-190x266.jpg?t=1625919708"
        ],
        [
         "7",
         "Demon Slayer: Kimetsu no Yaiba",
         "The setting is Taisho era Japan. Tanjirou is a kindhearted young boy who lived peacefully with his family as a coal seller. Their normal life changes completely when his family is slaughtered by demons. The only other survivor, Tanjirou's younger sister Nezuko, has become a ferocious demon. In order to return Nezuko to normal and get revenge on the demon that killed their family, the two of them depart on a journey. From a young talent, an adventure tale of blood and swords begins!",
         "4.7",
         "2016.0",
         "['Action', 'Adventure', 'Comedy', 'Drama', 'Fantasy', 'Shounen', 'Death of a Loved One', 'Demons', 'Historical', 'Martial Arts', 'Orphans', 'Siblings', 'Explicit Violence', 'Adapted to Anime']",
         "https://cdn.anime-planet.com/manga/primary/demon-slayer-kimetsu-no-yaiba-1-285x428.jpg?t=1634713702"
        ],
        [
         "8",
         "Omniscient Reader (Novel)",
         "One day, our MC finds himself stuck in the world of his favorite web novel. What should he do to survive? It's a world struck by catastrophe and danger all around. His edge? He knows the plot of the story to end, because he was the sole reader that stuck with it. ",
         "4.7",
         "2018.0",
         "['Action', 'Adventure', 'Drama', 'Fantasy', 'Manhwa', 'Web Novels', 'Cheats', 'High Stakes Games', 'Martial Arts', 'Play or Die', 'Psychological', 'Urban Fantasy']",
         "https://cdn.anime-planet.com/manga/primary/omniscient-reader-novel-1-190x266.jpg?t=1625919886"
        ],
        [
         "9",
         "Omniscient Reader",
         "Back then, Dokja had no idea. He had no idea his favorite web novel 'Three Ways to Survive the Apocalypse' was going to come to life, and that he would become the only person to know how the world was going to end. He also had no idea he would end up becoming the protagonist of this novel-turned-reality. Now, Dokja will go on a journey to change the course of the story and save humankind once and for all.",
         "4.7",
         "2020.0",
         "['Action', 'Adventure', 'Drama', 'Fantasy', 'Manhwa', 'Webtoons', 'Cheats', 'Full Color', 'High Stakes Games', 'Play or Die', 'Psychological', 'PVE', 'PVP', 'RPG', 'Survival', 'Urban Fantasy', 'Explicit Violence', 'Based on a Web Novel']",
         "https://cdn.anime-planet.com/manga/primary/omniscient-reader-1-285x409.jpg?t=1628025756"
        ],
        [
         "10",
         "Tower of God - Part 3",
         "The third season of Tower of God.",
         "4.7",
         "2019.0",
         "['Action', 'Adventure', 'Drama', 'Fantasy', 'Manhwa', 'Webtoons', 'Full Color', 'Violence']",
         "https://cdn.anime-planet.com/manga/primary/tower-of-god-part-3-1-190x266.jpg?t=1625921019"
        ],
        [
         "11",
         "Yotsuba&!",
         "Meet Yotsuba Koiwai, the strangest little girl around. With a mind so straight it's twisted, Yotsuba takes everything in life at face value and sees everything with the eyes of impenetrable innocence. With her laid-back father, Yotsuba moves into a new house and makes new friends - friends whose minds boggle at the wacky and somewhat wise way that Yotsuba lives her daily life!",
         "4.7",
         "2003.0",
         "['Comedy', 'Shounen', 'Slice of Life', 'Iyashikei', 'Single Parent']",
         "https://cdn.anime-planet.com/manga/primary/yotsuba-1-190x284.jpg?t=1625907491"
        ],
        [
         "12",
         "Bastard",
         "Jin has lived a tough life. One of his oldest memories is waking up in the hospital, having received an artificial heart valve, and a glass eye. And as a student, he's relentlessly bullied for his disabilities. But Jin's school life is nothing compared to his home life, where he's raised by his father, a serial killer who targets young women and forces the boy to act as his accomplice. Can Jin do anything to stop his father's reign of terror without becoming the next victim?",
         "4.7",
         "2014.0",
         "['Drama', 'Horror', 'Manhwa', 'Romance', 'Webtoons', 'Criminals', 'Disability', 'Dysfunctional Families', 'Full Color', 'Mind Games', 'Psychological', 'Psychopaths', 'Serial Killers', 'Thriller', 'Bullying', 'Emotional Abuse', 'Explicit Violence', 'Mature Themes', 'Physical Abuse', 'Domestic Abuse']",
         "https://cdn.anime-planet.com/manga/primary/bastard-1-190x289.jpg?t=1625913904"
        ],
        [
         "13",
         "Tower of God - Part 2",
         "The second season of Tower of God.",
         "4.7",
         "2012.0",
         "['Action', 'Adventure', 'Drama', 'Fantasy', 'Manhwa', 'Webtoons', 'Full Color', 'High Stakes Games', 'Violence']",
         "https://cdn.anime-planet.com/manga/primary/tower-of-god-part-2-1-190x272.jpg?t=1625910760"
        ],
        [
         "14",
         "I’m Really Not the Devil’s Lackey",
         "Lin Jie, who has transmigrated into this world, runs a bookshop. Nice and passionate, he always recommends books that are capable of healing one's soul to customers who find themselves in a rough patch in life. Occasionally, he would recommend his own work to them as well. Over time, these customers have grown to respect him a lot. They bring him some simple souvenirs every day to repay him and ask him for recommendations of literary works. At the same time, they tell the people around them about this bookstore owner as well. They have respectful and affectionate ways of addressing him-\"The Devil's Hyena\", \"The Communicator of Flesh Gospel of Books\", \"The Author of the Corpse Ritual\" and \" The Star Shepard\".",
         "4.7",
         "2021.0",
         "['Fantasy', 'Manhua', 'Webtoons', 'Bookstore', 'Full Color', 'Isekai', 'Person in a Strange World', 'Based on a Web Novel']",
         "https://cdn.anime-planet.com/manga/primary/im-really-not-the-devils-lackey-1-285x399.webp?t=1646215508"
        ],
        [
         "15",
         "Umarekawatte mo mata, Watashi to Kekkon shite kuremasu ka?",
         "Toranosuke fell in love with his servant Kaoru. For twenty years, they slowly developed their love for each other, thus a Showa couple of clumsy husband and muscle brained wife was born. They spend a lot of time together, and they begin to talk in a nostalgic manner in Toranosuke's hospital room. Gentle memories of a deeply in love husband and wife.",
         "4.7",
         "2017.0",
         "['Comedy', 'Drama', 'Romance', 'Historical', 'Mature Romance']",
         "https://cdn.anime-planet.com/manga/primary/umarekawatte-mo-mata-watashi-to-kekkon-shite-kuremasu-ka-1-190x272.jpg?t=1625922274"
        ],
        [
         "16",
         "Banana Fish",
         "Nature made Ash Lynx beautiful; nurture made him a cold ruthless killer. A runaway brought up as the adopted heir and sex toy of \"Papa\" Dino Golzine, Ash, now at the rebellious age of seventeen, forsakes the kingdom held out by the devil who raised him. But the hideous secret that drove Ash's older brother mad in Vietnam has suddenly fallen into Papa's insatiably ambitious hands--and it's exactly the wrong time for Eiji Okamura, a pure-hearted young photographer from Japan, to make Ash Lynx's acquaintance...",
         "4.7",
         "1985.0",
         "['Action', 'Adventure', 'Drama', 'Mystery', 'Shoujo', 'America', 'Delinquents', 'Guns', 'Hand to Hand Combat', 'Psychological', 'Drug Use', 'Emotional Abuse', 'Mature Themes', 'Nudity', 'Physical Abuse', 'Sexual Abuse', 'Sexual Content', 'Adapted to Anime']",
         "https://cdn.anime-planet.com/manga/primary/banana-fish-1-285x429.jpg?t=1629834461"
        ],
        [
         "17",
         "Teenage Mercenary",
         "At the age of eight, Ijin Yu lost his parents in a plane crash and became stranded in a foreign land, forced to become a child mercenary in order to stay alive. He returns home ten years later to be reunited with his family in Korea, where food and shelter are plenty and everything seems peaceful. But Ijin will soon learn that life as a teenager is a whole other feat of survival. With only one year of high school left, Ijin must master new tactics to maneuver his way around the schoolhouse battleground. Can he survive a year of high school? Or rather, will the school be able to survive him?",
         "4.7",
         "2020.0",
         "['Action', 'Drama', 'Manhwa', 'Webtoons', 'Full Color', 'Lifestyle Change', 'School Life']",
         "https://cdn.anime-planet.com/manga/primary/teenage-mercenary-1-190x266.jpg?t=1625929294"
        ],
        [
         "18",
         "I Want to Eat Your Pancreas (Novel)",
         "In this deeply moving first-person story, a high school boy finds the diary of his classmate—and discovers that she’s dying. Yamauchi Sakura has been silently suffering from a pancreatic disease in school, and now exactly one person outside her family knows. He swears to her that he won’t tell anyone what he learned, and the shared secret brings them closer together. The two have very little in common, but they find themselves drawn to each other in Sakura’s final months to live.",
         "4.7",
         "2015.0",
         "['Drama', 'Romance', 'Coming of Age', 'Illness', 'Novels', 'Opposites Attract', 'School Life', 'Adapted to Anime', 'Based on a Web Novel']",
         "https://cdn.anime-planet.com/manga/primary/i-want-to-eat-your-pancreas-novel-1-190x267.jpg?t=1625916704"
        ],
        [
         "19",
         "Our Dreams at Dusk: Shimanami Tasogare",
         "Not only is high schooler Tasuku Kaname the new kid in town, he's also terrified that he's been outed as gay. Just as he's contemplating doing the unthinkable, Tasuku meets a mysterious woman who leads him to a group of people dealing with problems not so different from his own. In this realistic, heartfelt depiction of LGBT+ characters from different backgrounds finding their place in the world, a search for inner peace proves to be the most universal experience of all.",
         "4.7",
         "2015.0",
         "['Drama', 'Seinen', 'LGBT Themes', 'Psychological', 'School Life', 'Bullying']",
         "https://cdn.anime-planet.com/manga/primary/our-dreams-at-dusk-shimanami-tasogare-1-190x271.jpg?t=1625914553"
        ],
        [
         "20",
         "Spirit Fingers!",
         "What do you do if you're going on 18, totally awkward and lacking in self- confidence? You could just sit in your room all day and all night and study and wonder why you never get asked out…OR, if you’re Amy Song you could join up with the Spirit Fingers – the strangest, hippest, coolest (yet most welcoming) art club ever. But as Amy is about to learn, discovering your TRUE colors is about more than just painting.",
         "4.7",
         "2015.0",
         "['Comedy', 'Manhwa', 'Romance', 'Webtoons', 'Full Color', 'School Club']",
         "https://cdn.anime-planet.com/manga/primary/spirit-fingers-1-190x266.jpg?t=1625914644"
        ],
        [
         "21",
         "Your Letter",
         "Sori is a special young girl - kind, caring and principled well beyond her years. Unfortunately, these are NOT the personality traits generally celebrated in middle school – especially Sori’s, where she’s bullied mercilessly for defending the defenseless until she herself becomes a target. To escape, she transfers to a new school where the same old problems begin to play out all over again – that is until a mysterious trail of letters leads Sori on a magical scavenger hunt through the hidden world that exists right below the surface of her new middle school. The mail trail is the work an anonymous guardian angel, whose mission seems to be to provide a soft landing for Sori at her new school. But who is this person? And why did he choose her? With each letter, secrets are revealed and bonds are formed - as Sori learns about friendship, flora, fauna and finding the good in people in this strange new environment.",
         "4.7",
         "2018.0",
         "['Adventure', 'Drama', 'Manhwa', 'Mystery', 'Webtoons', 'Full Color', 'School Life', 'Bullying']",
         "https://cdn.anime-planet.com/manga/primary/your-letter-1-190x270.jpg?t=1625920730"
        ],
        [
         "22",
         "Only I Level Up (Novel)",
         "In this world where Hunters with various magical powers battle monsters from invading the defenceless humanity, Sung Jin-Woo was the weakest of all the Hunters, barely able to make a living. However, a mysterious System grants him the power of the ‘Player’, setting him on a course for an incredible and often times perilous Journey. Follow Sung Jin-Woo as he embarks on an adventure to become an unparalleled existence through his “Level-Up” system - the only one in the entire world!",
         "4.7",
         "2016.0",
         "['Action', 'Adventure', 'Fantasy', 'Manhwa', 'Web Novels', 'Dungeon', 'Magic', 'RPG', 'Weak to Strong']",
         "https://cdn.anime-planet.com/manga/primary/only-i-level-up-novel-1-190x271.jpg?t=1625920159"
        ],
        [
         "23",
         "Bloom Into You",
         "Yuu has always loved shoujo manga and awaits the day she gets a love confession that sends her heart aflutter with bubbles and hearts, and yet when a junior high classmate confesses his feelings to her...she feels nothing. Disappointed and confused, Yuu enters high school still unsure how to respond. That's when Yuu sees the beautiful student council president Nanami turn down a suitor with such maturity that she's inspired to ask her for help. But when the next person to confess to Yuu is Nanami herself, has her shoujo romance finally begun?",
         "4.7",
         "2015.0",
         "['Drama', 'GL', 'Romance', 'Shoujo-ai', 'Shounen', 'LGBT Themes', 'Love Confession', 'Love Triangle', 'School Life', 'Senpai-Kouhai Relationship', 'Student Council', 'Adapted to Anime']",
         "https://cdn.anime-planet.com/manga/primary/bloom-into-you-1-190x271.jpg?t=1625913980"
        ],
        [
         "24",
         "The Male Lead's Little Lion Daughter",
         "The handsome Duke Voreoti is the most terrifying man in the empire, with the coldest of demeanors and a gaze that can kill. But one day, he suddenly says that he wants to… adopt a child?! And that child is me?! After finding me at a shady orphanage, he whisked me away to his snowy palace without a second thought. Now I’m learning all the ways of the feared Voreoti family from his knights. However, things get dicey when the Duke becomes suspicious of my origins. With these fangs and jet black hair, perhaps we are more than just kindred spirits…",
         "4.7",
         "2021.0",
         "['Comedy', 'Drama', 'Fantasy', 'Manhwa', 'Romance', 'Webtoons', 'Full Color', 'Nobility', 'Person in a Strange World', 'Transported Into a Novel', 'Based on a Web Novel']",
         "https://cdn.anime-planet.com/manga/primary/the-male-leads-little-lion-daughter-1-285x399.webp?t=1640373784"
        ],
        [
         "25",
         "20th Century Boys",
         "The world is never quite the same once we grow up. Villains and robots that once ran rampant in our imaginations are reduced to drawings in Manga, and our lives are distilled until there is little left but the daily grind; so it has been for Kenji. After a childhood of dreams he now runs his late father's liquor store and is raising his sister's child. The memories and friends from his early years bring him some happiness, but they become tainted as a string of murders find connections to his past. Kenji and his friends must now fight to save the future from their past and unravel the mystery of \"Friend.\"",
         "4.7",
         "1999.0",
         "['Action', 'Drama', 'Mystery', 'Sci Fi', 'Seinen', 'Historical', 'Psychological']",
         "https://cdn.anime-planet.com/manga/primary/20th-century-boys-1-190x275.jpg?t=1625907535"
        ],
        [
         "26",
         "Vagabond",
         "Following a horrific defeat at the battle of Sekigahara, two survivors, Takezo Shinmen and Matahachi Hon’iden, are deflated at having been unable to make a name for themselves and earn glory on the battlefield. But while Matahachi is anxious to go home, Takezo has vowed never to return and intends to become a vagabond, travelling the country polishing and testing his skills as a swordsman. With a beastial mercilessness when it comes to killing and a habit of cutting down all in his path, it doesn’t take long for Takezo to become a wanted fugitive. However, after being captured by a monk named Takuan and given a new lease of life, Takezo begins to live under the name of Musashi Miyamoto. Now, with a new view on life and death, Musashi continues to travel the nation challenging the most infamous fighters to achieve his goal of becoming the strongest samurai ever known.",
         "4.7",
         "1998.0",
         "['Action', 'Adventure', 'Drama', 'Seinen', '17th Century', 'Feudal Japan', 'Hiatus', 'Historical', 'Samurai', 'Swordplay', 'Explicit Violence']",
         "https://cdn.anime-planet.com/manga/primary/vagabond-1-190x272.jpg?t=1625908170"
        ],
        [
         "27",
         "Roxana",
         "Kidnapping, murder, and risqué relationships! Within the scandalous pages of The Abysmal Flower, the downfall of Roxana Agrece’s criminal family is already foretold. So when Cassis Pedelian, the heroine’s older brother, is kidnapped by Roxana’s father, she can either wait for the heroine’s revenge... or take matters into her own hands, since Cassis is the key to her survival. But with deceitful characters on all sides, can Roxana and Cassis trust each other enough to bring down the brutal Agreces?",
         "4.7",
         "2021.0",
         "['Drama', 'Fantasy', 'Manhwa', 'Romance', 'Webtoons', 'Full Color', 'Isekai', 'Person in a Strange World', 'Psychological', 'Transported Into a Novel', 'Based on a Web Novel']",
         "https://cdn.anime-planet.com/manga/primary/roxana-1-285x399.jpg?t=1629329045"
        ],
        [
         "28",
         "Nano Machine",
         "After being held in disdain and having his life put in danger, an orphan from the Demonic Cult, Cheon Yeo-Woon, has an unexpected visit from his descendant from the future who inserts a nano machine into Cheon Yeo-Woon's body, which drastically changes Cheon Yeo-Woon's life after its activation. The story of Cheon Yeo-Woon's journey of bypassing the Demonic Cult and rising to become the best martial artist has just begun.",
         "4.7",
         "2020.0",
         "['Action', 'Adventure', 'Fantasy', 'Manhwa', 'Sci Fi', 'Webtoons', 'Full Color', 'Martial Arts', 'Based on a Web Novel']",
         "https://cdn.anime-planet.com/manga/primary/nano-machine-1-190x266.jpg?t=1625927193"
        ],
        [
         "29",
         "GTO",
         "With a history of leading a motorcycle gang and getting bad grades in school, why would 22 year old Onizuka ever want to become a teacher? Is it to educate young minds or spread the joy of education? Sure, if it involves being able to look up high school girls' skirts! Watch as this would-be educator uses his own life lessons and unconstituted methods as a means to control a delinquent class of students -- students who certainly aren't as happy to have him as a teacher as he is happy to be teaching...",
         "4.7",
         "1996.0",
         "['Comedy', 'Drama', 'Ecchi', 'Shounen', 'Delinquents', 'School Life', 'Slapstick', 'Teaching', 'Work Life', 'Bullying', 'Emotional Abuse', 'Adapted to Anime']",
         "https://cdn.anime-planet.com/manga/primary/gto-1-190x285.jpg?t=1625908141"
        ],
        [
         "30",
         "Level Up with the Gods",
         "“Maybe Inner Gods can never defeat Outer Gods…” so thought Yuwon Kim, a plucky, high-ranking warrior, after a bitter defeat. But Yuwon is too tenacious to give up. His loss becomes the dawn of a new journey as a returnee. With renewed determination, Yuwon starts back from where he began, smashing monster after monster and relearning his skills before taking on the Tower once again. But can he fight his way through the tutorials and level up once more, or will his conquest crumble before him?",
         "4.7",
         "2021.0",
         "['Action', 'Adventure', 'Fantasy', 'Manhwa', 'Webtoons', 'Full Color', 'Second Chance', 'Supernatural', 'Time Travel', 'Based on a Web Novel']",
         "https://cdn.anime-planet.com/manga/primary/level-up-with-the-gods-1-285x399.webp?t=1641972910"
        ],
        [
         "31",
         "Kaguya-sama: Love Is War",
         "As leaders of their prestigious academy’s student council, Kaguya and Miyuki are the elite of the elite! But it’s lonely at the top… Luckily for them, they’ve fallen in love! There’s just one problem—they both have too much pride to admit it. And so begins the daily scheming to get the object of their affection to confess their romantic feelings first…Love is a war you win by losing.",
         "4.7",
         "2015.0",
         "['Comedy', 'Drama', 'Romance', 'Seinen', 'Episodic', 'Love Confession', 'Mind Games', 'School Life', 'Student Council', 'Adapted to Anime']",
         "https://cdn.anime-planet.com/manga/primary/kaguya-sama-love-is-war-1-190x285.jpg?t=1625914338"
        ],
        [
         "32",
         "Sign",
         "There are a few unusual things about Cafe Goyo. Number one, their coffee sucks. Number two, their customers never order off the menu. And number three, Yohan, the cafe manager, is deaf. So when Soohwa joins as a part-timer, though he is not expected to learn how to make good coffee, he is asked to expand his sign language vocabulary beyond the words, “higher,” “pay,” and “please.” But when Yohan offers to give him private lessons, Soohwa is reluctant. Not because he doesn’t want to study, but because he has a “hard” time around Yohan. Like, literally. He gets hard. Whenever he hears Yohan’s deep, sexy voice.",
         "4.7",
         "2017.0",
         "['BL', 'Comedy', 'Manhwa', 'Romance', 'Slice of Life', 'Webtoons', 'Yaoi', 'Adult Couples', 'Boss-Employee Relationship', 'Cafe', 'Cohabitation', 'Disability', 'Fetish', 'Full Color', 'Mature Romance', 'Smut', 'Explicit Sex']",
         "https://cdn.anime-planet.com/manga/primary/sign-1-190x266.jpg?t=1625916752"
        ],
        [
         "33",
         "Three Days of Happiness (Light Novel)",
         "In this dark, moody love story, college student Kusunoki decides to sell off the next thirty years of his life at a mysterious shop in exchange for money—and maybe a chance to find something worth living for.",
         "4.7",
         "2013.0",
         "['Drama', 'Light Novels', 'Romance', 'Slice of Life', 'Mysterious Shop', 'Psychological', 'Supernatural']",
         "https://cdn.anime-planet.com/manga/primary/three-days-of-happiness-light-novel-1-190x285.jpg?t=1625917101"
        ],
        [
         "34",
         "The Legend of the Northern Blade",
         "For decades, the brave warriors of the Northern Heavenly Sect fought to keep the world safe from the evil Silent Night. But when the fourth generation leader is accused of colluding with the enemy, he is forced to disband the sect and commit suicide to protect his son, Moowon. With no family and allies left, Moowon leads a dreary life under close surveillance... until a surprise attack from the Silent Night gives him a chance to escape to the mountains. There, the young warrior trains to master the fighting techniques of his predecessors, before the mysterious disappearance of a loved one brings him back to the mainland. Follow Moowon as he embarks on a journey to avenge his father’s death and take down the villains who threaten to plunge the world into darkness!",
         "4.7",
         "2019.0",
         "['Action', 'Adventure', 'Fantasy', 'Manhwa', 'Webtoons', 'Full Color', 'Martial Arts', 'Revenge']",
         "https://cdn.anime-planet.com/manga/primary/the-legend-of-the-northern-blade-1-285x399.jpg?t=1638497726"
        ],
        [
         "35",
         "The Horizon",
         "Two children unexpectedly meet in the midst of war. After running away from the chaos, they come across a long empty road. With no adults to rely on, the two strangers, now become friends, walk alongside each other to see what's at the end of the road. All they hope is to keep being able to move forward. Just what kind of trials and tragedy awaits them during their journey for survival?",
         "4.7",
         "2016.0",
         "['Drama', 'Manhwa', 'Webtoons', 'Melancholy', 'Survival', 'War', 'Mature Themes', 'Suicide', 'Violence']",
         "https://cdn.anime-planet.com/manga/primary/the-horizon-1-190x275.jpg?t=1625916048"
        ],
        [
         "36",
         "Skip Beat!",
         "Kyoko moves to the big city with the prince of her dreams Shotaro; he wants to make it big in the entertainment business, so she works hard at many different jobs to support him as he achieves his dream. However, one day, Kyoko accidentally discovers the horrible truth: the love of her life thinks of her as a 'plain and boring woman!' Outraged, Kyoko swears revenge - she will make it even bigger than Shotaro in the entertainment world. The only question is, how will she fulfill her desire?",
         "4.7",
         "2002.0",
         "['Comedy', 'Drama', 'Romance', 'Shoujo', 'Slice of Life', 'Acting', 'Idols', 'Showbiz', 'Work Life', 'Adapted to Anime']",
         "https://cdn.anime-planet.com/manga/primary/skip-beat-1-190x285.jpg?t=1625908039"
        ],
        [
         "37",
         "10 Years That I Loved You the Most",
         "I've loved you the most for most of my life. Now I am a piece of crumpled paper in the corner you would never glimpse. I thought you would be my today and all of my tomorrows. I imagined that someday you would turn around again and stare at me with all your love. However, when our love is gone, I'll just pick a sunny afternoon with gentle wind, put on my coat and leave for good...",
         "4.6",
         "2018.0",
         "['BL', 'Drama', 'Manhua', 'Slice of Life', 'Webtoons', 'Yaoi', 'Full Color', 'Melancholy', 'Mature Themes', 'Sexual Abuse', 'Sexual Content', 'Suicide', 'Based on a Novel']",
         "https://cdn.anime-planet.com/manga/primary/10-years-that-i-loved-you-the-most-1-190x266.jpg?t=1625919504"
        ],
        [
         "38",
         "Pirouette into My Heart",
         "Known as “the little swan” of his ballet studio, Shen has big dreams of leaving the humble farming town he grew up in and shooting to stardom. Though soft-spoken and timid, he meets his match in the stoic, wealthy, and equally as intense Jinyi, who pursues boxing next door. An unlikely pair, they cheer each other on and raise each other up through thick and thin. Determined to achieve their separate ambitions in the midst of their personal troubles, will their deep connection be strong enough to endure the journey and take flight?",
         "4.6",
         "2019.0",
         "['BL', 'Manhua', 'Romance', 'Shounen-ai', 'Sports', 'Webtoons', 'Ballet Dancing', 'Boxing', 'Dancing', 'Full Color', 'Hand to Hand Combat', 'Based on a Web Novel']",
         "https://cdn.anime-planet.com/manga/primary/pirouette-into-my-heart-1-285x398.webp?t=1641779480"
        ],
        [
         "39",
         "Classroom of the Elite: Year 2 (Light Novel)",
         "Students of the prestigious Tokyo Metropolitan Advanced Nurturing High School are given remarkable freedom–if they can win, barter, or save enough points to work their way up the ranks! Ayanokouji Kiyotaka started at the bottom in the scorned Class D, where he met Horikita Suzune, who was determined to rise up the ladder to Class A. Who can beat the system in a school where cutthroat competition is the name of the game? The second year of this intense school drama begins now!",
         "4.6",
         "2020.0",
         "['Comedy', 'Drama', 'Light Novels', 'Romance', 'Boarding School', 'Psychological', 'School Life']",
         "https://cdn.anime-planet.com/manga/primary/classroom-of-the-elite-year-2-light-novel-1-285x405.jpg?t=1632623188"
        ],
        [
         "40",
         "SQ: Begin W/Your Name!",
         "When Sun Jing in Affiliated No.2 Middle School encounters with Qiutong of South Middle School, a small episode makes Sun remember the girl whose smile as warm as sunshine. Their schools are adjacent, so Sun Jing always meets Qiu at the bus station. He starts to keep an eye on the girl and they become friends since then.",
         "4.6",
         "2014.0",
         "['Comedy', 'GL', 'Manhua', 'Romance', 'Shoujo-ai', 'Webtoons', 'School Life']",
         "https://cdn.anime-planet.com/manga/primary/sq-begin-w-your-name-1-190x258.jpg?t=1625913638"
        ],
        [
         "41",
         "Spice and Wolf (Light Novel)",
         "The life of a traveling merchant is a lonely one, a fact with which Kraft Lawrence is well acquainted. Wandering from town to town with just his horse, cart, and whatever wares have come his way, the peddler has pretty well settled into his routine—that is, until the night Lawrence finds a wolf goddess asleep in his cart. Taking the form of a fetching girl with wolf ears and a tail, Holo has wearied of tending to harvests in the countryside and strikes up a bargain with the merchant to lend him the cunning of \"Holo the Wisewolf\" to increase his profits in exchange for taking her along on his travels. What kind of businessman could turn down such an offer? Lawrence soon learns, though, that having an ancient goddess as a traveling companion can be a bit of a mixed blessing. Will this wolf girl turn out to be too wild to tame?",
         "4.6",
         "2006.0",
         "['Adventure', 'Drama', 'Fantasy', 'Light Novels', 'Romance', 'Adult Couples', 'Animal Characteristics', 'Animal Transformation', 'Economics', 'God-Human Relationship', 'Interspecies Relationship', 'Mature Romance', 'Medieval', 'Non-Human Protagonists', 'Political', 'Adapted to Anime']",
         "https://cdn.anime-planet.com/manga/primary/spice-and-wolf-light-novel-1-285x429.jpg?t=1630622455"
        ],
        [
         "42",
         "Mage & Demon Queen - Part 3",
         "The third season of Mage & Demon Queen.",
         "4.6",
         "2021.0",
         "['Comedy', 'Fantasy', 'GL', 'OEL', 'Romance', 'Shoujo-ai', 'Webtoons', 'Full Color']",
         "https://cdn.anime-planet.com/manga/primary/mage-and-demon-queen-part-3-1-190x266.jpg?t=1625932419"
        ],
        [
         "43",
         "Mage & Demon Queen - Part 2",
         "The second season of Mage & Demon Queen.",
         "4.6",
         "2019.0",
         "['Comedy', 'Fantasy', 'GL', 'OEL', 'Romance', 'Shoujo-ai', 'Webtoons', 'Demon King', 'Demons', 'Full Color', 'Interspecies Relationship', 'Magic', 'Royalty']",
         "https://cdn.anime-planet.com/manga/primary/mage-and-demon-queen-part-2-1-190x266.jpg?t=1625923070"
        ],
        [
         "44",
         "Kamisama Kiss",
         "Nanami used to live in a ramshackle apartment with her father - a man who spent half his time gambling and the other half hiding from debt collectors - until one day the scoundrel ran away, leaving his daughter hungry and homeless. That is, until she meets a mysterious stranger in the park who deems her the new goddess of a local shrine! Unfortunately, Nanami’s new home is occupied by Tomoe, a fox familiar who objects to the presence of a mere mortal and immediately begins to bicker with the girl. If she can manage to form a contract with the troublesome man, he’ll be obligated to accept and help her perform her duties. But there’s a catch: Nanami has to kiss him first, and who’d want to lock lips with that awful guy?!",
         "4.6",
         "2008.0",
         "['Comedy', 'Drama', 'Fantasy', 'Romance', 'Shoujo', 'Animal Characteristics', 'Interspecies Relationship', 'Japanese Mythology', 'Master-Servant Relationship', 'Non-Human Protagonists', 'Youkai', 'Violence', 'Adapted to Anime']",
         "https://cdn.anime-planet.com/manga/primary/kamisama-kiss-1-190x285.jpg?t=1625908371"
        ],
        [
         "45",
         "Vinland Saga",
         "Ten years ago, a strong warrior named Thors lost his life in a fight with Askeladd - a powerful and ruthless Viking. Having witnessed his demise, Thors’ son, Thorfinn, became consumed by hatred and vowed to exact revenge on his father’s killer in an honorable duel. With nowhere to go, Thorfinn was recruited onto Askeladd’s ship and began working with the crew as they pillage settlements and trick naive armies. Now, the young boy spends his days honing his battle skills while carrying out Askeladd’s bidding in order to earn his reward of a duel with the vicious captain. But despite having failed in all his bouts with the man he despises so much, will the day ever come when Thorfinn can finally defeat Askeladd and lay his father’s memory to rest?",
         "4.6",
         "2005.0",
         "['Action', 'Adventure', 'Drama', 'Seinen', 'Death of a Loved One', 'England', 'Europe', 'Hand to Hand Combat', 'Historical', 'Medieval', 'Psychological', 'Revenge', 'Swordplay', 'Weak to Strong', 'Violence', 'Adapted to Anime']",
         "https://cdn.anime-planet.com/manga/primary/vinland-saga-1-285x389.jpg?t=1633674473"
        ],
        [
         "46",
         "Heesu in Class 2",
         "Heesu’s world revolves around Chanyoung, his best friend and secret crush. He doesn’t mind cheering Chanyoung from the sidelines or listening to all his girl problems. He doesn’t care if people only know him as “Chanyoung’s friend.” Then one day, Heesu starts hearing his name everywhere. On the bus, in the halls, during lunch… Turns out, there’s a rumor going around school (Got a love problem? Find Heesu in Class 2 and he’ll tell you what to do!) and with that, Heesu suddenly finds himself the center of attention. But how could he give anyone advice? He doesn’t even know what to do about his own crush!",
         "4.6",
         "2017.0",
         "['BL', 'Manhwa', 'Romance', 'Shounen-ai', 'Webtoons', 'Childhood Friends', 'Full Color', 'School Life']",
         "https://cdn.anime-planet.com/manga/primary/heesu-in-class-2-1-190x253.jpg?t=1625917510"
        ],
        [
         "47",
         "Blue Period.",
         "Yatora is the perfect high school student, with good grades and lots of friends. It’s an effortless performance, and, ultimately … a dull one. But he wanders into the art room one day, and a lone painting captures his eye, awakening him to a kind of beauty he never knew. Compelled and consumed, he dives in headfirst—and he’s about to learn how savage and unforgiving art can be!",
         "4.6",
         "2017.0",
         "['Drama', 'Seinen', 'Art', 'Psychological', 'School Club', 'School Life', 'Nudity', 'Adapted to Anime']",
         "https://cdn.anime-planet.com/manga/primary/blue-period-1-190x266.jpg?t=1625918712"
        ],
        [
         "48",
         "Shokuba to Jitaku de Gyappu no Aru Papa",
         "At work he's smooth and cool, but at home he's a total softie?!",
         "4.6",
         "2020.0",
         "['Comedy', 'Romance', 'Slice of Life', 'Doujinshi']",
         "https://cdn.anime-planet.com/manga/primary/shokuba-to-jitaku-de-gyappu-no-aru-papa-1-190x270.jpg?t=1625930414"
        ],
        [
         "49",
         "Kaichou wa Maid-sama! Marriage",
         "This entry currently doesn't have a synopsis. Check back soon!",
         "4.6",
         "2013.0",
         "['Comedy', 'Drama', 'Fantasy', 'Romance', 'Shoujo', 'Collections', 'Crossover', 'School Life']",
         "https://cdn.anime-planet.com/manga/primary/kaichou-wa-maid-sama-marriage-1-190x298.jpg?t=1625916637"
        ]
       ],
       "shape": {
        "columns": 6,
        "rows": 70948
       }
      },
      "text/html": [
       "<div>\n",
       "<style scoped>\n",
       "    .dataframe tbody tr th:only-of-type {\n",
       "        vertical-align: middle;\n",
       "    }\n",
       "\n",
       "    .dataframe tbody tr th {\n",
       "        vertical-align: top;\n",
       "    }\n",
       "\n",
       "    .dataframe thead th {\n",
       "        text-align: right;\n",
       "    }\n",
       "</style>\n",
       "<table border=\"1\" class=\"dataframe\">\n",
       "  <thead>\n",
       "    <tr style=\"text-align: right;\">\n",
       "      <th></th>\n",
       "      <th>title</th>\n",
       "      <th>description</th>\n",
       "      <th>rating</th>\n",
       "      <th>year</th>\n",
       "      <th>tags</th>\n",
       "      <th>cover</th>\n",
       "    </tr>\n",
       "  </thead>\n",
       "  <tbody>\n",
       "    <tr>\n",
       "      <th>0</th>\n",
       "      <td>Salad Days (Tang LiuZang) - Part 2</td>\n",
       "      <td>The second season of Salad Days (Tang LiuZang).</td>\n",
       "      <td>4.7</td>\n",
       "      <td>2021.0</td>\n",
       "      <td>['BL', 'Manhua', 'Romance', 'Shounen-ai', 'Spo...</td>\n",
       "      <td>https://cdn.anime-planet.com/manga/primary/sal...</td>\n",
       "    </tr>\n",
       "    <tr>\n",
       "      <th>1</th>\n",
       "      <td>The Master of Diabolism</td>\n",
       "      <td>As the grandmaster who founded the Demonic Sec...</td>\n",
       "      <td>4.7</td>\n",
       "      <td>2017.0</td>\n",
       "      <td>['Action', 'Adventure', 'BL', 'Comedy', 'Manhu...</td>\n",
       "      <td>https://cdn.anime-planet.com/manga/primary/the...</td>\n",
       "    </tr>\n",
       "    <tr>\n",
       "      <th>2</th>\n",
       "      <td>JoJo's Bizarre Adventure Part 7: Steel Ball Run</td>\n",
       "      <td>Set in 1890, Steel Ball Run spotlights Gyro Ze...</td>\n",
       "      <td>4.7</td>\n",
       "      <td>2004.0</td>\n",
       "      <td>['Action', 'Adventure', 'Horror', 'Mystery', '...</td>\n",
       "      <td>https://cdn.anime-planet.com/manga/primary/joj...</td>\n",
       "    </tr>\n",
       "    <tr>\n",
       "      <th>3</th>\n",
       "      <td>A Sign of Affection</td>\n",
       "      <td>Yuki is a typical college student, whose world...</td>\n",
       "      <td>4.7</td>\n",
       "      <td>2019.0</td>\n",
       "      <td>['Romance', 'Shoujo', 'Slice of Life', 'Disabi...</td>\n",
       "      <td>https://cdn.anime-planet.com/manga/primary/a-s...</td>\n",
       "    </tr>\n",
       "    <tr>\n",
       "      <th>4</th>\n",
       "      <td>Moriarty the Patriot</td>\n",
       "      <td>Before he was Sherlock’s rival, Moriarty fough...</td>\n",
       "      <td>4.7</td>\n",
       "      <td>2016.0</td>\n",
       "      <td>['Mystery', 'Shounen', 'Detectives', 'England'...</td>\n",
       "      <td>https://cdn.anime-planet.com/manga/primary/mor...</td>\n",
       "    </tr>\n",
       "    <tr>\n",
       "      <th>...</th>\n",
       "      <td>...</td>\n",
       "      <td>...</td>\n",
       "      <td>...</td>\n",
       "      <td>...</td>\n",
       "      <td>...</td>\n",
       "      <td>...</td>\n",
       "    </tr>\n",
       "    <tr>\n",
       "      <th>70943</th>\n",
       "      <td>Sonna ni Watashi wo Semenaide</td>\n",
       "      <td>This entry currently doesn't have a synopsis. ...</td>\n",
       "      <td>NaN</td>\n",
       "      <td>2022.0</td>\n",
       "      <td>['Romance', 'Shoujo']</td>\n",
       "      <td>https://cdn.anime-planet.com/manga/primary/son...</td>\n",
       "    </tr>\n",
       "    <tr>\n",
       "      <th>70944</th>\n",
       "      <td>Nakitsura ni Kiss</td>\n",
       "      <td>A clumsy girl and a kind boy have their first ...</td>\n",
       "      <td>NaN</td>\n",
       "      <td>2020.0</td>\n",
       "      <td>['One Shot', 'Romance', 'Shoujo', 'Slice of Li...</td>\n",
       "      <td>https://cdn.anime-planet.com/manga/primary/nak...</td>\n",
       "    </tr>\n",
       "    <tr>\n",
       "      <th>70945</th>\n",
       "      <td>Renjou Lunch Time</td>\n",
       "      <td>This entry currently doesn't have a synopsis. ...</td>\n",
       "      <td>NaN</td>\n",
       "      <td>2019.0</td>\n",
       "      <td>['Comedy', 'One Shot', 'Romance', 'Shounen', '...</td>\n",
       "      <td>https://cdn.anime-planet.com/manga/primary/ren...</td>\n",
       "    </tr>\n",
       "    <tr>\n",
       "      <th>70946</th>\n",
       "      <td>101-kaime no Suki</td>\n",
       "      <td>She's confessed 100 times, what happens on the...</td>\n",
       "      <td>NaN</td>\n",
       "      <td>2020.0</td>\n",
       "      <td>['One Shot', 'Romance', 'Shoujo', 'School Life']</td>\n",
       "      <td>https://cdn.anime-planet.com/manga/primary/101...</td>\n",
       "    </tr>\n",
       "    <tr>\n",
       "      <th>70947</th>\n",
       "      <td>Kirahoshi no Meril</td>\n",
       "      <td>This entry currently doesn't have a synopsis. ...</td>\n",
       "      <td>NaN</td>\n",
       "      <td>2019.0</td>\n",
       "      <td>['Action', 'One Shot', 'Shounen']</td>\n",
       "      <td>https://cdn.anime-planet.com/manga/primary/kir...</td>\n",
       "    </tr>\n",
       "  </tbody>\n",
       "</table>\n",
       "<p>70948 rows × 6 columns</p>\n",
       "</div>"
      ],
      "text/plain": [
       "                                                 title  \\\n",
       "0                   Salad Days (Tang LiuZang) - Part 2   \n",
       "1                              The Master of Diabolism   \n",
       "2      JoJo's Bizarre Adventure Part 7: Steel Ball Run   \n",
       "3                                  A Sign of Affection   \n",
       "4                                 Moriarty the Patriot   \n",
       "...                                                ...   \n",
       "70943                    Sonna ni Watashi wo Semenaide   \n",
       "70944                                Nakitsura ni Kiss   \n",
       "70945                                Renjou Lunch Time   \n",
       "70946                                101-kaime no Suki   \n",
       "70947                               Kirahoshi no Meril   \n",
       "\n",
       "                                             description  rating    year  \\\n",
       "0        The second season of Salad Days (Tang LiuZang).     4.7  2021.0   \n",
       "1      As the grandmaster who founded the Demonic Sec...     4.7  2017.0   \n",
       "2      Set in 1890, Steel Ball Run spotlights Gyro Ze...     4.7  2004.0   \n",
       "3      Yuki is a typical college student, whose world...     4.7  2019.0   \n",
       "4      Before he was Sherlock’s rival, Moriarty fough...     4.7  2016.0   \n",
       "...                                                  ...     ...     ...   \n",
       "70943  This entry currently doesn't have a synopsis. ...     NaN  2022.0   \n",
       "70944  A clumsy girl and a kind boy have their first ...     NaN  2020.0   \n",
       "70945  This entry currently doesn't have a synopsis. ...     NaN  2019.0   \n",
       "70946  She's confessed 100 times, what happens on the...     NaN  2020.0   \n",
       "70947  This entry currently doesn't have a synopsis. ...     NaN  2019.0   \n",
       "\n",
       "                                                    tags  \\\n",
       "0      ['BL', 'Manhua', 'Romance', 'Shounen-ai', 'Spo...   \n",
       "1      ['Action', 'Adventure', 'BL', 'Comedy', 'Manhu...   \n",
       "2      ['Action', 'Adventure', 'Horror', 'Mystery', '...   \n",
       "3      ['Romance', 'Shoujo', 'Slice of Life', 'Disabi...   \n",
       "4      ['Mystery', 'Shounen', 'Detectives', 'England'...   \n",
       "...                                                  ...   \n",
       "70943                              ['Romance', 'Shoujo']   \n",
       "70944  ['One Shot', 'Romance', 'Shoujo', 'Slice of Li...   \n",
       "70945  ['Comedy', 'One Shot', 'Romance', 'Shounen', '...   \n",
       "70946   ['One Shot', 'Romance', 'Shoujo', 'School Life']   \n",
       "70947                  ['Action', 'One Shot', 'Shounen']   \n",
       "\n",
       "                                                   cover  \n",
       "0      https://cdn.anime-planet.com/manga/primary/sal...  \n",
       "1      https://cdn.anime-planet.com/manga/primary/the...  \n",
       "2      https://cdn.anime-planet.com/manga/primary/joj...  \n",
       "3      https://cdn.anime-planet.com/manga/primary/a-s...  \n",
       "4      https://cdn.anime-planet.com/manga/primary/mor...  \n",
       "...                                                  ...  \n",
       "70943  https://cdn.anime-planet.com/manga/primary/son...  \n",
       "70944  https://cdn.anime-planet.com/manga/primary/nak...  \n",
       "70945  https://cdn.anime-planet.com/manga/primary/ren...  \n",
       "70946  https://cdn.anime-planet.com/manga/primary/101...  \n",
       "70947  https://cdn.anime-planet.com/manga/primary/kir...  \n",
       "\n",
       "[70948 rows x 6 columns]"
      ]
     },
     "execution_count": 1,
     "metadata": {},
     "output_type": "execute_result"
    }
   ],
   "source": [
    "import pandas\n",
    "df = pandas.read_csv(\"manga.csv\")\n",
    "df"
   ]
  },
  {
   "cell_type": "markdown",
   "metadata": {},
   "source": [
    "3. Make any change to the data set. For example, you could:\n",
    "   - Drop rows with missing values\n",
    "   - Replace missing values with a default value\n",
    "   - Add a column computed from the existing columns\n",
    "   - Just change a bunch of values for fun. It's lab night!\n"
   ]
  },
  {
   "cell_type": "code",
   "execution_count": 2,
   "metadata": {},
   "outputs": [
    {
     "data": {
      "application/vnd.microsoft.datawrangler.viewer.v0+json": {
       "columns": [
        {
         "name": "index",
         "rawType": "int64",
         "type": "integer"
        },
        {
         "name": "title",
         "rawType": "object",
         "type": "string"
        },
        {
         "name": "description",
         "rawType": "object",
         "type": "unknown"
        },
        {
         "name": "rating",
         "rawType": "float64",
         "type": "float"
        },
        {
         "name": "year",
         "rawType": "float64",
         "type": "float"
        },
        {
         "name": "tags",
         "rawType": "object",
         "type": "string"
        },
        {
         "name": "cover",
         "rawType": "object",
         "type": "string"
        }
       ],
       "conversionMethod": "pd.DataFrame",
       "ref": "2b4f6e5c-679f-4bd6-8e1b-90bbcfe3d2f7",
       "rows": [
        [
         "0",
         "Salad Days (Tang LiuZang) - Part 2",
         "The second season of Salad Days (Tang LiuZang).",
         "4.7",
         "2021.0",
         "['BL', 'Manhua', 'Romance', 'Shounen-ai', 'Sports', 'Webtoons', 'Full Color']",
         "https://cdn.anime-planet.com/manga/primary/salad-days-tang-liuzang-part-2-1-285x399.jpg?t=1638084843"
        ],
        [
         "1",
         "The Master of Diabolism",
         "As the grandmaster who founded the Demonic Sect, Wei WuXian roamed the world in his wanton ways, hated by millions for the chaos he created. In the end, he was back-stabbed by his dearest shidi and killed by powerful clans that combined to overpower him. He incarnates into the body of a lunatic who was abandoned by his clan and is later, unwillingly, taken away by a famous cultivator among the clans—Lan WangJi, his archenemy.",
         "4.7",
         "2017.0",
         "['Action', 'Adventure', 'BL', 'Comedy', 'Manhua', 'Mystery', 'Romance', 'Shounen-ai', 'Ancient China', 'Cultivation', 'Martial Arts', 'Supernatural', 'Xianxia', 'Mature Themes', 'Suicide', 'Violence', 'Based on a Web Novel']",
         "https://cdn.anime-planet.com/manga/primary/the-master-of-diabolism-1-190x252.jpg?t=1625917239"
        ],
        [
         "2",
         "JoJo's Bizarre Adventure Part 7: Steel Ball Run",
         "Set in 1890, Steel Ball Run spotlights Gyro Zepelli and Johnny Joestar as they pit their spirits on a Fifty Million Dollar race across the heart of America. Their track quickly becomes a no-rules land as the racers' dreams collide and only human will spurs them on. But there is more to this race than any contestant realized and each of them soon grasps the real size of their world.",
         "4.7",
         "2004.0",
         "['Action', 'Adventure', 'Horror', 'Mystery', 'Seinen', '19th Century', 'America', 'Historical']",
         "https://cdn.anime-planet.com/manga/primary/jojos-bizarre-adventure-part-7-steel-ball-run-1-185x300.jpg?t=1625909521"
        ],
        [
         "3",
         "A Sign of Affection",
         "Yuki is a typical college student, whose world revolves around her friends, social media, and the latest sales. But when a chance encounter on a train leads to her meeting friend-of-a-friend and fellow student Itsuomi-san, her world starts to widen. But even though Itsuomi-kun can speak three languages, sign language isn’t one of them. Can the two learn to communicate the budding feelings between them?",
         "4.7",
         "2019.0",
         "['Romance', 'Shoujo', 'Slice of Life', 'Disability']",
         "https://cdn.anime-planet.com/manga/primary/a-sign-of-affection-1-190x285.jpg?t=1625922916"
        ],
        [
         "4",
         "Moriarty the Patriot",
         "Before he was Sherlock’s rival, Moriarty fought against the unfair class caste system in London by making sure corrupt nobility got their comeuppance. But even the best-intentioned plans can spin out of control—will Moriarty’s dream of a more just and equal world turn him into a hero…or a monster?",
         "4.7",
         "2016.0",
         "['Mystery', 'Shounen', 'Detectives', 'England', 'Europe', 'Historical', 'Sherlock Holmes', 'Adapted to Anime', 'Based on a Novel']",
         "https://cdn.anime-planet.com/manga/primary/moriarty-the-patriot-1-190x285.jpg?t=1625916116"
        ],
        [
         "5",
         "Classroom of the Elite (Light Novel)",
         "At the prestigious Tokyo Metropolitan Advanced Nurturing High School, which aims to produce the country’s future leaders, students are given remarkable freedom. However, they also have to deal with a point system that decides one’s place in the school’s hierarchy! Ayanokoji Kiyotaka has landed at the bottom in the scorned Class D, where he meets Horikita Suzune, who’s determined to work her way back up to Class A, and Kushida Kikyo, who seems like she only wants to make friends. Can they advance through this school where cutthroat competition is the name of the game?",
         "4.7",
         "2015.0",
         "['Comedy', 'Drama', 'Ecchi', 'Harem', 'Light Novels', 'Romance', 'Boarding School', 'School Life', 'Adapted to Anime']",
         "https://cdn.anime-planet.com/manga/primary/classroom-of-the-elite-light-novel-1-285x403.jpg?t=1630446924"
        ],
        [
         "6",
         "Who Made Me a Princess",
         "The beautiful Athanasia was killed at the hands of her own biological father, Claude de Alger Obelia, the cold-blooded emperor! It’s just a silly bedtime story… until one woman wakes up to suddenly find she’s become that unfortunate princess! She needs a plan to survive her doomed fate, and time is running out. Will she go with Plan A, live as quietly as possible without being noticed by the infamous emperor? Plan B, collect enough money to escape the palace? Or will she be stuck with plan C, sweet-talking her way into her father’s good graces?!",
         "4.7",
         "2017.0",
         "['Fantasy', 'Manhwa', 'Romance', 'Slice of Life', 'Webtoons', 'Full Color', 'Isekai', 'Magic', 'Person in a Strange World', 'Political', 'Reincarnation', 'Royalty', 'Based on a Web Novel']",
         "https://cdn.anime-planet.com/manga/primary/who-made-me-a-princess-1-190x266.jpg?t=1625919708"
        ],
        [
         "7",
         "Demon Slayer: Kimetsu no Yaiba",
         "The setting is Taisho era Japan. Tanjirou is a kindhearted young boy who lived peacefully with his family as a coal seller. Their normal life changes completely when his family is slaughtered by demons. The only other survivor, Tanjirou's younger sister Nezuko, has become a ferocious demon. In order to return Nezuko to normal and get revenge on the demon that killed their family, the two of them depart on a journey. From a young talent, an adventure tale of blood and swords begins!",
         "4.7",
         "2016.0",
         "['Action', 'Adventure', 'Comedy', 'Drama', 'Fantasy', 'Shounen', 'Death of a Loved One', 'Demons', 'Historical', 'Martial Arts', 'Orphans', 'Siblings', 'Explicit Violence', 'Adapted to Anime']",
         "https://cdn.anime-planet.com/manga/primary/demon-slayer-kimetsu-no-yaiba-1-285x428.jpg?t=1634713702"
        ],
        [
         "8",
         "Omniscient Reader (Novel)",
         "One day, our MC finds himself stuck in the world of his favorite web novel. What should he do to survive? It's a world struck by catastrophe and danger all around. His edge? He knows the plot of the story to end, because he was the sole reader that stuck with it. ",
         "4.7",
         "2018.0",
         "['Action', 'Adventure', 'Drama', 'Fantasy', 'Manhwa', 'Web Novels', 'Cheats', 'High Stakes Games', 'Martial Arts', 'Play or Die', 'Psychological', 'Urban Fantasy']",
         "https://cdn.anime-planet.com/manga/primary/omniscient-reader-novel-1-190x266.jpg?t=1625919886"
        ],
        [
         "9",
         "Omniscient Reader",
         "Back then, Dokja had no idea. He had no idea his favorite web novel 'Three Ways to Survive the Apocalypse' was going to come to life, and that he would become the only person to know how the world was going to end. He also had no idea he would end up becoming the protagonist of this novel-turned-reality. Now, Dokja will go on a journey to change the course of the story and save humankind once and for all.",
         "4.7",
         "2020.0",
         "['Action', 'Adventure', 'Drama', 'Fantasy', 'Manhwa', 'Webtoons', 'Cheats', 'Full Color', 'High Stakes Games', 'Play or Die', 'Psychological', 'PVE', 'PVP', 'RPG', 'Survival', 'Urban Fantasy', 'Explicit Violence', 'Based on a Web Novel']",
         "https://cdn.anime-planet.com/manga/primary/omniscient-reader-1-285x409.jpg?t=1628025756"
        ],
        [
         "10",
         "Tower of God - Part 3",
         "The third season of Tower of God.",
         "4.7",
         "2019.0",
         "['Action', 'Adventure', 'Drama', 'Fantasy', 'Manhwa', 'Webtoons', 'Full Color', 'Violence']",
         "https://cdn.anime-planet.com/manga/primary/tower-of-god-part-3-1-190x266.jpg?t=1625921019"
        ],
        [
         "11",
         "Yotsuba&!",
         "Meet Yotsuba Koiwai, the strangest little girl around. With a mind so straight it's twisted, Yotsuba takes everything in life at face value and sees everything with the eyes of impenetrable innocence. With her laid-back father, Yotsuba moves into a new house and makes new friends - friends whose minds boggle at the wacky and somewhat wise way that Yotsuba lives her daily life!",
         "4.7",
         "2003.0",
         "['Comedy', 'Shounen', 'Slice of Life', 'Iyashikei', 'Single Parent']",
         "https://cdn.anime-planet.com/manga/primary/yotsuba-1-190x284.jpg?t=1625907491"
        ],
        [
         "12",
         "Bastard",
         "Jin has lived a tough life. One of his oldest memories is waking up in the hospital, having received an artificial heart valve, and a glass eye. And as a student, he's relentlessly bullied for his disabilities. But Jin's school life is nothing compared to his home life, where he's raised by his father, a serial killer who targets young women and forces the boy to act as his accomplice. Can Jin do anything to stop his father's reign of terror without becoming the next victim?",
         "4.7",
         "2014.0",
         "['Drama', 'Horror', 'Manhwa', 'Romance', 'Webtoons', 'Criminals', 'Disability', 'Dysfunctional Families', 'Full Color', 'Mind Games', 'Psychological', 'Psychopaths', 'Serial Killers', 'Thriller', 'Bullying', 'Emotional Abuse', 'Explicit Violence', 'Mature Themes', 'Physical Abuse', 'Domestic Abuse']",
         "https://cdn.anime-planet.com/manga/primary/bastard-1-190x289.jpg?t=1625913904"
        ],
        [
         "13",
         "Tower of God - Part 2",
         "The second season of Tower of God.",
         "4.7",
         "2012.0",
         "['Action', 'Adventure', 'Drama', 'Fantasy', 'Manhwa', 'Webtoons', 'Full Color', 'High Stakes Games', 'Violence']",
         "https://cdn.anime-planet.com/manga/primary/tower-of-god-part-2-1-190x272.jpg?t=1625910760"
        ],
        [
         "14",
         "I’m Really Not the Devil’s Lackey",
         "Lin Jie, who has transmigrated into this world, runs a bookshop. Nice and passionate, he always recommends books that are capable of healing one's soul to customers who find themselves in a rough patch in life. Occasionally, he would recommend his own work to them as well. Over time, these customers have grown to respect him a lot. They bring him some simple souvenirs every day to repay him and ask him for recommendations of literary works. At the same time, they tell the people around them about this bookstore owner as well. They have respectful and affectionate ways of addressing him-\"The Devil's Hyena\", \"The Communicator of Flesh Gospel of Books\", \"The Author of the Corpse Ritual\" and \" The Star Shepard\".",
         "4.7",
         "2021.0",
         "['Fantasy', 'Manhua', 'Webtoons', 'Bookstore', 'Full Color', 'Isekai', 'Person in a Strange World', 'Based on a Web Novel']",
         "https://cdn.anime-planet.com/manga/primary/im-really-not-the-devils-lackey-1-285x399.webp?t=1646215508"
        ],
        [
         "15",
         "Umarekawatte mo mata, Watashi to Kekkon shite kuremasu ka?",
         "Toranosuke fell in love with his servant Kaoru. For twenty years, they slowly developed their love for each other, thus a Showa couple of clumsy husband and muscle brained wife was born. They spend a lot of time together, and they begin to talk in a nostalgic manner in Toranosuke's hospital room. Gentle memories of a deeply in love husband and wife.",
         "4.7",
         "2017.0",
         "['Comedy', 'Drama', 'Romance', 'Historical', 'Mature Romance']",
         "https://cdn.anime-planet.com/manga/primary/umarekawatte-mo-mata-watashi-to-kekkon-shite-kuremasu-ka-1-190x272.jpg?t=1625922274"
        ],
        [
         "16",
         "Banana Fish",
         "Nature made Ash Lynx beautiful; nurture made him a cold ruthless killer. A runaway brought up as the adopted heir and sex toy of \"Papa\" Dino Golzine, Ash, now at the rebellious age of seventeen, forsakes the kingdom held out by the devil who raised him. But the hideous secret that drove Ash's older brother mad in Vietnam has suddenly fallen into Papa's insatiably ambitious hands--and it's exactly the wrong time for Eiji Okamura, a pure-hearted young photographer from Japan, to make Ash Lynx's acquaintance...",
         "4.7",
         "1985.0",
         "['Action', 'Adventure', 'Drama', 'Mystery', 'Shoujo', 'America', 'Delinquents', 'Guns', 'Hand to Hand Combat', 'Psychological', 'Drug Use', 'Emotional Abuse', 'Mature Themes', 'Nudity', 'Physical Abuse', 'Sexual Abuse', 'Sexual Content', 'Adapted to Anime']",
         "https://cdn.anime-planet.com/manga/primary/banana-fish-1-285x429.jpg?t=1629834461"
        ],
        [
         "17",
         "Teenage Mercenary",
         "At the age of eight, Ijin Yu lost his parents in a plane crash and became stranded in a foreign land, forced to become a child mercenary in order to stay alive. He returns home ten years later to be reunited with his family in Korea, where food and shelter are plenty and everything seems peaceful. But Ijin will soon learn that life as a teenager is a whole other feat of survival. With only one year of high school left, Ijin must master new tactics to maneuver his way around the schoolhouse battleground. Can he survive a year of high school? Or rather, will the school be able to survive him?",
         "4.7",
         "2020.0",
         "['Action', 'Drama', 'Manhwa', 'Webtoons', 'Full Color', 'Lifestyle Change', 'School Life']",
         "https://cdn.anime-planet.com/manga/primary/teenage-mercenary-1-190x266.jpg?t=1625929294"
        ],
        [
         "18",
         "I Want to Eat Your Pancreas (Novel)",
         "In this deeply moving first-person story, a high school boy finds the diary of his classmate—and discovers that she’s dying. Yamauchi Sakura has been silently suffering from a pancreatic disease in school, and now exactly one person outside her family knows. He swears to her that he won’t tell anyone what he learned, and the shared secret brings them closer together. The two have very little in common, but they find themselves drawn to each other in Sakura’s final months to live.",
         "4.7",
         "2015.0",
         "['Drama', 'Romance', 'Coming of Age', 'Illness', 'Novels', 'Opposites Attract', 'School Life', 'Adapted to Anime', 'Based on a Web Novel']",
         "https://cdn.anime-planet.com/manga/primary/i-want-to-eat-your-pancreas-novel-1-190x267.jpg?t=1625916704"
        ],
        [
         "19",
         "Our Dreams at Dusk: Shimanami Tasogare",
         "Not only is high schooler Tasuku Kaname the new kid in town, he's also terrified that he's been outed as gay. Just as he's contemplating doing the unthinkable, Tasuku meets a mysterious woman who leads him to a group of people dealing with problems not so different from his own. In this realistic, heartfelt depiction of LGBT+ characters from different backgrounds finding their place in the world, a search for inner peace proves to be the most universal experience of all.",
         "4.7",
         "2015.0",
         "['Drama', 'Seinen', 'LGBT Themes', 'Psychological', 'School Life', 'Bullying']",
         "https://cdn.anime-planet.com/manga/primary/our-dreams-at-dusk-shimanami-tasogare-1-190x271.jpg?t=1625914553"
        ],
        [
         "20",
         "Spirit Fingers!",
         "What do you do if you're going on 18, totally awkward and lacking in self- confidence? You could just sit in your room all day and all night and study and wonder why you never get asked out…OR, if you’re Amy Song you could join up with the Spirit Fingers – the strangest, hippest, coolest (yet most welcoming) art club ever. But as Amy is about to learn, discovering your TRUE colors is about more than just painting.",
         "4.7",
         "2015.0",
         "['Comedy', 'Manhwa', 'Romance', 'Webtoons', 'Full Color', 'School Club']",
         "https://cdn.anime-planet.com/manga/primary/spirit-fingers-1-190x266.jpg?t=1625914644"
        ],
        [
         "21",
         "Your Letter",
         "Sori is a special young girl - kind, caring and principled well beyond her years. Unfortunately, these are NOT the personality traits generally celebrated in middle school – especially Sori’s, where she’s bullied mercilessly for defending the defenseless until she herself becomes a target. To escape, she transfers to a new school where the same old problems begin to play out all over again – that is until a mysterious trail of letters leads Sori on a magical scavenger hunt through the hidden world that exists right below the surface of her new middle school. The mail trail is the work an anonymous guardian angel, whose mission seems to be to provide a soft landing for Sori at her new school. But who is this person? And why did he choose her? With each letter, secrets are revealed and bonds are formed - as Sori learns about friendship, flora, fauna and finding the good in people in this strange new environment.",
         "4.7",
         "2018.0",
         "['Adventure', 'Drama', 'Manhwa', 'Mystery', 'Webtoons', 'Full Color', 'School Life', 'Bullying']",
         "https://cdn.anime-planet.com/manga/primary/your-letter-1-190x270.jpg?t=1625920730"
        ],
        [
         "22",
         "Only I Level Up (Novel)",
         "In this world where Hunters with various magical powers battle monsters from invading the defenceless humanity, Sung Jin-Woo was the weakest of all the Hunters, barely able to make a living. However, a mysterious System grants him the power of the ‘Player’, setting him on a course for an incredible and often times perilous Journey. Follow Sung Jin-Woo as he embarks on an adventure to become an unparalleled existence through his “Level-Up” system - the only one in the entire world!",
         "4.7",
         "2016.0",
         "['Action', 'Adventure', 'Fantasy', 'Manhwa', 'Web Novels', 'Dungeon', 'Magic', 'RPG', 'Weak to Strong']",
         "https://cdn.anime-planet.com/manga/primary/only-i-level-up-novel-1-190x271.jpg?t=1625920159"
        ],
        [
         "23",
         "Bloom Into You",
         "Yuu has always loved shoujo manga and awaits the day she gets a love confession that sends her heart aflutter with bubbles and hearts, and yet when a junior high classmate confesses his feelings to her...she feels nothing. Disappointed and confused, Yuu enters high school still unsure how to respond. That's when Yuu sees the beautiful student council president Nanami turn down a suitor with such maturity that she's inspired to ask her for help. But when the next person to confess to Yuu is Nanami herself, has her shoujo romance finally begun?",
         "4.7",
         "2015.0",
         "['Drama', 'GL', 'Romance', 'Shoujo-ai', 'Shounen', 'LGBT Themes', 'Love Confession', 'Love Triangle', 'School Life', 'Senpai-Kouhai Relationship', 'Student Council', 'Adapted to Anime']",
         "https://cdn.anime-planet.com/manga/primary/bloom-into-you-1-190x271.jpg?t=1625913980"
        ],
        [
         "24",
         "The Male Lead's Little Lion Daughter",
         "The handsome Duke Voreoti is the most terrifying man in the empire, with the coldest of demeanors and a gaze that can kill. But one day, he suddenly says that he wants to… adopt a child?! And that child is me?! After finding me at a shady orphanage, he whisked me away to his snowy palace without a second thought. Now I’m learning all the ways of the feared Voreoti family from his knights. However, things get dicey when the Duke becomes suspicious of my origins. With these fangs and jet black hair, perhaps we are more than just kindred spirits…",
         "4.7",
         "2021.0",
         "['Comedy', 'Drama', 'Fantasy', 'Manhwa', 'Romance', 'Webtoons', 'Full Color', 'Nobility', 'Person in a Strange World', 'Transported Into a Novel', 'Based on a Web Novel']",
         "https://cdn.anime-planet.com/manga/primary/the-male-leads-little-lion-daughter-1-285x399.webp?t=1640373784"
        ],
        [
         "25",
         "20th Century Boys",
         "The world is never quite the same once we grow up. Villains and robots that once ran rampant in our imaginations are reduced to drawings in Manga, and our lives are distilled until there is little left but the daily grind; so it has been for Kenji. After a childhood of dreams he now runs his late father's liquor store and is raising his sister's child. The memories and friends from his early years bring him some happiness, but they become tainted as a string of murders find connections to his past. Kenji and his friends must now fight to save the future from their past and unravel the mystery of \"Friend.\"",
         "4.7",
         "1999.0",
         "['Action', 'Drama', 'Mystery', 'Sci Fi', 'Seinen', 'Historical', 'Psychological']",
         "https://cdn.anime-planet.com/manga/primary/20th-century-boys-1-190x275.jpg?t=1625907535"
        ],
        [
         "26",
         "Vagabond",
         "Following a horrific defeat at the battle of Sekigahara, two survivors, Takezo Shinmen and Matahachi Hon’iden, are deflated at having been unable to make a name for themselves and earn glory on the battlefield. But while Matahachi is anxious to go home, Takezo has vowed never to return and intends to become a vagabond, travelling the country polishing and testing his skills as a swordsman. With a beastial mercilessness when it comes to killing and a habit of cutting down all in his path, it doesn’t take long for Takezo to become a wanted fugitive. However, after being captured by a monk named Takuan and given a new lease of life, Takezo begins to live under the name of Musashi Miyamoto. Now, with a new view on life and death, Musashi continues to travel the nation challenging the most infamous fighters to achieve his goal of becoming the strongest samurai ever known.",
         "4.7",
         "1998.0",
         "['Action', 'Adventure', 'Drama', 'Seinen', '17th Century', 'Feudal Japan', 'Hiatus', 'Historical', 'Samurai', 'Swordplay', 'Explicit Violence']",
         "https://cdn.anime-planet.com/manga/primary/vagabond-1-190x272.jpg?t=1625908170"
        ],
        [
         "27",
         "Roxana",
         "Kidnapping, murder, and risqué relationships! Within the scandalous pages of The Abysmal Flower, the downfall of Roxana Agrece’s criminal family is already foretold. So when Cassis Pedelian, the heroine’s older brother, is kidnapped by Roxana’s father, she can either wait for the heroine’s revenge... or take matters into her own hands, since Cassis is the key to her survival. But with deceitful characters on all sides, can Roxana and Cassis trust each other enough to bring down the brutal Agreces?",
         "4.7",
         "2021.0",
         "['Drama', 'Fantasy', 'Manhwa', 'Romance', 'Webtoons', 'Full Color', 'Isekai', 'Person in a Strange World', 'Psychological', 'Transported Into a Novel', 'Based on a Web Novel']",
         "https://cdn.anime-planet.com/manga/primary/roxana-1-285x399.jpg?t=1629329045"
        ],
        [
         "28",
         "Nano Machine",
         "After being held in disdain and having his life put in danger, an orphan from the Demonic Cult, Cheon Yeo-Woon, has an unexpected visit from his descendant from the future who inserts a nano machine into Cheon Yeo-Woon's body, which drastically changes Cheon Yeo-Woon's life after its activation. The story of Cheon Yeo-Woon's journey of bypassing the Demonic Cult and rising to become the best martial artist has just begun.",
         "4.7",
         "2020.0",
         "['Action', 'Adventure', 'Fantasy', 'Manhwa', 'Sci Fi', 'Webtoons', 'Full Color', 'Martial Arts', 'Based on a Web Novel']",
         "https://cdn.anime-planet.com/manga/primary/nano-machine-1-190x266.jpg?t=1625927193"
        ],
        [
         "29",
         "GTO",
         "With a history of leading a motorcycle gang and getting bad grades in school, why would 22 year old Onizuka ever want to become a teacher? Is it to educate young minds or spread the joy of education? Sure, if it involves being able to look up high school girls' skirts! Watch as this would-be educator uses his own life lessons and unconstituted methods as a means to control a delinquent class of students -- students who certainly aren't as happy to have him as a teacher as he is happy to be teaching...",
         "4.7",
         "1996.0",
         "['Comedy', 'Drama', 'Ecchi', 'Shounen', 'Delinquents', 'School Life', 'Slapstick', 'Teaching', 'Work Life', 'Bullying', 'Emotional Abuse', 'Adapted to Anime']",
         "https://cdn.anime-planet.com/manga/primary/gto-1-190x285.jpg?t=1625908141"
        ],
        [
         "30",
         "Level Up with the Gods",
         "“Maybe Inner Gods can never defeat Outer Gods…” so thought Yuwon Kim, a plucky, high-ranking warrior, after a bitter defeat. But Yuwon is too tenacious to give up. His loss becomes the dawn of a new journey as a returnee. With renewed determination, Yuwon starts back from where he began, smashing monster after monster and relearning his skills before taking on the Tower once again. But can he fight his way through the tutorials and level up once more, or will his conquest crumble before him?",
         "4.7",
         "2021.0",
         "['Action', 'Adventure', 'Fantasy', 'Manhwa', 'Webtoons', 'Full Color', 'Second Chance', 'Supernatural', 'Time Travel', 'Based on a Web Novel']",
         "https://cdn.anime-planet.com/manga/primary/level-up-with-the-gods-1-285x399.webp?t=1641972910"
        ],
        [
         "31",
         "Kaguya-sama: Love Is War",
         "As leaders of their prestigious academy’s student council, Kaguya and Miyuki are the elite of the elite! But it’s lonely at the top… Luckily for them, they’ve fallen in love! There’s just one problem—they both have too much pride to admit it. And so begins the daily scheming to get the object of their affection to confess their romantic feelings first…Love is a war you win by losing.",
         "4.7",
         "2015.0",
         "['Comedy', 'Drama', 'Romance', 'Seinen', 'Episodic', 'Love Confession', 'Mind Games', 'School Life', 'Student Council', 'Adapted to Anime']",
         "https://cdn.anime-planet.com/manga/primary/kaguya-sama-love-is-war-1-190x285.jpg?t=1625914338"
        ],
        [
         "32",
         "Sign",
         "There are a few unusual things about Cafe Goyo. Number one, their coffee sucks. Number two, their customers never order off the menu. And number three, Yohan, the cafe manager, is deaf. So when Soohwa joins as a part-timer, though he is not expected to learn how to make good coffee, he is asked to expand his sign language vocabulary beyond the words, “higher,” “pay,” and “please.” But when Yohan offers to give him private lessons, Soohwa is reluctant. Not because he doesn’t want to study, but because he has a “hard” time around Yohan. Like, literally. He gets hard. Whenever he hears Yohan’s deep, sexy voice.",
         "4.7",
         "2017.0",
         "['BL', 'Comedy', 'Manhwa', 'Romance', 'Slice of Life', 'Webtoons', 'Yaoi', 'Adult Couples', 'Boss-Employee Relationship', 'Cafe', 'Cohabitation', 'Disability', 'Fetish', 'Full Color', 'Mature Romance', 'Smut', 'Explicit Sex']",
         "https://cdn.anime-planet.com/manga/primary/sign-1-190x266.jpg?t=1625916752"
        ],
        [
         "33",
         "Three Days of Happiness (Light Novel)",
         "In this dark, moody love story, college student Kusunoki decides to sell off the next thirty years of his life at a mysterious shop in exchange for money—and maybe a chance to find something worth living for.",
         "4.7",
         "2013.0",
         "['Drama', 'Light Novels', 'Romance', 'Slice of Life', 'Mysterious Shop', 'Psychological', 'Supernatural']",
         "https://cdn.anime-planet.com/manga/primary/three-days-of-happiness-light-novel-1-190x285.jpg?t=1625917101"
        ],
        [
         "34",
         "The Legend of the Northern Blade",
         "For decades, the brave warriors of the Northern Heavenly Sect fought to keep the world safe from the evil Silent Night. But when the fourth generation leader is accused of colluding with the enemy, he is forced to disband the sect and commit suicide to protect his son, Moowon. With no family and allies left, Moowon leads a dreary life under close surveillance... until a surprise attack from the Silent Night gives him a chance to escape to the mountains. There, the young warrior trains to master the fighting techniques of his predecessors, before the mysterious disappearance of a loved one brings him back to the mainland. Follow Moowon as he embarks on a journey to avenge his father’s death and take down the villains who threaten to plunge the world into darkness!",
         "4.7",
         "2019.0",
         "['Action', 'Adventure', 'Fantasy', 'Manhwa', 'Webtoons', 'Full Color', 'Martial Arts', 'Revenge']",
         "https://cdn.anime-planet.com/manga/primary/the-legend-of-the-northern-blade-1-285x399.jpg?t=1638497726"
        ],
        [
         "35",
         "The Horizon",
         "Two children unexpectedly meet in the midst of war. After running away from the chaos, they come across a long empty road. With no adults to rely on, the two strangers, now become friends, walk alongside each other to see what's at the end of the road. All they hope is to keep being able to move forward. Just what kind of trials and tragedy awaits them during their journey for survival?",
         "4.7",
         "2016.0",
         "['Drama', 'Manhwa', 'Webtoons', 'Melancholy', 'Survival', 'War', 'Mature Themes', 'Suicide', 'Violence']",
         "https://cdn.anime-planet.com/manga/primary/the-horizon-1-190x275.jpg?t=1625916048"
        ],
        [
         "36",
         "Skip Beat!",
         "Kyoko moves to the big city with the prince of her dreams Shotaro; he wants to make it big in the entertainment business, so she works hard at many different jobs to support him as he achieves his dream. However, one day, Kyoko accidentally discovers the horrible truth: the love of her life thinks of her as a 'plain and boring woman!' Outraged, Kyoko swears revenge - she will make it even bigger than Shotaro in the entertainment world. The only question is, how will she fulfill her desire?",
         "4.7",
         "2002.0",
         "['Comedy', 'Drama', 'Romance', 'Shoujo', 'Slice of Life', 'Acting', 'Idols', 'Showbiz', 'Work Life', 'Adapted to Anime']",
         "https://cdn.anime-planet.com/manga/primary/skip-beat-1-190x285.jpg?t=1625908039"
        ],
        [
         "37",
         "10 Years That I Loved You the Most",
         "I've loved you the most for most of my life. Now I am a piece of crumpled paper in the corner you would never glimpse. I thought you would be my today and all of my tomorrows. I imagined that someday you would turn around again and stare at me with all your love. However, when our love is gone, I'll just pick a sunny afternoon with gentle wind, put on my coat and leave for good...",
         "4.6",
         "2018.0",
         "['BL', 'Drama', 'Manhua', 'Slice of Life', 'Webtoons', 'Yaoi', 'Full Color', 'Melancholy', 'Mature Themes', 'Sexual Abuse', 'Sexual Content', 'Suicide', 'Based on a Novel']",
         "https://cdn.anime-planet.com/manga/primary/10-years-that-i-loved-you-the-most-1-190x266.jpg?t=1625919504"
        ],
        [
         "38",
         "Pirouette into My Heart",
         "Known as “the little swan” of his ballet studio, Shen has big dreams of leaving the humble farming town he grew up in and shooting to stardom. Though soft-spoken and timid, he meets his match in the stoic, wealthy, and equally as intense Jinyi, who pursues boxing next door. An unlikely pair, they cheer each other on and raise each other up through thick and thin. Determined to achieve their separate ambitions in the midst of their personal troubles, will their deep connection be strong enough to endure the journey and take flight?",
         "4.6",
         "2019.0",
         "['BL', 'Manhua', 'Romance', 'Shounen-ai', 'Sports', 'Webtoons', 'Ballet Dancing', 'Boxing', 'Dancing', 'Full Color', 'Hand to Hand Combat', 'Based on a Web Novel']",
         "https://cdn.anime-planet.com/manga/primary/pirouette-into-my-heart-1-285x398.webp?t=1641779480"
        ],
        [
         "39",
         "Classroom of the Elite: Year 2 (Light Novel)",
         "Students of the prestigious Tokyo Metropolitan Advanced Nurturing High School are given remarkable freedom–if they can win, barter, or save enough points to work their way up the ranks! Ayanokouji Kiyotaka started at the bottom in the scorned Class D, where he met Horikita Suzune, who was determined to rise up the ladder to Class A. Who can beat the system in a school where cutthroat competition is the name of the game? The second year of this intense school drama begins now!",
         "4.6",
         "2020.0",
         "['Comedy', 'Drama', 'Light Novels', 'Romance', 'Boarding School', 'Psychological', 'School Life']",
         "https://cdn.anime-planet.com/manga/primary/classroom-of-the-elite-year-2-light-novel-1-285x405.jpg?t=1632623188"
        ],
        [
         "40",
         "SQ: Begin W/Your Name!",
         "When Sun Jing in Affiliated No.2 Middle School encounters with Qiutong of South Middle School, a small episode makes Sun remember the girl whose smile as warm as sunshine. Their schools are adjacent, so Sun Jing always meets Qiu at the bus station. He starts to keep an eye on the girl and they become friends since then.",
         "4.6",
         "2014.0",
         "['Comedy', 'GL', 'Manhua', 'Romance', 'Shoujo-ai', 'Webtoons', 'School Life']",
         "https://cdn.anime-planet.com/manga/primary/sq-begin-w-your-name-1-190x258.jpg?t=1625913638"
        ],
        [
         "41",
         "Spice and Wolf (Light Novel)",
         "The life of a traveling merchant is a lonely one, a fact with which Kraft Lawrence is well acquainted. Wandering from town to town with just his horse, cart, and whatever wares have come his way, the peddler has pretty well settled into his routine—that is, until the night Lawrence finds a wolf goddess asleep in his cart. Taking the form of a fetching girl with wolf ears and a tail, Holo has wearied of tending to harvests in the countryside and strikes up a bargain with the merchant to lend him the cunning of \"Holo the Wisewolf\" to increase his profits in exchange for taking her along on his travels. What kind of businessman could turn down such an offer? Lawrence soon learns, though, that having an ancient goddess as a traveling companion can be a bit of a mixed blessing. Will this wolf girl turn out to be too wild to tame?",
         "4.6",
         "2006.0",
         "['Adventure', 'Drama', 'Fantasy', 'Light Novels', 'Romance', 'Adult Couples', 'Animal Characteristics', 'Animal Transformation', 'Economics', 'God-Human Relationship', 'Interspecies Relationship', 'Mature Romance', 'Medieval', 'Non-Human Protagonists', 'Political', 'Adapted to Anime']",
         "https://cdn.anime-planet.com/manga/primary/spice-and-wolf-light-novel-1-285x429.jpg?t=1630622455"
        ],
        [
         "42",
         "Mage & Demon Queen - Part 3",
         "The third season of Mage & Demon Queen.",
         "4.6",
         "2021.0",
         "['Comedy', 'Fantasy', 'GL', 'OEL', 'Romance', 'Shoujo-ai', 'Webtoons', 'Full Color']",
         "https://cdn.anime-planet.com/manga/primary/mage-and-demon-queen-part-3-1-190x266.jpg?t=1625932419"
        ],
        [
         "43",
         "Mage & Demon Queen - Part 2",
         "The second season of Mage & Demon Queen.",
         "4.6",
         "2019.0",
         "['Comedy', 'Fantasy', 'GL', 'OEL', 'Romance', 'Shoujo-ai', 'Webtoons', 'Demon King', 'Demons', 'Full Color', 'Interspecies Relationship', 'Magic', 'Royalty']",
         "https://cdn.anime-planet.com/manga/primary/mage-and-demon-queen-part-2-1-190x266.jpg?t=1625923070"
        ],
        [
         "44",
         "Kamisama Kiss",
         "Nanami used to live in a ramshackle apartment with her father - a man who spent half his time gambling and the other half hiding from debt collectors - until one day the scoundrel ran away, leaving his daughter hungry and homeless. That is, until she meets a mysterious stranger in the park who deems her the new goddess of a local shrine! Unfortunately, Nanami’s new home is occupied by Tomoe, a fox familiar who objects to the presence of a mere mortal and immediately begins to bicker with the girl. If she can manage to form a contract with the troublesome man, he’ll be obligated to accept and help her perform her duties. But there’s a catch: Nanami has to kiss him first, and who’d want to lock lips with that awful guy?!",
         "4.6",
         "2008.0",
         "['Comedy', 'Drama', 'Fantasy', 'Romance', 'Shoujo', 'Animal Characteristics', 'Interspecies Relationship', 'Japanese Mythology', 'Master-Servant Relationship', 'Non-Human Protagonists', 'Youkai', 'Violence', 'Adapted to Anime']",
         "https://cdn.anime-planet.com/manga/primary/kamisama-kiss-1-190x285.jpg?t=1625908371"
        ],
        [
         "45",
         "Vinland Saga",
         "Ten years ago, a strong warrior named Thors lost his life in a fight with Askeladd - a powerful and ruthless Viking. Having witnessed his demise, Thors’ son, Thorfinn, became consumed by hatred and vowed to exact revenge on his father’s killer in an honorable duel. With nowhere to go, Thorfinn was recruited onto Askeladd’s ship and began working with the crew as they pillage settlements and trick naive armies. Now, the young boy spends his days honing his battle skills while carrying out Askeladd’s bidding in order to earn his reward of a duel with the vicious captain. But despite having failed in all his bouts with the man he despises so much, will the day ever come when Thorfinn can finally defeat Askeladd and lay his father’s memory to rest?",
         "4.6",
         "2005.0",
         "['Action', 'Adventure', 'Drama', 'Seinen', 'Death of a Loved One', 'England', 'Europe', 'Hand to Hand Combat', 'Historical', 'Medieval', 'Psychological', 'Revenge', 'Swordplay', 'Weak to Strong', 'Violence', 'Adapted to Anime']",
         "https://cdn.anime-planet.com/manga/primary/vinland-saga-1-285x389.jpg?t=1633674473"
        ],
        [
         "46",
         "Heesu in Class 2",
         "Heesu’s world revolves around Chanyoung, his best friend and secret crush. He doesn’t mind cheering Chanyoung from the sidelines or listening to all his girl problems. He doesn’t care if people only know him as “Chanyoung’s friend.” Then one day, Heesu starts hearing his name everywhere. On the bus, in the halls, during lunch… Turns out, there’s a rumor going around school (Got a love problem? Find Heesu in Class 2 and he’ll tell you what to do!) and with that, Heesu suddenly finds himself the center of attention. But how could he give anyone advice? He doesn’t even know what to do about his own crush!",
         "4.6",
         "2017.0",
         "['BL', 'Manhwa', 'Romance', 'Shounen-ai', 'Webtoons', 'Childhood Friends', 'Full Color', 'School Life']",
         "https://cdn.anime-planet.com/manga/primary/heesu-in-class-2-1-190x253.jpg?t=1625917510"
        ],
        [
         "47",
         "Blue Period.",
         "Yatora is the perfect high school student, with good grades and lots of friends. It’s an effortless performance, and, ultimately … a dull one. But he wanders into the art room one day, and a lone painting captures his eye, awakening him to a kind of beauty he never knew. Compelled and consumed, he dives in headfirst—and he’s about to learn how savage and unforgiving art can be!",
         "4.6",
         "2017.0",
         "['Drama', 'Seinen', 'Art', 'Psychological', 'School Club', 'School Life', 'Nudity', 'Adapted to Anime']",
         "https://cdn.anime-planet.com/manga/primary/blue-period-1-190x266.jpg?t=1625918712"
        ],
        [
         "48",
         "Shokuba to Jitaku de Gyappu no Aru Papa",
         "At work he's smooth and cool, but at home he's a total softie?!",
         "4.6",
         "2020.0",
         "['Comedy', 'Romance', 'Slice of Life', 'Doujinshi']",
         "https://cdn.anime-planet.com/manga/primary/shokuba-to-jitaku-de-gyappu-no-aru-papa-1-190x270.jpg?t=1625930414"
        ],
        [
         "49",
         "Kaichou wa Maid-sama! Marriage",
         "This entry currently doesn't have a synopsis. Check back soon!",
         "4.6",
         "2013.0",
         "['Comedy', 'Drama', 'Fantasy', 'Romance', 'Shoujo', 'Collections', 'Crossover', 'School Life']",
         "https://cdn.anime-planet.com/manga/primary/kaichou-wa-maid-sama-marriage-1-190x298.jpg?t=1625916637"
        ]
       ],
       "shape": {
        "columns": 6,
        "rows": 70102
       }
      },
      "text/html": [
       "<div>\n",
       "<style scoped>\n",
       "    .dataframe tbody tr th:only-of-type {\n",
       "        vertical-align: middle;\n",
       "    }\n",
       "\n",
       "    .dataframe tbody tr th {\n",
       "        vertical-align: top;\n",
       "    }\n",
       "\n",
       "    .dataframe thead th {\n",
       "        text-align: right;\n",
       "    }\n",
       "</style>\n",
       "<table border=\"1\" class=\"dataframe\">\n",
       "  <thead>\n",
       "    <tr style=\"text-align: right;\">\n",
       "      <th></th>\n",
       "      <th>title</th>\n",
       "      <th>description</th>\n",
       "      <th>rating</th>\n",
       "      <th>year</th>\n",
       "      <th>tags</th>\n",
       "      <th>cover</th>\n",
       "    </tr>\n",
       "  </thead>\n",
       "  <tbody>\n",
       "    <tr>\n",
       "      <th>0</th>\n",
       "      <td>Salad Days (Tang LiuZang) - Part 2</td>\n",
       "      <td>The second season of Salad Days (Tang LiuZang).</td>\n",
       "      <td>4.7</td>\n",
       "      <td>2021.0</td>\n",
       "      <td>['BL', 'Manhua', 'Romance', 'Shounen-ai', 'Spo...</td>\n",
       "      <td>https://cdn.anime-planet.com/manga/primary/sal...</td>\n",
       "    </tr>\n",
       "    <tr>\n",
       "      <th>1</th>\n",
       "      <td>The Master of Diabolism</td>\n",
       "      <td>As the grandmaster who founded the Demonic Sec...</td>\n",
       "      <td>4.7</td>\n",
       "      <td>2017.0</td>\n",
       "      <td>['Action', 'Adventure', 'BL', 'Comedy', 'Manhu...</td>\n",
       "      <td>https://cdn.anime-planet.com/manga/primary/the...</td>\n",
       "    </tr>\n",
       "    <tr>\n",
       "      <th>2</th>\n",
       "      <td>JoJo's Bizarre Adventure Part 7: Steel Ball Run</td>\n",
       "      <td>Set in 1890, Steel Ball Run spotlights Gyro Ze...</td>\n",
       "      <td>4.7</td>\n",
       "      <td>2004.0</td>\n",
       "      <td>['Action', 'Adventure', 'Horror', 'Mystery', '...</td>\n",
       "      <td>https://cdn.anime-planet.com/manga/primary/joj...</td>\n",
       "    </tr>\n",
       "    <tr>\n",
       "      <th>3</th>\n",
       "      <td>A Sign of Affection</td>\n",
       "      <td>Yuki is a typical college student, whose world...</td>\n",
       "      <td>4.7</td>\n",
       "      <td>2019.0</td>\n",
       "      <td>['Romance', 'Shoujo', 'Slice of Life', 'Disabi...</td>\n",
       "      <td>https://cdn.anime-planet.com/manga/primary/a-s...</td>\n",
       "    </tr>\n",
       "    <tr>\n",
       "      <th>4</th>\n",
       "      <td>Moriarty the Patriot</td>\n",
       "      <td>Before he was Sherlock’s rival, Moriarty fough...</td>\n",
       "      <td>4.7</td>\n",
       "      <td>2016.0</td>\n",
       "      <td>['Mystery', 'Shounen', 'Detectives', 'England'...</td>\n",
       "      <td>https://cdn.anime-planet.com/manga/primary/mor...</td>\n",
       "    </tr>\n",
       "    <tr>\n",
       "      <th>...</th>\n",
       "      <td>...</td>\n",
       "      <td>...</td>\n",
       "      <td>...</td>\n",
       "      <td>...</td>\n",
       "      <td>...</td>\n",
       "      <td>...</td>\n",
       "    </tr>\n",
       "    <tr>\n",
       "      <th>70943</th>\n",
       "      <td>Sonna ni Watashi wo Semenaide</td>\n",
       "      <td>This entry currently doesn't have a synopsis. ...</td>\n",
       "      <td>NaN</td>\n",
       "      <td>2022.0</td>\n",
       "      <td>['Romance', 'Shoujo']</td>\n",
       "      <td>https://cdn.anime-planet.com/manga/primary/son...</td>\n",
       "    </tr>\n",
       "    <tr>\n",
       "      <th>70944</th>\n",
       "      <td>Nakitsura ni Kiss</td>\n",
       "      <td>A clumsy girl and a kind boy have their first ...</td>\n",
       "      <td>NaN</td>\n",
       "      <td>2020.0</td>\n",
       "      <td>['One Shot', 'Romance', 'Shoujo', 'Slice of Li...</td>\n",
       "      <td>https://cdn.anime-planet.com/manga/primary/nak...</td>\n",
       "    </tr>\n",
       "    <tr>\n",
       "      <th>70945</th>\n",
       "      <td>Renjou Lunch Time</td>\n",
       "      <td>This entry currently doesn't have a synopsis. ...</td>\n",
       "      <td>NaN</td>\n",
       "      <td>2019.0</td>\n",
       "      <td>['Comedy', 'One Shot', 'Romance', 'Shounen', '...</td>\n",
       "      <td>https://cdn.anime-planet.com/manga/primary/ren...</td>\n",
       "    </tr>\n",
       "    <tr>\n",
       "      <th>70946</th>\n",
       "      <td>101-kaime no Suki</td>\n",
       "      <td>She's confessed 100 times, what happens on the...</td>\n",
       "      <td>NaN</td>\n",
       "      <td>2020.0</td>\n",
       "      <td>['One Shot', 'Romance', 'Shoujo', 'School Life']</td>\n",
       "      <td>https://cdn.anime-planet.com/manga/primary/101...</td>\n",
       "    </tr>\n",
       "    <tr>\n",
       "      <th>70947</th>\n",
       "      <td>Kirahoshi no Meril</td>\n",
       "      <td>This entry currently doesn't have a synopsis. ...</td>\n",
       "      <td>NaN</td>\n",
       "      <td>2019.0</td>\n",
       "      <td>['Action', 'One Shot', 'Shounen']</td>\n",
       "      <td>https://cdn.anime-planet.com/manga/primary/kir...</td>\n",
       "    </tr>\n",
       "  </tbody>\n",
       "</table>\n",
       "<p>70102 rows × 6 columns</p>\n",
       "</div>"
      ],
      "text/plain": [
       "                                                 title  \\\n",
       "0                   Salad Days (Tang LiuZang) - Part 2   \n",
       "1                              The Master of Diabolism   \n",
       "2      JoJo's Bizarre Adventure Part 7: Steel Ball Run   \n",
       "3                                  A Sign of Affection   \n",
       "4                                 Moriarty the Patriot   \n",
       "...                                                ...   \n",
       "70943                    Sonna ni Watashi wo Semenaide   \n",
       "70944                                Nakitsura ni Kiss   \n",
       "70945                                Renjou Lunch Time   \n",
       "70946                                101-kaime no Suki   \n",
       "70947                               Kirahoshi no Meril   \n",
       "\n",
       "                                             description  rating    year  \\\n",
       "0        The second season of Salad Days (Tang LiuZang).     4.7  2021.0   \n",
       "1      As the grandmaster who founded the Demonic Sec...     4.7  2017.0   \n",
       "2      Set in 1890, Steel Ball Run spotlights Gyro Ze...     4.7  2004.0   \n",
       "3      Yuki is a typical college student, whose world...     4.7  2019.0   \n",
       "4      Before he was Sherlock’s rival, Moriarty fough...     4.7  2016.0   \n",
       "...                                                  ...     ...     ...   \n",
       "70943  This entry currently doesn't have a synopsis. ...     NaN  2022.0   \n",
       "70944  A clumsy girl and a kind boy have their first ...     NaN  2020.0   \n",
       "70945  This entry currently doesn't have a synopsis. ...     NaN  2019.0   \n",
       "70946  She's confessed 100 times, what happens on the...     NaN  2020.0   \n",
       "70947  This entry currently doesn't have a synopsis. ...     NaN  2019.0   \n",
       "\n",
       "                                                    tags  \\\n",
       "0      ['BL', 'Manhua', 'Romance', 'Shounen-ai', 'Spo...   \n",
       "1      ['Action', 'Adventure', 'BL', 'Comedy', 'Manhu...   \n",
       "2      ['Action', 'Adventure', 'Horror', 'Mystery', '...   \n",
       "3      ['Romance', 'Shoujo', 'Slice of Life', 'Disabi...   \n",
       "4      ['Mystery', 'Shounen', 'Detectives', 'England'...   \n",
       "...                                                  ...   \n",
       "70943                              ['Romance', 'Shoujo']   \n",
       "70944  ['One Shot', 'Romance', 'Shoujo', 'Slice of Li...   \n",
       "70945  ['Comedy', 'One Shot', 'Romance', 'Shounen', '...   \n",
       "70946   ['One Shot', 'Romance', 'Shoujo', 'School Life']   \n",
       "70947                  ['Action', 'One Shot', 'Shounen']   \n",
       "\n",
       "                                                   cover  \n",
       "0      https://cdn.anime-planet.com/manga/primary/sal...  \n",
       "1      https://cdn.anime-planet.com/manga/primary/the...  \n",
       "2      https://cdn.anime-planet.com/manga/primary/joj...  \n",
       "3      https://cdn.anime-planet.com/manga/primary/a-s...  \n",
       "4      https://cdn.anime-planet.com/manga/primary/mor...  \n",
       "...                                                  ...  \n",
       "70943  https://cdn.anime-planet.com/manga/primary/son...  \n",
       "70944  https://cdn.anime-planet.com/manga/primary/nak...  \n",
       "70945  https://cdn.anime-planet.com/manga/primary/ren...  \n",
       "70946  https://cdn.anime-planet.com/manga/primary/101...  \n",
       "70947  https://cdn.anime-planet.com/manga/primary/kir...  \n",
       "\n",
       "[70102 rows x 6 columns]"
      ]
     },
     "execution_count": 2,
     "metadata": {},
     "output_type": "execute_result"
    }
   ],
   "source": [
    "for row in df.index:\n",
    "    #print(\"Current row:\", row)\n",
    "    if df.loc[row, \"year\"] < 1980:\n",
    "        df.drop(row, inplace=True)\n",
    "df\n"
   ]
  },
  {
   "cell_type": "markdown",
   "metadata": {},
   "source": [
    "4. Write the modified data to a CSV or Excel file"
   ]
  },
  {
   "cell_type": "code",
   "execution_count": null,
   "metadata": {},
   "outputs": [],
   "source": [
    "# Find rows with any NaN values\n",
    "##rows_with_nan = df[df.isnull().any(axis=1)]\n",
    "#print(rows_with_nan)"
   ]
  },
  {
   "cell_type": "code",
   "execution_count": null,
   "metadata": {},
   "outputs": [
    {
     "data": {
      "application/vnd.microsoft.datawrangler.viewer.v0+json": {
       "columns": [
        {
         "name": "index",
         "rawType": "int64",
         "type": "integer"
        },
        {
         "name": "title",
         "rawType": "bool",
         "type": "boolean"
        },
        {
         "name": "description",
         "rawType": "bool",
         "type": "boolean"
        },
        {
         "name": "rating",
         "rawType": "bool",
         "type": "boolean"
        },
        {
         "name": "year",
         "rawType": "bool",
         "type": "boolean"
        },
        {
         "name": "tags",
         "rawType": "bool",
         "type": "boolean"
        },
        {
         "name": "cover",
         "rawType": "bool",
         "type": "boolean"
        }
       ],
       "conversionMethod": "pd.DataFrame",
       "ref": "3b80093a-b814-4bd0-aa7a-f3885d80f00f",
       "rows": [
        [
         "0",
         "False",
         "False",
         "False",
         "False",
         "False",
         "False"
        ],
        [
         "1",
         "False",
         "False",
         "False",
         "False",
         "False",
         "False"
        ],
        [
         "2",
         "False",
         "False",
         "False",
         "False",
         "False",
         "False"
        ],
        [
         "3",
         "False",
         "False",
         "False",
         "False",
         "False",
         "False"
        ],
        [
         "4",
         "False",
         "False",
         "False",
         "False",
         "False",
         "False"
        ],
        [
         "5",
         "False",
         "False",
         "False",
         "False",
         "False",
         "False"
        ],
        [
         "6",
         "False",
         "False",
         "False",
         "False",
         "False",
         "False"
        ],
        [
         "7",
         "False",
         "False",
         "False",
         "False",
         "False",
         "False"
        ],
        [
         "8",
         "False",
         "False",
         "False",
         "False",
         "False",
         "False"
        ],
        [
         "9",
         "False",
         "False",
         "False",
         "False",
         "False",
         "False"
        ],
        [
         "10",
         "False",
         "False",
         "False",
         "False",
         "False",
         "False"
        ],
        [
         "11",
         "False",
         "False",
         "False",
         "False",
         "False",
         "False"
        ],
        [
         "12",
         "False",
         "False",
         "False",
         "False",
         "False",
         "False"
        ],
        [
         "13",
         "False",
         "False",
         "False",
         "False",
         "False",
         "False"
        ],
        [
         "14",
         "False",
         "False",
         "False",
         "False",
         "False",
         "False"
        ],
        [
         "15",
         "False",
         "False",
         "False",
         "False",
         "False",
         "False"
        ],
        [
         "16",
         "False",
         "False",
         "False",
         "False",
         "False",
         "False"
        ],
        [
         "17",
         "False",
         "False",
         "False",
         "False",
         "False",
         "False"
        ],
        [
         "18",
         "False",
         "False",
         "False",
         "False",
         "False",
         "False"
        ],
        [
         "19",
         "False",
         "False",
         "False",
         "False",
         "False",
         "False"
        ],
        [
         "20",
         "False",
         "False",
         "False",
         "False",
         "False",
         "False"
        ],
        [
         "21",
         "False",
         "False",
         "False",
         "False",
         "False",
         "False"
        ],
        [
         "22",
         "False",
         "False",
         "False",
         "False",
         "False",
         "False"
        ],
        [
         "23",
         "False",
         "False",
         "False",
         "False",
         "False",
         "False"
        ],
        [
         "24",
         "False",
         "False",
         "False",
         "False",
         "False",
         "False"
        ],
        [
         "25",
         "False",
         "False",
         "False",
         "False",
         "False",
         "False"
        ],
        [
         "26",
         "False",
         "False",
         "False",
         "False",
         "False",
         "False"
        ],
        [
         "27",
         "False",
         "False",
         "False",
         "False",
         "False",
         "False"
        ],
        [
         "28",
         "False",
         "False",
         "False",
         "False",
         "False",
         "False"
        ],
        [
         "29",
         "False",
         "False",
         "False",
         "False",
         "False",
         "False"
        ],
        [
         "30",
         "False",
         "False",
         "False",
         "False",
         "False",
         "False"
        ],
        [
         "31",
         "False",
         "False",
         "False",
         "False",
         "False",
         "False"
        ],
        [
         "32",
         "False",
         "False",
         "False",
         "False",
         "False",
         "False"
        ],
        [
         "33",
         "False",
         "False",
         "False",
         "False",
         "False",
         "False"
        ],
        [
         "34",
         "False",
         "False",
         "False",
         "False",
         "False",
         "False"
        ],
        [
         "35",
         "False",
         "False",
         "False",
         "False",
         "False",
         "False"
        ],
        [
         "36",
         "False",
         "False",
         "False",
         "False",
         "False",
         "False"
        ],
        [
         "37",
         "False",
         "False",
         "False",
         "False",
         "False",
         "False"
        ],
        [
         "38",
         "False",
         "False",
         "False",
         "False",
         "False",
         "False"
        ],
        [
         "39",
         "False",
         "False",
         "False",
         "False",
         "False",
         "False"
        ],
        [
         "40",
         "False",
         "False",
         "False",
         "False",
         "False",
         "False"
        ],
        [
         "41",
         "False",
         "False",
         "False",
         "False",
         "False",
         "False"
        ],
        [
         "42",
         "False",
         "False",
         "False",
         "False",
         "False",
         "False"
        ],
        [
         "43",
         "False",
         "False",
         "False",
         "False",
         "False",
         "False"
        ],
        [
         "44",
         "False",
         "False",
         "False",
         "False",
         "False",
         "False"
        ],
        [
         "45",
         "False",
         "False",
         "False",
         "False",
         "False",
         "False"
        ],
        [
         "46",
         "False",
         "False",
         "False",
         "False",
         "False",
         "False"
        ],
        [
         "47",
         "False",
         "False",
         "False",
         "False",
         "False",
         "False"
        ],
        [
         "48",
         "False",
         "False",
         "False",
         "False",
         "False",
         "False"
        ],
        [
         "49",
         "False",
         "False",
         "False",
         "False",
         "False",
         "False"
        ]
       ],
       "shape": {
        "columns": 6,
        "rows": 70102
       }
      },
      "text/html": [
       "<div>\n",
       "<style scoped>\n",
       "    .dataframe tbody tr th:only-of-type {\n",
       "        vertical-align: middle;\n",
       "    }\n",
       "\n",
       "    .dataframe tbody tr th {\n",
       "        vertical-align: top;\n",
       "    }\n",
       "\n",
       "    .dataframe thead th {\n",
       "        text-align: right;\n",
       "    }\n",
       "</style>\n",
       "<table border=\"1\" class=\"dataframe\">\n",
       "  <thead>\n",
       "    <tr style=\"text-align: right;\">\n",
       "      <th></th>\n",
       "      <th>title</th>\n",
       "      <th>description</th>\n",
       "      <th>rating</th>\n",
       "      <th>year</th>\n",
       "      <th>tags</th>\n",
       "      <th>cover</th>\n",
       "    </tr>\n",
       "  </thead>\n",
       "  <tbody>\n",
       "    <tr>\n",
       "      <th>0</th>\n",
       "      <td>False</td>\n",
       "      <td>False</td>\n",
       "      <td>False</td>\n",
       "      <td>False</td>\n",
       "      <td>False</td>\n",
       "      <td>False</td>\n",
       "    </tr>\n",
       "    <tr>\n",
       "      <th>1</th>\n",
       "      <td>False</td>\n",
       "      <td>False</td>\n",
       "      <td>False</td>\n",
       "      <td>False</td>\n",
       "      <td>False</td>\n",
       "      <td>False</td>\n",
       "    </tr>\n",
       "    <tr>\n",
       "      <th>2</th>\n",
       "      <td>False</td>\n",
       "      <td>False</td>\n",
       "      <td>False</td>\n",
       "      <td>False</td>\n",
       "      <td>False</td>\n",
       "      <td>False</td>\n",
       "    </tr>\n",
       "    <tr>\n",
       "      <th>3</th>\n",
       "      <td>False</td>\n",
       "      <td>False</td>\n",
       "      <td>False</td>\n",
       "      <td>False</td>\n",
       "      <td>False</td>\n",
       "      <td>False</td>\n",
       "    </tr>\n",
       "    <tr>\n",
       "      <th>4</th>\n",
       "      <td>False</td>\n",
       "      <td>False</td>\n",
       "      <td>False</td>\n",
       "      <td>False</td>\n",
       "      <td>False</td>\n",
       "      <td>False</td>\n",
       "    </tr>\n",
       "    <tr>\n",
       "      <th>...</th>\n",
       "      <td>...</td>\n",
       "      <td>...</td>\n",
       "      <td>...</td>\n",
       "      <td>...</td>\n",
       "      <td>...</td>\n",
       "      <td>...</td>\n",
       "    </tr>\n",
       "    <tr>\n",
       "      <th>70943</th>\n",
       "      <td>False</td>\n",
       "      <td>False</td>\n",
       "      <td>True</td>\n",
       "      <td>False</td>\n",
       "      <td>False</td>\n",
       "      <td>False</td>\n",
       "    </tr>\n",
       "    <tr>\n",
       "      <th>70944</th>\n",
       "      <td>False</td>\n",
       "      <td>False</td>\n",
       "      <td>True</td>\n",
       "      <td>False</td>\n",
       "      <td>False</td>\n",
       "      <td>False</td>\n",
       "    </tr>\n",
       "    <tr>\n",
       "      <th>70945</th>\n",
       "      <td>False</td>\n",
       "      <td>False</td>\n",
       "      <td>True</td>\n",
       "      <td>False</td>\n",
       "      <td>False</td>\n",
       "      <td>False</td>\n",
       "    </tr>\n",
       "    <tr>\n",
       "      <th>70946</th>\n",
       "      <td>False</td>\n",
       "      <td>False</td>\n",
       "      <td>True</td>\n",
       "      <td>False</td>\n",
       "      <td>False</td>\n",
       "      <td>False</td>\n",
       "    </tr>\n",
       "    <tr>\n",
       "      <th>70947</th>\n",
       "      <td>False</td>\n",
       "      <td>False</td>\n",
       "      <td>True</td>\n",
       "      <td>False</td>\n",
       "      <td>False</td>\n",
       "      <td>False</td>\n",
       "    </tr>\n",
       "  </tbody>\n",
       "</table>\n",
       "<p>70102 rows × 6 columns</p>\n",
       "</div>"
      ],
      "text/plain": [
       "       title  description  rating   year   tags  cover\n",
       "0      False        False   False  False  False  False\n",
       "1      False        False   False  False  False  False\n",
       "2      False        False   False  False  False  False\n",
       "3      False        False   False  False  False  False\n",
       "4      False        False   False  False  False  False\n",
       "...      ...          ...     ...    ...    ...    ...\n",
       "70943  False        False    True  False  False  False\n",
       "70944  False        False    True  False  False  False\n",
       "70945  False        False    True  False  False  False\n",
       "70946  False        False    True  False  False  False\n",
       "70947  False        False    True  False  False  False\n",
       "\n",
       "[70102 rows x 6 columns]"
      ]
     },
     "execution_count": 4,
     "metadata": {},
     "output_type": "execute_result"
    }
   ],
   "source": [
    "#detects any NA values in all columns\n",
    "#True is NA\n",
    "#False is an actual value\n",
    "\n",
    "df.isna()"
   ]
  },
  {
   "cell_type": "code",
   "execution_count": 5,
   "metadata": {},
   "outputs": [
    {
     "name": "stdout",
     "output_type": "stream",
     "text": [
      "title                             Karakuri No Face (Light Novel)\n",
      "description    This entry currently doesn't have a synopsis. ...\n",
      "rating                                                       NaN\n",
      "year                                                      2015.0\n",
      "tags                        ['Action', 'Light Novels', 'Sci Fi']\n",
      "cover          https://cdn.anime-planet.com/manga/primary/kar...\n",
      "Name: 52348, dtype: object\n"
     ]
    }
   ],
   "source": [
    "print(df.loc[52348])"
   ]
  },
  {
   "cell_type": "code",
   "execution_count": 11,
   "metadata": {},
   "outputs": [
    {
     "data": {
      "application/vnd.microsoft.datawrangler.viewer.v0+json": {
       "columns": [
        {
         "name": "index",
         "rawType": "int64",
         "type": "integer"
        },
        {
         "name": "title",
         "rawType": "object",
         "type": "string"
        },
        {
         "name": "description",
         "rawType": "object",
         "type": "unknown"
        },
        {
         "name": "rating",
         "rawType": "float64",
         "type": "float"
        },
        {
         "name": "year",
         "rawType": "float64",
         "type": "float"
        },
        {
         "name": "tags",
         "rawType": "object",
         "type": "string"
        },
        {
         "name": "cover",
         "rawType": "object",
         "type": "string"
        }
       ],
       "conversionMethod": "pd.DataFrame",
       "ref": "e7b857e8-240f-4025-8286-e74a49b615cf",
       "rows": [
        [
         "0",
         "Salad Days (Tang LiuZang) - Part 2",
         "The second season of Salad Days (Tang LiuZang).",
         "4.7",
         "2021.0",
         "['BL', 'Manhua', 'Romance', 'Shounen-ai', 'Sports', 'Webtoons', 'Full Color']",
         "https://cdn.anime-planet.com/manga/primary/salad-days-tang-liuzang-part-2-1-285x399.jpg?t=1638084843"
        ],
        [
         "1",
         "The Master of Diabolism",
         "As the grandmaster who founded the Demonic Sect, Wei WuXian roamed the world in his wanton ways, hated by millions for the chaos he created. In the end, he was back-stabbed by his dearest shidi and killed by powerful clans that combined to overpower him. He incarnates into the body of a lunatic who was abandoned by his clan and is later, unwillingly, taken away by a famous cultivator among the clans—Lan WangJi, his archenemy.",
         "4.7",
         "2017.0",
         "['Action', 'Adventure', 'BL', 'Comedy', 'Manhua', 'Mystery', 'Romance', 'Shounen-ai', 'Ancient China', 'Cultivation', 'Martial Arts', 'Supernatural', 'Xianxia', 'Mature Themes', 'Suicide', 'Violence', 'Based on a Web Novel']",
         "https://cdn.anime-planet.com/manga/primary/the-master-of-diabolism-1-190x252.jpg?t=1625917239"
        ],
        [
         "2",
         "JoJo's Bizarre Adventure Part 7: Steel Ball Run",
         "Set in 1890, Steel Ball Run spotlights Gyro Zepelli and Johnny Joestar as they pit their spirits on a Fifty Million Dollar race across the heart of America. Their track quickly becomes a no-rules land as the racers' dreams collide and only human will spurs them on. But there is more to this race than any contestant realized and each of them soon grasps the real size of their world.",
         "4.7",
         "2004.0",
         "['Action', 'Adventure', 'Horror', 'Mystery', 'Seinen', '19th Century', 'America', 'Historical']",
         "https://cdn.anime-planet.com/manga/primary/jojos-bizarre-adventure-part-7-steel-ball-run-1-185x300.jpg?t=1625909521"
        ],
        [
         "3",
         "A Sign of Affection",
         "Yuki is a typical college student, whose world revolves around her friends, social media, and the latest sales. But when a chance encounter on a train leads to her meeting friend-of-a-friend and fellow student Itsuomi-san, her world starts to widen. But even though Itsuomi-kun can speak three languages, sign language isn’t one of them. Can the two learn to communicate the budding feelings between them?",
         "4.7",
         "2019.0",
         "['Romance', 'Shoujo', 'Slice of Life', 'Disability']",
         "https://cdn.anime-planet.com/manga/primary/a-sign-of-affection-1-190x285.jpg?t=1625922916"
        ],
        [
         "4",
         "Moriarty the Patriot",
         "Before he was Sherlock’s rival, Moriarty fought against the unfair class caste system in London by making sure corrupt nobility got their comeuppance. But even the best-intentioned plans can spin out of control—will Moriarty’s dream of a more just and equal world turn him into a hero…or a monster?",
         "4.7",
         "2016.0",
         "['Mystery', 'Shounen', 'Detectives', 'England', 'Europe', 'Historical', 'Sherlock Holmes', 'Adapted to Anime', 'Based on a Novel']",
         "https://cdn.anime-planet.com/manga/primary/moriarty-the-patriot-1-190x285.jpg?t=1625916116"
        ],
        [
         "5",
         "Classroom of the Elite (Light Novel)",
         "At the prestigious Tokyo Metropolitan Advanced Nurturing High School, which aims to produce the country’s future leaders, students are given remarkable freedom. However, they also have to deal with a point system that decides one’s place in the school’s hierarchy! Ayanokoji Kiyotaka has landed at the bottom in the scorned Class D, where he meets Horikita Suzune, who’s determined to work her way back up to Class A, and Kushida Kikyo, who seems like she only wants to make friends. Can they advance through this school where cutthroat competition is the name of the game?",
         "4.7",
         "2015.0",
         "['Comedy', 'Drama', 'Ecchi', 'Harem', 'Light Novels', 'Romance', 'Boarding School', 'School Life', 'Adapted to Anime']",
         "https://cdn.anime-planet.com/manga/primary/classroom-of-the-elite-light-novel-1-285x403.jpg?t=1630446924"
        ],
        [
         "6",
         "Who Made Me a Princess",
         "The beautiful Athanasia was killed at the hands of her own biological father, Claude de Alger Obelia, the cold-blooded emperor! It’s just a silly bedtime story… until one woman wakes up to suddenly find she’s become that unfortunate princess! She needs a plan to survive her doomed fate, and time is running out. Will she go with Plan A, live as quietly as possible without being noticed by the infamous emperor? Plan B, collect enough money to escape the palace? Or will she be stuck with plan C, sweet-talking her way into her father’s good graces?!",
         "4.7",
         "2017.0",
         "['Fantasy', 'Manhwa', 'Romance', 'Slice of Life', 'Webtoons', 'Full Color', 'Isekai', 'Magic', 'Person in a Strange World', 'Political', 'Reincarnation', 'Royalty', 'Based on a Web Novel']",
         "https://cdn.anime-planet.com/manga/primary/who-made-me-a-princess-1-190x266.jpg?t=1625919708"
        ],
        [
         "7",
         "Demon Slayer: Kimetsu no Yaiba",
         "The setting is Taisho era Japan. Tanjirou is a kindhearted young boy who lived peacefully with his family as a coal seller. Their normal life changes completely when his family is slaughtered by demons. The only other survivor, Tanjirou's younger sister Nezuko, has become a ferocious demon. In order to return Nezuko to normal and get revenge on the demon that killed their family, the two of them depart on a journey. From a young talent, an adventure tale of blood and swords begins!",
         "4.7",
         "2016.0",
         "['Action', 'Adventure', 'Comedy', 'Drama', 'Fantasy', 'Shounen', 'Death of a Loved One', 'Demons', 'Historical', 'Martial Arts', 'Orphans', 'Siblings', 'Explicit Violence', 'Adapted to Anime']",
         "https://cdn.anime-planet.com/manga/primary/demon-slayer-kimetsu-no-yaiba-1-285x428.jpg?t=1634713702"
        ],
        [
         "8",
         "Omniscient Reader (Novel)",
         "One day, our MC finds himself stuck in the world of his favorite web novel. What should he do to survive? It's a world struck by catastrophe and danger all around. His edge? He knows the plot of the story to end, because he was the sole reader that stuck with it. ",
         "4.7",
         "2018.0",
         "['Action', 'Adventure', 'Drama', 'Fantasy', 'Manhwa', 'Web Novels', 'Cheats', 'High Stakes Games', 'Martial Arts', 'Play or Die', 'Psychological', 'Urban Fantasy']",
         "https://cdn.anime-planet.com/manga/primary/omniscient-reader-novel-1-190x266.jpg?t=1625919886"
        ],
        [
         "9",
         "Omniscient Reader",
         "Back then, Dokja had no idea. He had no idea his favorite web novel 'Three Ways to Survive the Apocalypse' was going to come to life, and that he would become the only person to know how the world was going to end. He also had no idea he would end up becoming the protagonist of this novel-turned-reality. Now, Dokja will go on a journey to change the course of the story and save humankind once and for all.",
         "4.7",
         "2020.0",
         "['Action', 'Adventure', 'Drama', 'Fantasy', 'Manhwa', 'Webtoons', 'Cheats', 'Full Color', 'High Stakes Games', 'Play or Die', 'Psychological', 'PVE', 'PVP', 'RPG', 'Survival', 'Urban Fantasy', 'Explicit Violence', 'Based on a Web Novel']",
         "https://cdn.anime-planet.com/manga/primary/omniscient-reader-1-285x409.jpg?t=1628025756"
        ],
        [
         "10",
         "Tower of God - Part 3",
         "The third season of Tower of God.",
         "4.7",
         "2019.0",
         "['Action', 'Adventure', 'Drama', 'Fantasy', 'Manhwa', 'Webtoons', 'Full Color', 'Violence']",
         "https://cdn.anime-planet.com/manga/primary/tower-of-god-part-3-1-190x266.jpg?t=1625921019"
        ],
        [
         "11",
         "Yotsuba&!",
         "Meet Yotsuba Koiwai, the strangest little girl around. With a mind so straight it's twisted, Yotsuba takes everything in life at face value and sees everything with the eyes of impenetrable innocence. With her laid-back father, Yotsuba moves into a new house and makes new friends - friends whose minds boggle at the wacky and somewhat wise way that Yotsuba lives her daily life!",
         "4.7",
         "2003.0",
         "['Comedy', 'Shounen', 'Slice of Life', 'Iyashikei', 'Single Parent']",
         "https://cdn.anime-planet.com/manga/primary/yotsuba-1-190x284.jpg?t=1625907491"
        ],
        [
         "12",
         "Bastard",
         "Jin has lived a tough life. One of his oldest memories is waking up in the hospital, having received an artificial heart valve, and a glass eye. And as a student, he's relentlessly bullied for his disabilities. But Jin's school life is nothing compared to his home life, where he's raised by his father, a serial killer who targets young women and forces the boy to act as his accomplice. Can Jin do anything to stop his father's reign of terror without becoming the next victim?",
         "4.7",
         "2014.0",
         "['Drama', 'Horror', 'Manhwa', 'Romance', 'Webtoons', 'Criminals', 'Disability', 'Dysfunctional Families', 'Full Color', 'Mind Games', 'Psychological', 'Psychopaths', 'Serial Killers', 'Thriller', 'Bullying', 'Emotional Abuse', 'Explicit Violence', 'Mature Themes', 'Physical Abuse', 'Domestic Abuse']",
         "https://cdn.anime-planet.com/manga/primary/bastard-1-190x289.jpg?t=1625913904"
        ],
        [
         "13",
         "Tower of God - Part 2",
         "The second season of Tower of God.",
         "4.7",
         "2012.0",
         "['Action', 'Adventure', 'Drama', 'Fantasy', 'Manhwa', 'Webtoons', 'Full Color', 'High Stakes Games', 'Violence']",
         "https://cdn.anime-planet.com/manga/primary/tower-of-god-part-2-1-190x272.jpg?t=1625910760"
        ],
        [
         "14",
         "I’m Really Not the Devil’s Lackey",
         "Lin Jie, who has transmigrated into this world, runs a bookshop. Nice and passionate, he always recommends books that are capable of healing one's soul to customers who find themselves in a rough patch in life. Occasionally, he would recommend his own work to them as well. Over time, these customers have grown to respect him a lot. They bring him some simple souvenirs every day to repay him and ask him for recommendations of literary works. At the same time, they tell the people around them about this bookstore owner as well. They have respectful and affectionate ways of addressing him-\"The Devil's Hyena\", \"The Communicator of Flesh Gospel of Books\", \"The Author of the Corpse Ritual\" and \" The Star Shepard\".",
         "4.7",
         "2021.0",
         "['Fantasy', 'Manhua', 'Webtoons', 'Bookstore', 'Full Color', 'Isekai', 'Person in a Strange World', 'Based on a Web Novel']",
         "https://cdn.anime-planet.com/manga/primary/im-really-not-the-devils-lackey-1-285x399.webp?t=1646215508"
        ],
        [
         "15",
         "Umarekawatte mo mata, Watashi to Kekkon shite kuremasu ka?",
         "Toranosuke fell in love with his servant Kaoru. For twenty years, they slowly developed their love for each other, thus a Showa couple of clumsy husband and muscle brained wife was born. They spend a lot of time together, and they begin to talk in a nostalgic manner in Toranosuke's hospital room. Gentle memories of a deeply in love husband and wife.",
         "4.7",
         "2017.0",
         "['Comedy', 'Drama', 'Romance', 'Historical', 'Mature Romance']",
         "https://cdn.anime-planet.com/manga/primary/umarekawatte-mo-mata-watashi-to-kekkon-shite-kuremasu-ka-1-190x272.jpg?t=1625922274"
        ],
        [
         "16",
         "Banana Fish",
         "Nature made Ash Lynx beautiful; nurture made him a cold ruthless killer. A runaway brought up as the adopted heir and sex toy of \"Papa\" Dino Golzine, Ash, now at the rebellious age of seventeen, forsakes the kingdom held out by the devil who raised him. But the hideous secret that drove Ash's older brother mad in Vietnam has suddenly fallen into Papa's insatiably ambitious hands--and it's exactly the wrong time for Eiji Okamura, a pure-hearted young photographer from Japan, to make Ash Lynx's acquaintance...",
         "4.7",
         "1985.0",
         "['Action', 'Adventure', 'Drama', 'Mystery', 'Shoujo', 'America', 'Delinquents', 'Guns', 'Hand to Hand Combat', 'Psychological', 'Drug Use', 'Emotional Abuse', 'Mature Themes', 'Nudity', 'Physical Abuse', 'Sexual Abuse', 'Sexual Content', 'Adapted to Anime']",
         "https://cdn.anime-planet.com/manga/primary/banana-fish-1-285x429.jpg?t=1629834461"
        ],
        [
         "17",
         "Teenage Mercenary",
         "At the age of eight, Ijin Yu lost his parents in a plane crash and became stranded in a foreign land, forced to become a child mercenary in order to stay alive. He returns home ten years later to be reunited with his family in Korea, where food and shelter are plenty and everything seems peaceful. But Ijin will soon learn that life as a teenager is a whole other feat of survival. With only one year of high school left, Ijin must master new tactics to maneuver his way around the schoolhouse battleground. Can he survive a year of high school? Or rather, will the school be able to survive him?",
         "4.7",
         "2020.0",
         "['Action', 'Drama', 'Manhwa', 'Webtoons', 'Full Color', 'Lifestyle Change', 'School Life']",
         "https://cdn.anime-planet.com/manga/primary/teenage-mercenary-1-190x266.jpg?t=1625929294"
        ],
        [
         "18",
         "I Want to Eat Your Pancreas (Novel)",
         "In this deeply moving first-person story, a high school boy finds the diary of his classmate—and discovers that she’s dying. Yamauchi Sakura has been silently suffering from a pancreatic disease in school, and now exactly one person outside her family knows. He swears to her that he won’t tell anyone what he learned, and the shared secret brings them closer together. The two have very little in common, but they find themselves drawn to each other in Sakura’s final months to live.",
         "4.7",
         "2015.0",
         "['Drama', 'Romance', 'Coming of Age', 'Illness', 'Novels', 'Opposites Attract', 'School Life', 'Adapted to Anime', 'Based on a Web Novel']",
         "https://cdn.anime-planet.com/manga/primary/i-want-to-eat-your-pancreas-novel-1-190x267.jpg?t=1625916704"
        ],
        [
         "19",
         "Our Dreams at Dusk: Shimanami Tasogare",
         "Not only is high schooler Tasuku Kaname the new kid in town, he's also terrified that he's been outed as gay. Just as he's contemplating doing the unthinkable, Tasuku meets a mysterious woman who leads him to a group of people dealing with problems not so different from his own. In this realistic, heartfelt depiction of LGBT+ characters from different backgrounds finding their place in the world, a search for inner peace proves to be the most universal experience of all.",
         "4.7",
         "2015.0",
         "['Drama', 'Seinen', 'LGBT Themes', 'Psychological', 'School Life', 'Bullying']",
         "https://cdn.anime-planet.com/manga/primary/our-dreams-at-dusk-shimanami-tasogare-1-190x271.jpg?t=1625914553"
        ],
        [
         "20",
         "Spirit Fingers!",
         "What do you do if you're going on 18, totally awkward and lacking in self- confidence? You could just sit in your room all day and all night and study and wonder why you never get asked out…OR, if you’re Amy Song you could join up with the Spirit Fingers – the strangest, hippest, coolest (yet most welcoming) art club ever. But as Amy is about to learn, discovering your TRUE colors is about more than just painting.",
         "4.7",
         "2015.0",
         "['Comedy', 'Manhwa', 'Romance', 'Webtoons', 'Full Color', 'School Club']",
         "https://cdn.anime-planet.com/manga/primary/spirit-fingers-1-190x266.jpg?t=1625914644"
        ],
        [
         "21",
         "Your Letter",
         "Sori is a special young girl - kind, caring and principled well beyond her years. Unfortunately, these are NOT the personality traits generally celebrated in middle school – especially Sori’s, where she’s bullied mercilessly for defending the defenseless until she herself becomes a target. To escape, she transfers to a new school where the same old problems begin to play out all over again – that is until a mysterious trail of letters leads Sori on a magical scavenger hunt through the hidden world that exists right below the surface of her new middle school. The mail trail is the work an anonymous guardian angel, whose mission seems to be to provide a soft landing for Sori at her new school. But who is this person? And why did he choose her? With each letter, secrets are revealed and bonds are formed - as Sori learns about friendship, flora, fauna and finding the good in people in this strange new environment.",
         "4.7",
         "2018.0",
         "['Adventure', 'Drama', 'Manhwa', 'Mystery', 'Webtoons', 'Full Color', 'School Life', 'Bullying']",
         "https://cdn.anime-planet.com/manga/primary/your-letter-1-190x270.jpg?t=1625920730"
        ],
        [
         "22",
         "Only I Level Up (Novel)",
         "In this world where Hunters with various magical powers battle monsters from invading the defenceless humanity, Sung Jin-Woo was the weakest of all the Hunters, barely able to make a living. However, a mysterious System grants him the power of the ‘Player’, setting him on a course for an incredible and often times perilous Journey. Follow Sung Jin-Woo as he embarks on an adventure to become an unparalleled existence through his “Level-Up” system - the only one in the entire world!",
         "4.7",
         "2016.0",
         "['Action', 'Adventure', 'Fantasy', 'Manhwa', 'Web Novels', 'Dungeon', 'Magic', 'RPG', 'Weak to Strong']",
         "https://cdn.anime-planet.com/manga/primary/only-i-level-up-novel-1-190x271.jpg?t=1625920159"
        ],
        [
         "23",
         "Bloom Into You",
         "Yuu has always loved shoujo manga and awaits the day she gets a love confession that sends her heart aflutter with bubbles and hearts, and yet when a junior high classmate confesses his feelings to her...she feels nothing. Disappointed and confused, Yuu enters high school still unsure how to respond. That's when Yuu sees the beautiful student council president Nanami turn down a suitor with such maturity that she's inspired to ask her for help. But when the next person to confess to Yuu is Nanami herself, has her shoujo romance finally begun?",
         "4.7",
         "2015.0",
         "['Drama', 'GL', 'Romance', 'Shoujo-ai', 'Shounen', 'LGBT Themes', 'Love Confession', 'Love Triangle', 'School Life', 'Senpai-Kouhai Relationship', 'Student Council', 'Adapted to Anime']",
         "https://cdn.anime-planet.com/manga/primary/bloom-into-you-1-190x271.jpg?t=1625913980"
        ],
        [
         "24",
         "The Male Lead's Little Lion Daughter",
         "The handsome Duke Voreoti is the most terrifying man in the empire, with the coldest of demeanors and a gaze that can kill. But one day, he suddenly says that he wants to… adopt a child?! And that child is me?! After finding me at a shady orphanage, he whisked me away to his snowy palace without a second thought. Now I’m learning all the ways of the feared Voreoti family from his knights. However, things get dicey when the Duke becomes suspicious of my origins. With these fangs and jet black hair, perhaps we are more than just kindred spirits…",
         "4.7",
         "2021.0",
         "['Comedy', 'Drama', 'Fantasy', 'Manhwa', 'Romance', 'Webtoons', 'Full Color', 'Nobility', 'Person in a Strange World', 'Transported Into a Novel', 'Based on a Web Novel']",
         "https://cdn.anime-planet.com/manga/primary/the-male-leads-little-lion-daughter-1-285x399.webp?t=1640373784"
        ],
        [
         "25",
         "20th Century Boys",
         "The world is never quite the same once we grow up. Villains and robots that once ran rampant in our imaginations are reduced to drawings in Manga, and our lives are distilled until there is little left but the daily grind; so it has been for Kenji. After a childhood of dreams he now runs his late father's liquor store and is raising his sister's child. The memories and friends from his early years bring him some happiness, but they become tainted as a string of murders find connections to his past. Kenji and his friends must now fight to save the future from their past and unravel the mystery of \"Friend.\"",
         "4.7",
         "1999.0",
         "['Action', 'Drama', 'Mystery', 'Sci Fi', 'Seinen', 'Historical', 'Psychological']",
         "https://cdn.anime-planet.com/manga/primary/20th-century-boys-1-190x275.jpg?t=1625907535"
        ],
        [
         "26",
         "Vagabond",
         "Following a horrific defeat at the battle of Sekigahara, two survivors, Takezo Shinmen and Matahachi Hon’iden, are deflated at having been unable to make a name for themselves and earn glory on the battlefield. But while Matahachi is anxious to go home, Takezo has vowed never to return and intends to become a vagabond, travelling the country polishing and testing his skills as a swordsman. With a beastial mercilessness when it comes to killing and a habit of cutting down all in his path, it doesn’t take long for Takezo to become a wanted fugitive. However, after being captured by a monk named Takuan and given a new lease of life, Takezo begins to live under the name of Musashi Miyamoto. Now, with a new view on life and death, Musashi continues to travel the nation challenging the most infamous fighters to achieve his goal of becoming the strongest samurai ever known.",
         "4.7",
         "1998.0",
         "['Action', 'Adventure', 'Drama', 'Seinen', '17th Century', 'Feudal Japan', 'Hiatus', 'Historical', 'Samurai', 'Swordplay', 'Explicit Violence']",
         "https://cdn.anime-planet.com/manga/primary/vagabond-1-190x272.jpg?t=1625908170"
        ],
        [
         "27",
         "Roxana",
         "Kidnapping, murder, and risqué relationships! Within the scandalous pages of The Abysmal Flower, the downfall of Roxana Agrece’s criminal family is already foretold. So when Cassis Pedelian, the heroine’s older brother, is kidnapped by Roxana’s father, she can either wait for the heroine’s revenge... or take matters into her own hands, since Cassis is the key to her survival. But with deceitful characters on all sides, can Roxana and Cassis trust each other enough to bring down the brutal Agreces?",
         "4.7",
         "2021.0",
         "['Drama', 'Fantasy', 'Manhwa', 'Romance', 'Webtoons', 'Full Color', 'Isekai', 'Person in a Strange World', 'Psychological', 'Transported Into a Novel', 'Based on a Web Novel']",
         "https://cdn.anime-planet.com/manga/primary/roxana-1-285x399.jpg?t=1629329045"
        ],
        [
         "28",
         "Nano Machine",
         "After being held in disdain and having his life put in danger, an orphan from the Demonic Cult, Cheon Yeo-Woon, has an unexpected visit from his descendant from the future who inserts a nano machine into Cheon Yeo-Woon's body, which drastically changes Cheon Yeo-Woon's life after its activation. The story of Cheon Yeo-Woon's journey of bypassing the Demonic Cult and rising to become the best martial artist has just begun.",
         "4.7",
         "2020.0",
         "['Action', 'Adventure', 'Fantasy', 'Manhwa', 'Sci Fi', 'Webtoons', 'Full Color', 'Martial Arts', 'Based on a Web Novel']",
         "https://cdn.anime-planet.com/manga/primary/nano-machine-1-190x266.jpg?t=1625927193"
        ],
        [
         "29",
         "GTO",
         "With a history of leading a motorcycle gang and getting bad grades in school, why would 22 year old Onizuka ever want to become a teacher? Is it to educate young minds or spread the joy of education? Sure, if it involves being able to look up high school girls' skirts! Watch as this would-be educator uses his own life lessons and unconstituted methods as a means to control a delinquent class of students -- students who certainly aren't as happy to have him as a teacher as he is happy to be teaching...",
         "4.7",
         "1996.0",
         "['Comedy', 'Drama', 'Ecchi', 'Shounen', 'Delinquents', 'School Life', 'Slapstick', 'Teaching', 'Work Life', 'Bullying', 'Emotional Abuse', 'Adapted to Anime']",
         "https://cdn.anime-planet.com/manga/primary/gto-1-190x285.jpg?t=1625908141"
        ],
        [
         "30",
         "Level Up with the Gods",
         "“Maybe Inner Gods can never defeat Outer Gods…” so thought Yuwon Kim, a plucky, high-ranking warrior, after a bitter defeat. But Yuwon is too tenacious to give up. His loss becomes the dawn of a new journey as a returnee. With renewed determination, Yuwon starts back from where he began, smashing monster after monster and relearning his skills before taking on the Tower once again. But can he fight his way through the tutorials and level up once more, or will his conquest crumble before him?",
         "4.7",
         "2021.0",
         "['Action', 'Adventure', 'Fantasy', 'Manhwa', 'Webtoons', 'Full Color', 'Second Chance', 'Supernatural', 'Time Travel', 'Based on a Web Novel']",
         "https://cdn.anime-planet.com/manga/primary/level-up-with-the-gods-1-285x399.webp?t=1641972910"
        ],
        [
         "31",
         "Kaguya-sama: Love Is War",
         "As leaders of their prestigious academy’s student council, Kaguya and Miyuki are the elite of the elite! But it’s lonely at the top… Luckily for them, they’ve fallen in love! There’s just one problem—they both have too much pride to admit it. And so begins the daily scheming to get the object of their affection to confess their romantic feelings first…Love is a war you win by losing.",
         "4.7",
         "2015.0",
         "['Comedy', 'Drama', 'Romance', 'Seinen', 'Episodic', 'Love Confession', 'Mind Games', 'School Life', 'Student Council', 'Adapted to Anime']",
         "https://cdn.anime-planet.com/manga/primary/kaguya-sama-love-is-war-1-190x285.jpg?t=1625914338"
        ],
        [
         "32",
         "Sign",
         "There are a few unusual things about Cafe Goyo. Number one, their coffee sucks. Number two, their customers never order off the menu. And number three, Yohan, the cafe manager, is deaf. So when Soohwa joins as a part-timer, though he is not expected to learn how to make good coffee, he is asked to expand his sign language vocabulary beyond the words, “higher,” “pay,” and “please.” But when Yohan offers to give him private lessons, Soohwa is reluctant. Not because he doesn’t want to study, but because he has a “hard” time around Yohan. Like, literally. He gets hard. Whenever he hears Yohan’s deep, sexy voice.",
         "4.7",
         "2017.0",
         "['BL', 'Comedy', 'Manhwa', 'Romance', 'Slice of Life', 'Webtoons', 'Yaoi', 'Adult Couples', 'Boss-Employee Relationship', 'Cafe', 'Cohabitation', 'Disability', 'Fetish', 'Full Color', 'Mature Romance', 'Smut', 'Explicit Sex']",
         "https://cdn.anime-planet.com/manga/primary/sign-1-190x266.jpg?t=1625916752"
        ],
        [
         "33",
         "Three Days of Happiness (Light Novel)",
         "In this dark, moody love story, college student Kusunoki decides to sell off the next thirty years of his life at a mysterious shop in exchange for money—and maybe a chance to find something worth living for.",
         "4.7",
         "2013.0",
         "['Drama', 'Light Novels', 'Romance', 'Slice of Life', 'Mysterious Shop', 'Psychological', 'Supernatural']",
         "https://cdn.anime-planet.com/manga/primary/three-days-of-happiness-light-novel-1-190x285.jpg?t=1625917101"
        ],
        [
         "34",
         "The Legend of the Northern Blade",
         "For decades, the brave warriors of the Northern Heavenly Sect fought to keep the world safe from the evil Silent Night. But when the fourth generation leader is accused of colluding with the enemy, he is forced to disband the sect and commit suicide to protect his son, Moowon. With no family and allies left, Moowon leads a dreary life under close surveillance... until a surprise attack from the Silent Night gives him a chance to escape to the mountains. There, the young warrior trains to master the fighting techniques of his predecessors, before the mysterious disappearance of a loved one brings him back to the mainland. Follow Moowon as he embarks on a journey to avenge his father’s death and take down the villains who threaten to plunge the world into darkness!",
         "4.7",
         "2019.0",
         "['Action', 'Adventure', 'Fantasy', 'Manhwa', 'Webtoons', 'Full Color', 'Martial Arts', 'Revenge']",
         "https://cdn.anime-planet.com/manga/primary/the-legend-of-the-northern-blade-1-285x399.jpg?t=1638497726"
        ],
        [
         "35",
         "The Horizon",
         "Two children unexpectedly meet in the midst of war. After running away from the chaos, they come across a long empty road. With no adults to rely on, the two strangers, now become friends, walk alongside each other to see what's at the end of the road. All they hope is to keep being able to move forward. Just what kind of trials and tragedy awaits them during their journey for survival?",
         "4.7",
         "2016.0",
         "['Drama', 'Manhwa', 'Webtoons', 'Melancholy', 'Survival', 'War', 'Mature Themes', 'Suicide', 'Violence']",
         "https://cdn.anime-planet.com/manga/primary/the-horizon-1-190x275.jpg?t=1625916048"
        ],
        [
         "36",
         "Skip Beat!",
         "Kyoko moves to the big city with the prince of her dreams Shotaro; he wants to make it big in the entertainment business, so she works hard at many different jobs to support him as he achieves his dream. However, one day, Kyoko accidentally discovers the horrible truth: the love of her life thinks of her as a 'plain and boring woman!' Outraged, Kyoko swears revenge - she will make it even bigger than Shotaro in the entertainment world. The only question is, how will she fulfill her desire?",
         "4.7",
         "2002.0",
         "['Comedy', 'Drama', 'Romance', 'Shoujo', 'Slice of Life', 'Acting', 'Idols', 'Showbiz', 'Work Life', 'Adapted to Anime']",
         "https://cdn.anime-planet.com/manga/primary/skip-beat-1-190x285.jpg?t=1625908039"
        ],
        [
         "37",
         "10 Years That I Loved You the Most",
         "I've loved you the most for most of my life. Now I am a piece of crumpled paper in the corner you would never glimpse. I thought you would be my today and all of my tomorrows. I imagined that someday you would turn around again and stare at me with all your love. However, when our love is gone, I'll just pick a sunny afternoon with gentle wind, put on my coat and leave for good...",
         "4.6",
         "2018.0",
         "['BL', 'Drama', 'Manhua', 'Slice of Life', 'Webtoons', 'Yaoi', 'Full Color', 'Melancholy', 'Mature Themes', 'Sexual Abuse', 'Sexual Content', 'Suicide', 'Based on a Novel']",
         "https://cdn.anime-planet.com/manga/primary/10-years-that-i-loved-you-the-most-1-190x266.jpg?t=1625919504"
        ],
        [
         "38",
         "Pirouette into My Heart",
         "Known as “the little swan” of his ballet studio, Shen has big dreams of leaving the humble farming town he grew up in and shooting to stardom. Though soft-spoken and timid, he meets his match in the stoic, wealthy, and equally as intense Jinyi, who pursues boxing next door. An unlikely pair, they cheer each other on and raise each other up through thick and thin. Determined to achieve their separate ambitions in the midst of their personal troubles, will their deep connection be strong enough to endure the journey and take flight?",
         "4.6",
         "2019.0",
         "['BL', 'Manhua', 'Romance', 'Shounen-ai', 'Sports', 'Webtoons', 'Ballet Dancing', 'Boxing', 'Dancing', 'Full Color', 'Hand to Hand Combat', 'Based on a Web Novel']",
         "https://cdn.anime-planet.com/manga/primary/pirouette-into-my-heart-1-285x398.webp?t=1641779480"
        ],
        [
         "39",
         "Classroom of the Elite: Year 2 (Light Novel)",
         "Students of the prestigious Tokyo Metropolitan Advanced Nurturing High School are given remarkable freedom–if they can win, barter, or save enough points to work their way up the ranks! Ayanokouji Kiyotaka started at the bottom in the scorned Class D, where he met Horikita Suzune, who was determined to rise up the ladder to Class A. Who can beat the system in a school where cutthroat competition is the name of the game? The second year of this intense school drama begins now!",
         "4.6",
         "2020.0",
         "['Comedy', 'Drama', 'Light Novels', 'Romance', 'Boarding School', 'Psychological', 'School Life']",
         "https://cdn.anime-planet.com/manga/primary/classroom-of-the-elite-year-2-light-novel-1-285x405.jpg?t=1632623188"
        ],
        [
         "40",
         "SQ: Begin W/Your Name!",
         "When Sun Jing in Affiliated No.2 Middle School encounters with Qiutong of South Middle School, a small episode makes Sun remember the girl whose smile as warm as sunshine. Their schools are adjacent, so Sun Jing always meets Qiu at the bus station. He starts to keep an eye on the girl and they become friends since then.",
         "4.6",
         "2014.0",
         "['Comedy', 'GL', 'Manhua', 'Romance', 'Shoujo-ai', 'Webtoons', 'School Life']",
         "https://cdn.anime-planet.com/manga/primary/sq-begin-w-your-name-1-190x258.jpg?t=1625913638"
        ],
        [
         "41",
         "Spice and Wolf (Light Novel)",
         "The life of a traveling merchant is a lonely one, a fact with which Kraft Lawrence is well acquainted. Wandering from town to town with just his horse, cart, and whatever wares have come his way, the peddler has pretty well settled into his routine—that is, until the night Lawrence finds a wolf goddess asleep in his cart. Taking the form of a fetching girl with wolf ears and a tail, Holo has wearied of tending to harvests in the countryside and strikes up a bargain with the merchant to lend him the cunning of \"Holo the Wisewolf\" to increase his profits in exchange for taking her along on his travels. What kind of businessman could turn down such an offer? Lawrence soon learns, though, that having an ancient goddess as a traveling companion can be a bit of a mixed blessing. Will this wolf girl turn out to be too wild to tame?",
         "4.6",
         "2006.0",
         "['Adventure', 'Drama', 'Fantasy', 'Light Novels', 'Romance', 'Adult Couples', 'Animal Characteristics', 'Animal Transformation', 'Economics', 'God-Human Relationship', 'Interspecies Relationship', 'Mature Romance', 'Medieval', 'Non-Human Protagonists', 'Political', 'Adapted to Anime']",
         "https://cdn.anime-planet.com/manga/primary/spice-and-wolf-light-novel-1-285x429.jpg?t=1630622455"
        ],
        [
         "42",
         "Mage & Demon Queen - Part 3",
         "The third season of Mage & Demon Queen.",
         "4.6",
         "2021.0",
         "['Comedy', 'Fantasy', 'GL', 'OEL', 'Romance', 'Shoujo-ai', 'Webtoons', 'Full Color']",
         "https://cdn.anime-planet.com/manga/primary/mage-and-demon-queen-part-3-1-190x266.jpg?t=1625932419"
        ],
        [
         "43",
         "Mage & Demon Queen - Part 2",
         "The second season of Mage & Demon Queen.",
         "4.6",
         "2019.0",
         "['Comedy', 'Fantasy', 'GL', 'OEL', 'Romance', 'Shoujo-ai', 'Webtoons', 'Demon King', 'Demons', 'Full Color', 'Interspecies Relationship', 'Magic', 'Royalty']",
         "https://cdn.anime-planet.com/manga/primary/mage-and-demon-queen-part-2-1-190x266.jpg?t=1625923070"
        ],
        [
         "44",
         "Kamisama Kiss",
         "Nanami used to live in a ramshackle apartment with her father - a man who spent half his time gambling and the other half hiding from debt collectors - until one day the scoundrel ran away, leaving his daughter hungry and homeless. That is, until she meets a mysterious stranger in the park who deems her the new goddess of a local shrine! Unfortunately, Nanami’s new home is occupied by Tomoe, a fox familiar who objects to the presence of a mere mortal and immediately begins to bicker with the girl. If she can manage to form a contract with the troublesome man, he’ll be obligated to accept and help her perform her duties. But there’s a catch: Nanami has to kiss him first, and who’d want to lock lips with that awful guy?!",
         "4.6",
         "2008.0",
         "['Comedy', 'Drama', 'Fantasy', 'Romance', 'Shoujo', 'Animal Characteristics', 'Interspecies Relationship', 'Japanese Mythology', 'Master-Servant Relationship', 'Non-Human Protagonists', 'Youkai', 'Violence', 'Adapted to Anime']",
         "https://cdn.anime-planet.com/manga/primary/kamisama-kiss-1-190x285.jpg?t=1625908371"
        ],
        [
         "45",
         "Vinland Saga",
         "Ten years ago, a strong warrior named Thors lost his life in a fight with Askeladd - a powerful and ruthless Viking. Having witnessed his demise, Thors’ son, Thorfinn, became consumed by hatred and vowed to exact revenge on his father’s killer in an honorable duel. With nowhere to go, Thorfinn was recruited onto Askeladd’s ship and began working with the crew as they pillage settlements and trick naive armies. Now, the young boy spends his days honing his battle skills while carrying out Askeladd’s bidding in order to earn his reward of a duel with the vicious captain. But despite having failed in all his bouts with the man he despises so much, will the day ever come when Thorfinn can finally defeat Askeladd and lay his father’s memory to rest?",
         "4.6",
         "2005.0",
         "['Action', 'Adventure', 'Drama', 'Seinen', 'Death of a Loved One', 'England', 'Europe', 'Hand to Hand Combat', 'Historical', 'Medieval', 'Psychological', 'Revenge', 'Swordplay', 'Weak to Strong', 'Violence', 'Adapted to Anime']",
         "https://cdn.anime-planet.com/manga/primary/vinland-saga-1-285x389.jpg?t=1633674473"
        ],
        [
         "46",
         "Heesu in Class 2",
         "Heesu’s world revolves around Chanyoung, his best friend and secret crush. He doesn’t mind cheering Chanyoung from the sidelines or listening to all his girl problems. He doesn’t care if people only know him as “Chanyoung’s friend.” Then one day, Heesu starts hearing his name everywhere. On the bus, in the halls, during lunch… Turns out, there’s a rumor going around school (Got a love problem? Find Heesu in Class 2 and he’ll tell you what to do!) and with that, Heesu suddenly finds himself the center of attention. But how could he give anyone advice? He doesn’t even know what to do about his own crush!",
         "4.6",
         "2017.0",
         "['BL', 'Manhwa', 'Romance', 'Shounen-ai', 'Webtoons', 'Childhood Friends', 'Full Color', 'School Life']",
         "https://cdn.anime-planet.com/manga/primary/heesu-in-class-2-1-190x253.jpg?t=1625917510"
        ],
        [
         "47",
         "Blue Period.",
         "Yatora is the perfect high school student, with good grades and lots of friends. It’s an effortless performance, and, ultimately … a dull one. But he wanders into the art room one day, and a lone painting captures his eye, awakening him to a kind of beauty he never knew. Compelled and consumed, he dives in headfirst—and he’s about to learn how savage and unforgiving art can be!",
         "4.6",
         "2017.0",
         "['Drama', 'Seinen', 'Art', 'Psychological', 'School Club', 'School Life', 'Nudity', 'Adapted to Anime']",
         "https://cdn.anime-planet.com/manga/primary/blue-period-1-190x266.jpg?t=1625918712"
        ],
        [
         "48",
         "Shokuba to Jitaku de Gyappu no Aru Papa",
         "At work he's smooth and cool, but at home he's a total softie?!",
         "4.6",
         "2020.0",
         "['Comedy', 'Romance', 'Slice of Life', 'Doujinshi']",
         "https://cdn.anime-planet.com/manga/primary/shokuba-to-jitaku-de-gyappu-no-aru-papa-1-190x270.jpg?t=1625930414"
        ],
        [
         "49",
         "Kaichou wa Maid-sama! Marriage",
         "This entry currently doesn't have a synopsis. Check back soon!",
         "4.6",
         "2013.0",
         "['Comedy', 'Drama', 'Fantasy', 'Romance', 'Shoujo', 'Collections', 'Crossover', 'School Life']",
         "https://cdn.anime-planet.com/manga/primary/kaichou-wa-maid-sama-marriage-1-190x298.jpg?t=1625916637"
        ]
       ],
       "shape": {
        "columns": 6,
        "rows": 29688
       }
      },
      "text/html": [
       "<div>\n",
       "<style scoped>\n",
       "    .dataframe tbody tr th:only-of-type {\n",
       "        vertical-align: middle;\n",
       "    }\n",
       "\n",
       "    .dataframe tbody tr th {\n",
       "        vertical-align: top;\n",
       "    }\n",
       "\n",
       "    .dataframe thead th {\n",
       "        text-align: right;\n",
       "    }\n",
       "</style>\n",
       "<table border=\"1\" class=\"dataframe\">\n",
       "  <thead>\n",
       "    <tr style=\"text-align: right;\">\n",
       "      <th></th>\n",
       "      <th>title</th>\n",
       "      <th>description</th>\n",
       "      <th>rating</th>\n",
       "      <th>year</th>\n",
       "      <th>tags</th>\n",
       "      <th>cover</th>\n",
       "    </tr>\n",
       "  </thead>\n",
       "  <tbody>\n",
       "    <tr>\n",
       "      <th>0</th>\n",
       "      <td>Salad Days (Tang LiuZang) - Part 2</td>\n",
       "      <td>The second season of Salad Days (Tang LiuZang).</td>\n",
       "      <td>4.7</td>\n",
       "      <td>2021.0</td>\n",
       "      <td>['BL', 'Manhua', 'Romance', 'Shounen-ai', 'Spo...</td>\n",
       "      <td>https://cdn.anime-planet.com/manga/primary/sal...</td>\n",
       "    </tr>\n",
       "    <tr>\n",
       "      <th>1</th>\n",
       "      <td>The Master of Diabolism</td>\n",
       "      <td>As the grandmaster who founded the Demonic Sec...</td>\n",
       "      <td>4.7</td>\n",
       "      <td>2017.0</td>\n",
       "      <td>['Action', 'Adventure', 'BL', 'Comedy', 'Manhu...</td>\n",
       "      <td>https://cdn.anime-planet.com/manga/primary/the...</td>\n",
       "    </tr>\n",
       "    <tr>\n",
       "      <th>2</th>\n",
       "      <td>JoJo's Bizarre Adventure Part 7: Steel Ball Run</td>\n",
       "      <td>Set in 1890, Steel Ball Run spotlights Gyro Ze...</td>\n",
       "      <td>4.7</td>\n",
       "      <td>2004.0</td>\n",
       "      <td>['Action', 'Adventure', 'Horror', 'Mystery', '...</td>\n",
       "      <td>https://cdn.anime-planet.com/manga/primary/joj...</td>\n",
       "    </tr>\n",
       "    <tr>\n",
       "      <th>3</th>\n",
       "      <td>A Sign of Affection</td>\n",
       "      <td>Yuki is a typical college student, whose world...</td>\n",
       "      <td>4.7</td>\n",
       "      <td>2019.0</td>\n",
       "      <td>['Romance', 'Shoujo', 'Slice of Life', 'Disabi...</td>\n",
       "      <td>https://cdn.anime-planet.com/manga/primary/a-s...</td>\n",
       "    </tr>\n",
       "    <tr>\n",
       "      <th>4</th>\n",
       "      <td>Moriarty the Patriot</td>\n",
       "      <td>Before he was Sherlock’s rival, Moriarty fough...</td>\n",
       "      <td>4.7</td>\n",
       "      <td>2016.0</td>\n",
       "      <td>['Mystery', 'Shounen', 'Detectives', 'England'...</td>\n",
       "      <td>https://cdn.anime-planet.com/manga/primary/mor...</td>\n",
       "    </tr>\n",
       "    <tr>\n",
       "      <th>...</th>\n",
       "      <td>...</td>\n",
       "      <td>...</td>\n",
       "      <td>...</td>\n",
       "      <td>...</td>\n",
       "      <td>...</td>\n",
       "      <td>...</td>\n",
       "    </tr>\n",
       "    <tr>\n",
       "      <th>29865</th>\n",
       "      <td>The Rib of Adam</td>\n",
       "      <td>Taeyoung’s always treated girls like crap. But...</td>\n",
       "      <td>2.6</td>\n",
       "      <td>2021.0</td>\n",
       "      <td>['Manhwa', 'Webtoons', 'Borderline H', 'Full C...</td>\n",
       "      <td>https://cdn.anime-planet.com/manga/primary/the...</td>\n",
       "    </tr>\n",
       "    <tr>\n",
       "      <th>29867</th>\n",
       "      <td>My Sweet Sisters</td>\n",
       "      <td>This entry currently doesn't have a synopsis. ...</td>\n",
       "      <td>2.6</td>\n",
       "      <td>2008.0</td>\n",
       "      <td>['Ecchi', 'One Shot', 'Shounen', 'Slice of Lif...</td>\n",
       "      <td>https://cdn.anime-planet.com/manga/primary/my-...</td>\n",
       "    </tr>\n",
       "    <tr>\n",
       "      <th>29868</th>\n",
       "      <td>Classmate (Nemui ASADA)</td>\n",
       "      <td>Shouma and his friends demean and assault the ...</td>\n",
       "      <td>2.6</td>\n",
       "      <td>2015.0</td>\n",
       "      <td>['BL', 'Drama', 'One Shot', 'Yaoi', 'School Li...</td>\n",
       "      <td>https://cdn.anime-planet.com/manga/primary/cla...</td>\n",
       "    </tr>\n",
       "    <tr>\n",
       "      <th>29869</th>\n",
       "      <td>Konna Kekkon, Masaka Watashi ga Suru Nante!? n...</td>\n",
       "      <td>She happens to meet him for the first time. Th...</td>\n",
       "      <td>2.4</td>\n",
       "      <td>2014.0</td>\n",
       "      <td>['Romance', 'Shoujo', 'Anthologies']</td>\n",
       "      <td>https://cdn.anime-planet.com/manga/primary/kon...</td>\n",
       "    </tr>\n",
       "    <tr>\n",
       "      <th>29870</th>\n",
       "      <td>High School Musical</td>\n",
       "      <td>Troy and the gang of East High School are goin...</td>\n",
       "      <td>2.0</td>\n",
       "      <td>2008.0</td>\n",
       "      <td>['Comedy', 'Romance', 'Shoujo', 'America', 'Di...</td>\n",
       "      <td>https://cdn.anime-planet.com/manga/primary/hig...</td>\n",
       "    </tr>\n",
       "  </tbody>\n",
       "</table>\n",
       "<p>29688 rows × 6 columns</p>\n",
       "</div>"
      ],
      "text/plain": [
       "                                                   title  \\\n",
       "0                     Salad Days (Tang LiuZang) - Part 2   \n",
       "1                                The Master of Diabolism   \n",
       "2        JoJo's Bizarre Adventure Part 7: Steel Ball Run   \n",
       "3                                    A Sign of Affection   \n",
       "4                                   Moriarty the Patriot   \n",
       "...                                                  ...   \n",
       "29865                                    The Rib of Adam   \n",
       "29867                                   My Sweet Sisters   \n",
       "29868                            Classmate (Nemui ASADA)   \n",
       "29869  Konna Kekkon, Masaka Watashi ga Suru Nante!? n...   \n",
       "29870                                High School Musical   \n",
       "\n",
       "                                             description  rating    year  \\\n",
       "0        The second season of Salad Days (Tang LiuZang).     4.7  2021.0   \n",
       "1      As the grandmaster who founded the Demonic Sec...     4.7  2017.0   \n",
       "2      Set in 1890, Steel Ball Run spotlights Gyro Ze...     4.7  2004.0   \n",
       "3      Yuki is a typical college student, whose world...     4.7  2019.0   \n",
       "4      Before he was Sherlock’s rival, Moriarty fough...     4.7  2016.0   \n",
       "...                                                  ...     ...     ...   \n",
       "29865  Taeyoung’s always treated girls like crap. But...     2.6  2021.0   \n",
       "29867  This entry currently doesn't have a synopsis. ...     2.6  2008.0   \n",
       "29868  Shouma and his friends demean and assault the ...     2.6  2015.0   \n",
       "29869  She happens to meet him for the first time. Th...     2.4  2014.0   \n",
       "29870  Troy and the gang of East High School are goin...     2.0  2008.0   \n",
       "\n",
       "                                                    tags  \\\n",
       "0      ['BL', 'Manhua', 'Romance', 'Shounen-ai', 'Spo...   \n",
       "1      ['Action', 'Adventure', 'BL', 'Comedy', 'Manhu...   \n",
       "2      ['Action', 'Adventure', 'Horror', 'Mystery', '...   \n",
       "3      ['Romance', 'Shoujo', 'Slice of Life', 'Disabi...   \n",
       "4      ['Mystery', 'Shounen', 'Detectives', 'England'...   \n",
       "...                                                  ...   \n",
       "29865  ['Manhwa', 'Webtoons', 'Borderline H', 'Full C...   \n",
       "29867  ['Ecchi', 'One Shot', 'Shounen', 'Slice of Lif...   \n",
       "29868  ['BL', 'Drama', 'One Shot', 'Yaoi', 'School Li...   \n",
       "29869               ['Romance', 'Shoujo', 'Anthologies']   \n",
       "29870  ['Comedy', 'Romance', 'Shoujo', 'America', 'Di...   \n",
       "\n",
       "                                                   cover  \n",
       "0      https://cdn.anime-planet.com/manga/primary/sal...  \n",
       "1      https://cdn.anime-planet.com/manga/primary/the...  \n",
       "2      https://cdn.anime-planet.com/manga/primary/joj...  \n",
       "3      https://cdn.anime-planet.com/manga/primary/a-s...  \n",
       "4      https://cdn.anime-planet.com/manga/primary/mor...  \n",
       "...                                                  ...  \n",
       "29865  https://cdn.anime-planet.com/manga/primary/the...  \n",
       "29867  https://cdn.anime-planet.com/manga/primary/my-...  \n",
       "29868  https://cdn.anime-planet.com/manga/primary/cla...  \n",
       "29869  https://cdn.anime-planet.com/manga/primary/kon...  \n",
       "29870  https://cdn.anime-planet.com/manga/primary/hig...  \n",
       "\n",
       "[29688 rows x 6 columns]"
      ]
     },
     "execution_count": 11,
     "metadata": {},
     "output_type": "execute_result"
    }
   ],
   "source": [
    "#drops rows with NA values, if axis = 0\n",
    "\n",
    "df.dropna(axis = 0, how = \"any\", subset = ['rating'], inplace = True)\n",
    "df"
   ]
  },
  {
   "cell_type": "code",
   "execution_count": 12,
   "metadata": {},
   "outputs": [
    {
     "data": {
      "application/vnd.microsoft.datawrangler.viewer.v0+json": {
       "columns": [
        {
         "name": "index",
         "rawType": "int64",
         "type": "integer"
        },
        {
         "name": "title",
         "rawType": "bool",
         "type": "boolean"
        },
        {
         "name": "description",
         "rawType": "bool",
         "type": "boolean"
        },
        {
         "name": "rating",
         "rawType": "bool",
         "type": "boolean"
        },
        {
         "name": "year",
         "rawType": "bool",
         "type": "boolean"
        },
        {
         "name": "tags",
         "rawType": "bool",
         "type": "boolean"
        },
        {
         "name": "cover",
         "rawType": "bool",
         "type": "boolean"
        }
       ],
       "conversionMethod": "pd.DataFrame",
       "ref": "5af42725-c801-4a96-8847-51f7df3c2d2e",
       "rows": [
        [
         "0",
         "False",
         "False",
         "False",
         "False",
         "False",
         "False"
        ],
        [
         "1",
         "False",
         "False",
         "False",
         "False",
         "False",
         "False"
        ],
        [
         "2",
         "False",
         "False",
         "False",
         "False",
         "False",
         "False"
        ],
        [
         "3",
         "False",
         "False",
         "False",
         "False",
         "False",
         "False"
        ],
        [
         "4",
         "False",
         "False",
         "False",
         "False",
         "False",
         "False"
        ],
        [
         "5",
         "False",
         "False",
         "False",
         "False",
         "False",
         "False"
        ],
        [
         "6",
         "False",
         "False",
         "False",
         "False",
         "False",
         "False"
        ],
        [
         "7",
         "False",
         "False",
         "False",
         "False",
         "False",
         "False"
        ],
        [
         "8",
         "False",
         "False",
         "False",
         "False",
         "False",
         "False"
        ],
        [
         "9",
         "False",
         "False",
         "False",
         "False",
         "False",
         "False"
        ],
        [
         "10",
         "False",
         "False",
         "False",
         "False",
         "False",
         "False"
        ],
        [
         "11",
         "False",
         "False",
         "False",
         "False",
         "False",
         "False"
        ],
        [
         "12",
         "False",
         "False",
         "False",
         "False",
         "False",
         "False"
        ],
        [
         "13",
         "False",
         "False",
         "False",
         "False",
         "False",
         "False"
        ],
        [
         "14",
         "False",
         "False",
         "False",
         "False",
         "False",
         "False"
        ],
        [
         "15",
         "False",
         "False",
         "False",
         "False",
         "False",
         "False"
        ],
        [
         "16",
         "False",
         "False",
         "False",
         "False",
         "False",
         "False"
        ],
        [
         "17",
         "False",
         "False",
         "False",
         "False",
         "False",
         "False"
        ],
        [
         "18",
         "False",
         "False",
         "False",
         "False",
         "False",
         "False"
        ],
        [
         "19",
         "False",
         "False",
         "False",
         "False",
         "False",
         "False"
        ],
        [
         "20",
         "False",
         "False",
         "False",
         "False",
         "False",
         "False"
        ],
        [
         "21",
         "False",
         "False",
         "False",
         "False",
         "False",
         "False"
        ],
        [
         "22",
         "False",
         "False",
         "False",
         "False",
         "False",
         "False"
        ],
        [
         "23",
         "False",
         "False",
         "False",
         "False",
         "False",
         "False"
        ],
        [
         "24",
         "False",
         "False",
         "False",
         "False",
         "False",
         "False"
        ],
        [
         "25",
         "False",
         "False",
         "False",
         "False",
         "False",
         "False"
        ],
        [
         "26",
         "False",
         "False",
         "False",
         "False",
         "False",
         "False"
        ],
        [
         "27",
         "False",
         "False",
         "False",
         "False",
         "False",
         "False"
        ],
        [
         "28",
         "False",
         "False",
         "False",
         "False",
         "False",
         "False"
        ],
        [
         "29",
         "False",
         "False",
         "False",
         "False",
         "False",
         "False"
        ],
        [
         "30",
         "False",
         "False",
         "False",
         "False",
         "False",
         "False"
        ],
        [
         "31",
         "False",
         "False",
         "False",
         "False",
         "False",
         "False"
        ],
        [
         "32",
         "False",
         "False",
         "False",
         "False",
         "False",
         "False"
        ],
        [
         "33",
         "False",
         "False",
         "False",
         "False",
         "False",
         "False"
        ],
        [
         "34",
         "False",
         "False",
         "False",
         "False",
         "False",
         "False"
        ],
        [
         "35",
         "False",
         "False",
         "False",
         "False",
         "False",
         "False"
        ],
        [
         "36",
         "False",
         "False",
         "False",
         "False",
         "False",
         "False"
        ],
        [
         "37",
         "False",
         "False",
         "False",
         "False",
         "False",
         "False"
        ],
        [
         "38",
         "False",
         "False",
         "False",
         "False",
         "False",
         "False"
        ],
        [
         "39",
         "False",
         "False",
         "False",
         "False",
         "False",
         "False"
        ],
        [
         "40",
         "False",
         "False",
         "False",
         "False",
         "False",
         "False"
        ],
        [
         "41",
         "False",
         "False",
         "False",
         "False",
         "False",
         "False"
        ],
        [
         "42",
         "False",
         "False",
         "False",
         "False",
         "False",
         "False"
        ],
        [
         "43",
         "False",
         "False",
         "False",
         "False",
         "False",
         "False"
        ],
        [
         "44",
         "False",
         "False",
         "False",
         "False",
         "False",
         "False"
        ],
        [
         "45",
         "False",
         "False",
         "False",
         "False",
         "False",
         "False"
        ],
        [
         "46",
         "False",
         "False",
         "False",
         "False",
         "False",
         "False"
        ],
        [
         "47",
         "False",
         "False",
         "False",
         "False",
         "False",
         "False"
        ],
        [
         "48",
         "False",
         "False",
         "False",
         "False",
         "False",
         "False"
        ],
        [
         "49",
         "False",
         "False",
         "False",
         "False",
         "False",
         "False"
        ]
       ],
       "shape": {
        "columns": 6,
        "rows": 29688
       }
      },
      "text/html": [
       "<div>\n",
       "<style scoped>\n",
       "    .dataframe tbody tr th:only-of-type {\n",
       "        vertical-align: middle;\n",
       "    }\n",
       "\n",
       "    .dataframe tbody tr th {\n",
       "        vertical-align: top;\n",
       "    }\n",
       "\n",
       "    .dataframe thead th {\n",
       "        text-align: right;\n",
       "    }\n",
       "</style>\n",
       "<table border=\"1\" class=\"dataframe\">\n",
       "  <thead>\n",
       "    <tr style=\"text-align: right;\">\n",
       "      <th></th>\n",
       "      <th>title</th>\n",
       "      <th>description</th>\n",
       "      <th>rating</th>\n",
       "      <th>year</th>\n",
       "      <th>tags</th>\n",
       "      <th>cover</th>\n",
       "    </tr>\n",
       "  </thead>\n",
       "  <tbody>\n",
       "    <tr>\n",
       "      <th>0</th>\n",
       "      <td>False</td>\n",
       "      <td>False</td>\n",
       "      <td>False</td>\n",
       "      <td>False</td>\n",
       "      <td>False</td>\n",
       "      <td>False</td>\n",
       "    </tr>\n",
       "    <tr>\n",
       "      <th>1</th>\n",
       "      <td>False</td>\n",
       "      <td>False</td>\n",
       "      <td>False</td>\n",
       "      <td>False</td>\n",
       "      <td>False</td>\n",
       "      <td>False</td>\n",
       "    </tr>\n",
       "    <tr>\n",
       "      <th>2</th>\n",
       "      <td>False</td>\n",
       "      <td>False</td>\n",
       "      <td>False</td>\n",
       "      <td>False</td>\n",
       "      <td>False</td>\n",
       "      <td>False</td>\n",
       "    </tr>\n",
       "    <tr>\n",
       "      <th>3</th>\n",
       "      <td>False</td>\n",
       "      <td>False</td>\n",
       "      <td>False</td>\n",
       "      <td>False</td>\n",
       "      <td>False</td>\n",
       "      <td>False</td>\n",
       "    </tr>\n",
       "    <tr>\n",
       "      <th>4</th>\n",
       "      <td>False</td>\n",
       "      <td>False</td>\n",
       "      <td>False</td>\n",
       "      <td>False</td>\n",
       "      <td>False</td>\n",
       "      <td>False</td>\n",
       "    </tr>\n",
       "    <tr>\n",
       "      <th>...</th>\n",
       "      <td>...</td>\n",
       "      <td>...</td>\n",
       "      <td>...</td>\n",
       "      <td>...</td>\n",
       "      <td>...</td>\n",
       "      <td>...</td>\n",
       "    </tr>\n",
       "    <tr>\n",
       "      <th>29865</th>\n",
       "      <td>False</td>\n",
       "      <td>False</td>\n",
       "      <td>False</td>\n",
       "      <td>False</td>\n",
       "      <td>False</td>\n",
       "      <td>False</td>\n",
       "    </tr>\n",
       "    <tr>\n",
       "      <th>29867</th>\n",
       "      <td>False</td>\n",
       "      <td>False</td>\n",
       "      <td>False</td>\n",
       "      <td>False</td>\n",
       "      <td>False</td>\n",
       "      <td>False</td>\n",
       "    </tr>\n",
       "    <tr>\n",
       "      <th>29868</th>\n",
       "      <td>False</td>\n",
       "      <td>False</td>\n",
       "      <td>False</td>\n",
       "      <td>False</td>\n",
       "      <td>False</td>\n",
       "      <td>False</td>\n",
       "    </tr>\n",
       "    <tr>\n",
       "      <th>29869</th>\n",
       "      <td>False</td>\n",
       "      <td>False</td>\n",
       "      <td>False</td>\n",
       "      <td>False</td>\n",
       "      <td>False</td>\n",
       "      <td>False</td>\n",
       "    </tr>\n",
       "    <tr>\n",
       "      <th>29870</th>\n",
       "      <td>False</td>\n",
       "      <td>False</td>\n",
       "      <td>False</td>\n",
       "      <td>False</td>\n",
       "      <td>False</td>\n",
       "      <td>False</td>\n",
       "    </tr>\n",
       "  </tbody>\n",
       "</table>\n",
       "<p>29688 rows × 6 columns</p>\n",
       "</div>"
      ],
      "text/plain": [
       "       title  description  rating   year   tags  cover\n",
       "0      False        False   False  False  False  False\n",
       "1      False        False   False  False  False  False\n",
       "2      False        False   False  False  False  False\n",
       "3      False        False   False  False  False  False\n",
       "4      False        False   False  False  False  False\n",
       "...      ...          ...     ...    ...    ...    ...\n",
       "29865  False        False   False  False  False  False\n",
       "29867  False        False   False  False  False  False\n",
       "29868  False        False   False  False  False  False\n",
       "29869  False        False   False  False  False  False\n",
       "29870  False        False   False  False  False  False\n",
       "\n",
       "[29688 rows x 6 columns]"
      ]
     },
     "execution_count": 12,
     "metadata": {},
     "output_type": "execute_result"
    }
   ],
   "source": [
    "df.isna()\n"
   ]
  },
  {
   "cell_type": "code",
   "execution_count": 13,
   "metadata": {},
   "outputs": [
    {
     "data": {
      "application/vnd.microsoft.datawrangler.viewer.v0+json": {
       "columns": [
        {
         "name": "index",
         "rawType": "int64",
         "type": "integer"
        },
        {
         "name": "title",
         "rawType": "object",
         "type": "string"
        },
        {
         "name": "description",
         "rawType": "object",
         "type": "string"
        },
        {
         "name": "rating",
         "rawType": "float64",
         "type": "float"
        },
        {
         "name": "year",
         "rawType": "float64",
         "type": "float"
        },
        {
         "name": "tags",
         "rawType": "object",
         "type": "string"
        },
        {
         "name": "cover",
         "rawType": "object",
         "type": "string"
        }
       ],
       "conversionMethod": "pd.DataFrame",
       "ref": "ecccd21c-6b88-4e05-a5fb-961ee28bd653",
       "rows": [
        [
         "0",
         "Salad Days (Tang LiuZang) - Part 2",
         "The second season of Salad Days (Tang LiuZang).",
         "4.7",
         "2021.0",
         "['BL', 'Manhua', 'Romance', 'Shounen-ai', 'Sports', 'Webtoons', 'Full Color']",
         "https://cdn.anime-planet.com/manga/primary/salad-days-tang-liuzang-part-2-1-285x399.jpg?t=1638084843"
        ],
        [
         "1",
         "The Master of Diabolism",
         "As the grandmaster who founded the Demonic Sect, Wei WuXian roamed the world in his wanton ways, hated by millions for the chaos he created. In the end, he was back-stabbed by his dearest shidi and killed by powerful clans that combined to overpower him. He incarnates into the body of a lunatic who was abandoned by his clan and is later, unwillingly, taken away by a famous cultivator among the clans—Lan WangJi, his archenemy.",
         "4.7",
         "2017.0",
         "['Action', 'Adventure', 'BL', 'Comedy', 'Manhua', 'Mystery', 'Romance', 'Shounen-ai', 'Ancient China', 'Cultivation', 'Martial Arts', 'Supernatural', 'Xianxia', 'Mature Themes', 'Suicide', 'Violence', 'Based on a Web Novel']",
         "https://cdn.anime-planet.com/manga/primary/the-master-of-diabolism-1-190x252.jpg?t=1625917239"
        ],
        [
         "2",
         "JoJo's Bizarre Adventure Part 7: Steel Ball Run",
         "Set in 1890, Steel Ball Run spotlights Gyro Zepelli and Johnny Joestar as they pit their spirits on a Fifty Million Dollar race across the heart of America. Their track quickly becomes a no-rules land as the racers' dreams collide and only human will spurs them on. But there is more to this race than any contestant realized and each of them soon grasps the real size of their world.",
         "4.7",
         "2004.0",
         "['Action', 'Adventure', 'Horror', 'Mystery', 'Seinen', '19th Century', 'America', 'Historical']",
         "https://cdn.anime-planet.com/manga/primary/jojos-bizarre-adventure-part-7-steel-ball-run-1-185x300.jpg?t=1625909521"
        ],
        [
         "3",
         "A Sign of Affection",
         "Yuki is a typical college student, whose world revolves around her friends, social media, and the latest sales. But when a chance encounter on a train leads to her meeting friend-of-a-friend and fellow student Itsuomi-san, her world starts to widen. But even though Itsuomi-kun can speak three languages, sign language isn’t one of them. Can the two learn to communicate the budding feelings between them?",
         "4.7",
         "2019.0",
         "['Romance', 'Shoujo', 'Slice of Life', 'Disability']",
         "https://cdn.anime-planet.com/manga/primary/a-sign-of-affection-1-190x285.jpg?t=1625922916"
        ],
        [
         "4",
         "Moriarty the Patriot",
         "Before he was Sherlock’s rival, Moriarty fought against the unfair class caste system in London by making sure corrupt nobility got their comeuppance. But even the best-intentioned plans can spin out of control—will Moriarty’s dream of a more just and equal world turn him into a hero…or a monster?",
         "4.7",
         "2016.0",
         "['Mystery', 'Shounen', 'Detectives', 'England', 'Europe', 'Historical', 'Sherlock Holmes', 'Adapted to Anime', 'Based on a Novel']",
         "https://cdn.anime-planet.com/manga/primary/moriarty-the-patriot-1-190x285.jpg?t=1625916116"
        ],
        [
         "5",
         "Classroom of the Elite (Light Novel)",
         "At the prestigious Tokyo Metropolitan Advanced Nurturing High School, which aims to produce the country’s future leaders, students are given remarkable freedom. However, they also have to deal with a point system that decides one’s place in the school’s hierarchy! Ayanokoji Kiyotaka has landed at the bottom in the scorned Class D, where he meets Horikita Suzune, who’s determined to work her way back up to Class A, and Kushida Kikyo, who seems like she only wants to make friends. Can they advance through this school where cutthroat competition is the name of the game?",
         "4.7",
         "2015.0",
         "['Comedy', 'Drama', 'Ecchi', 'Harem', 'Light Novels', 'Romance', 'Boarding School', 'School Life', 'Adapted to Anime']",
         "https://cdn.anime-planet.com/manga/primary/classroom-of-the-elite-light-novel-1-285x403.jpg?t=1630446924"
        ],
        [
         "6",
         "Who Made Me a Princess",
         "The beautiful Athanasia was killed at the hands of her own biological father, Claude de Alger Obelia, the cold-blooded emperor! It’s just a silly bedtime story… until one woman wakes up to suddenly find she’s become that unfortunate princess! She needs a plan to survive her doomed fate, and time is running out. Will she go with Plan A, live as quietly as possible without being noticed by the infamous emperor? Plan B, collect enough money to escape the palace? Or will she be stuck with plan C, sweet-talking her way into her father’s good graces?!",
         "4.7",
         "2017.0",
         "['Fantasy', 'Manhwa', 'Romance', 'Slice of Life', 'Webtoons', 'Full Color', 'Isekai', 'Magic', 'Person in a Strange World', 'Political', 'Reincarnation', 'Royalty', 'Based on a Web Novel']",
         "https://cdn.anime-planet.com/manga/primary/who-made-me-a-princess-1-190x266.jpg?t=1625919708"
        ],
        [
         "7",
         "Demon Slayer: Kimetsu no Yaiba",
         "The setting is Taisho era Japan. Tanjirou is a kindhearted young boy who lived peacefully with his family as a coal seller. Their normal life changes completely when his family is slaughtered by demons. The only other survivor, Tanjirou's younger sister Nezuko, has become a ferocious demon. In order to return Nezuko to normal and get revenge on the demon that killed their family, the two of them depart on a journey. From a young talent, an adventure tale of blood and swords begins!",
         "4.7",
         "2016.0",
         "['Action', 'Adventure', 'Comedy', 'Drama', 'Fantasy', 'Shounen', 'Death of a Loved One', 'Demons', 'Historical', 'Martial Arts', 'Orphans', 'Siblings', 'Explicit Violence', 'Adapted to Anime']",
         "https://cdn.anime-planet.com/manga/primary/demon-slayer-kimetsu-no-yaiba-1-285x428.jpg?t=1634713702"
        ],
        [
         "8",
         "Omniscient Reader (Novel)",
         "One day, our MC finds himself stuck in the world of his favorite web novel. What should he do to survive? It's a world struck by catastrophe and danger all around. His edge? He knows the plot of the story to end, because he was the sole reader that stuck with it. ",
         "4.7",
         "2018.0",
         "['Action', 'Adventure', 'Drama', 'Fantasy', 'Manhwa', 'Web Novels', 'Cheats', 'High Stakes Games', 'Martial Arts', 'Play or Die', 'Psychological', 'Urban Fantasy']",
         "https://cdn.anime-planet.com/manga/primary/omniscient-reader-novel-1-190x266.jpg?t=1625919886"
        ],
        [
         "9",
         "Omniscient Reader",
         "Back then, Dokja had no idea. He had no idea his favorite web novel 'Three Ways to Survive the Apocalypse' was going to come to life, and that he would become the only person to know how the world was going to end. He also had no idea he would end up becoming the protagonist of this novel-turned-reality. Now, Dokja will go on a journey to change the course of the story and save humankind once and for all.",
         "4.7",
         "2020.0",
         "['Action', 'Adventure', 'Drama', 'Fantasy', 'Manhwa', 'Webtoons', 'Cheats', 'Full Color', 'High Stakes Games', 'Play or Die', 'Psychological', 'PVE', 'PVP', 'RPG', 'Survival', 'Urban Fantasy', 'Explicit Violence', 'Based on a Web Novel']",
         "https://cdn.anime-planet.com/manga/primary/omniscient-reader-1-285x409.jpg?t=1628025756"
        ],
        [
         "10",
         "Tower of God - Part 3",
         "The third season of Tower of God.",
         "4.7",
         "2019.0",
         "['Action', 'Adventure', 'Drama', 'Fantasy', 'Manhwa', 'Webtoons', 'Full Color', 'Violence']",
         "https://cdn.anime-planet.com/manga/primary/tower-of-god-part-3-1-190x266.jpg?t=1625921019"
        ],
        [
         "11",
         "Yotsuba&!",
         "Meet Yotsuba Koiwai, the strangest little girl around. With a mind so straight it's twisted, Yotsuba takes everything in life at face value and sees everything with the eyes of impenetrable innocence. With her laid-back father, Yotsuba moves into a new house and makes new friends - friends whose minds boggle at the wacky and somewhat wise way that Yotsuba lives her daily life!",
         "4.7",
         "2003.0",
         "['Comedy', 'Shounen', 'Slice of Life', 'Iyashikei', 'Single Parent']",
         "https://cdn.anime-planet.com/manga/primary/yotsuba-1-190x284.jpg?t=1625907491"
        ],
        [
         "12",
         "Bastard",
         "Jin has lived a tough life. One of his oldest memories is waking up in the hospital, having received an artificial heart valve, and a glass eye. And as a student, he's relentlessly bullied for his disabilities. But Jin's school life is nothing compared to his home life, where he's raised by his father, a serial killer who targets young women and forces the boy to act as his accomplice. Can Jin do anything to stop his father's reign of terror without becoming the next victim?",
         "4.7",
         "2014.0",
         "['Drama', 'Horror', 'Manhwa', 'Romance', 'Webtoons', 'Criminals', 'Disability', 'Dysfunctional Families', 'Full Color', 'Mind Games', 'Psychological', 'Psychopaths', 'Serial Killers', 'Thriller', 'Bullying', 'Emotional Abuse', 'Explicit Violence', 'Mature Themes', 'Physical Abuse', 'Domestic Abuse']",
         "https://cdn.anime-planet.com/manga/primary/bastard-1-190x289.jpg?t=1625913904"
        ],
        [
         "13",
         "Tower of God - Part 2",
         "The second season of Tower of God.",
         "4.7",
         "2012.0",
         "['Action', 'Adventure', 'Drama', 'Fantasy', 'Manhwa', 'Webtoons', 'Full Color', 'High Stakes Games', 'Violence']",
         "https://cdn.anime-planet.com/manga/primary/tower-of-god-part-2-1-190x272.jpg?t=1625910760"
        ],
        [
         "14",
         "I’m Really Not the Devil’s Lackey",
         "Lin Jie, who has transmigrated into this world, runs a bookshop. Nice and passionate, he always recommends books that are capable of healing one's soul to customers who find themselves in a rough patch in life. Occasionally, he would recommend his own work to them as well. Over time, these customers have grown to respect him a lot. They bring him some simple souvenirs every day to repay him and ask him for recommendations of literary works. At the same time, they tell the people around them about this bookstore owner as well. They have respectful and affectionate ways of addressing him-\"The Devil's Hyena\", \"The Communicator of Flesh Gospel of Books\", \"The Author of the Corpse Ritual\" and \" The Star Shepard\".",
         "4.7",
         "2021.0",
         "['Fantasy', 'Manhua', 'Webtoons', 'Bookstore', 'Full Color', 'Isekai', 'Person in a Strange World', 'Based on a Web Novel']",
         "https://cdn.anime-planet.com/manga/primary/im-really-not-the-devils-lackey-1-285x399.webp?t=1646215508"
        ],
        [
         "15",
         "Umarekawatte mo mata, Watashi to Kekkon shite kuremasu ka?",
         "Toranosuke fell in love with his servant Kaoru. For twenty years, they slowly developed their love for each other, thus a Showa couple of clumsy husband and muscle brained wife was born. They spend a lot of time together, and they begin to talk in a nostalgic manner in Toranosuke's hospital room. Gentle memories of a deeply in love husband and wife.",
         "4.7",
         "2017.0",
         "['Comedy', 'Drama', 'Romance', 'Historical', 'Mature Romance']",
         "https://cdn.anime-planet.com/manga/primary/umarekawatte-mo-mata-watashi-to-kekkon-shite-kuremasu-ka-1-190x272.jpg?t=1625922274"
        ],
        [
         "16",
         "Banana Fish",
         "Nature made Ash Lynx beautiful; nurture made him a cold ruthless killer. A runaway brought up as the adopted heir and sex toy of \"Papa\" Dino Golzine, Ash, now at the rebellious age of seventeen, forsakes the kingdom held out by the devil who raised him. But the hideous secret that drove Ash's older brother mad in Vietnam has suddenly fallen into Papa's insatiably ambitious hands--and it's exactly the wrong time for Eiji Okamura, a pure-hearted young photographer from Japan, to make Ash Lynx's acquaintance...",
         "4.7",
         "1985.0",
         "['Action', 'Adventure', 'Drama', 'Mystery', 'Shoujo', 'America', 'Delinquents', 'Guns', 'Hand to Hand Combat', 'Psychological', 'Drug Use', 'Emotional Abuse', 'Mature Themes', 'Nudity', 'Physical Abuse', 'Sexual Abuse', 'Sexual Content', 'Adapted to Anime']",
         "https://cdn.anime-planet.com/manga/primary/banana-fish-1-285x429.jpg?t=1629834461"
        ],
        [
         "17",
         "Teenage Mercenary",
         "At the age of eight, Ijin Yu lost his parents in a plane crash and became stranded in a foreign land, forced to become a child mercenary in order to stay alive. He returns home ten years later to be reunited with his family in Korea, where food and shelter are plenty and everything seems peaceful. But Ijin will soon learn that life as a teenager is a whole other feat of survival. With only one year of high school left, Ijin must master new tactics to maneuver his way around the schoolhouse battleground. Can he survive a year of high school? Or rather, will the school be able to survive him?",
         "4.7",
         "2020.0",
         "['Action', 'Drama', 'Manhwa', 'Webtoons', 'Full Color', 'Lifestyle Change', 'School Life']",
         "https://cdn.anime-planet.com/manga/primary/teenage-mercenary-1-190x266.jpg?t=1625929294"
        ],
        [
         "18",
         "I Want to Eat Your Pancreas (Novel)",
         "In this deeply moving first-person story, a high school boy finds the diary of his classmate—and discovers that she’s dying. Yamauchi Sakura has been silently suffering from a pancreatic disease in school, and now exactly one person outside her family knows. He swears to her that he won’t tell anyone what he learned, and the shared secret brings them closer together. The two have very little in common, but they find themselves drawn to each other in Sakura’s final months to live.",
         "4.7",
         "2015.0",
         "['Drama', 'Romance', 'Coming of Age', 'Illness', 'Novels', 'Opposites Attract', 'School Life', 'Adapted to Anime', 'Based on a Web Novel']",
         "https://cdn.anime-planet.com/manga/primary/i-want-to-eat-your-pancreas-novel-1-190x267.jpg?t=1625916704"
        ],
        [
         "19",
         "Our Dreams at Dusk: Shimanami Tasogare",
         "Not only is high schooler Tasuku Kaname the new kid in town, he's also terrified that he's been outed as gay. Just as he's contemplating doing the unthinkable, Tasuku meets a mysterious woman who leads him to a group of people dealing with problems not so different from his own. In this realistic, heartfelt depiction of LGBT+ characters from different backgrounds finding their place in the world, a search for inner peace proves to be the most universal experience of all.",
         "4.7",
         "2015.0",
         "['Drama', 'Seinen', 'LGBT Themes', 'Psychological', 'School Life', 'Bullying']",
         "https://cdn.anime-planet.com/manga/primary/our-dreams-at-dusk-shimanami-tasogare-1-190x271.jpg?t=1625914553"
        ],
        [
         "20",
         "Spirit Fingers!",
         "What do you do if you're going on 18, totally awkward and lacking in self- confidence? You could just sit in your room all day and all night and study and wonder why you never get asked out…OR, if you’re Amy Song you could join up with the Spirit Fingers – the strangest, hippest, coolest (yet most welcoming) art club ever. But as Amy is about to learn, discovering your TRUE colors is about more than just painting.",
         "4.7",
         "2015.0",
         "['Comedy', 'Manhwa', 'Romance', 'Webtoons', 'Full Color', 'School Club']",
         "https://cdn.anime-planet.com/manga/primary/spirit-fingers-1-190x266.jpg?t=1625914644"
        ],
        [
         "21",
         "Your Letter",
         "Sori is a special young girl - kind, caring and principled well beyond her years. Unfortunately, these are NOT the personality traits generally celebrated in middle school – especially Sori’s, where she’s bullied mercilessly for defending the defenseless until she herself becomes a target. To escape, she transfers to a new school where the same old problems begin to play out all over again – that is until a mysterious trail of letters leads Sori on a magical scavenger hunt through the hidden world that exists right below the surface of her new middle school. The mail trail is the work an anonymous guardian angel, whose mission seems to be to provide a soft landing for Sori at her new school. But who is this person? And why did he choose her? With each letter, secrets are revealed and bonds are formed - as Sori learns about friendship, flora, fauna and finding the good in people in this strange new environment.",
         "4.7",
         "2018.0",
         "['Adventure', 'Drama', 'Manhwa', 'Mystery', 'Webtoons', 'Full Color', 'School Life', 'Bullying']",
         "https://cdn.anime-planet.com/manga/primary/your-letter-1-190x270.jpg?t=1625920730"
        ],
        [
         "22",
         "Only I Level Up (Novel)",
         "In this world where Hunters with various magical powers battle monsters from invading the defenceless humanity, Sung Jin-Woo was the weakest of all the Hunters, barely able to make a living. However, a mysterious System grants him the power of the ‘Player’, setting him on a course for an incredible and often times perilous Journey. Follow Sung Jin-Woo as he embarks on an adventure to become an unparalleled existence through his “Level-Up” system - the only one in the entire world!",
         "4.7",
         "2016.0",
         "['Action', 'Adventure', 'Fantasy', 'Manhwa', 'Web Novels', 'Dungeon', 'Magic', 'RPG', 'Weak to Strong']",
         "https://cdn.anime-planet.com/manga/primary/only-i-level-up-novel-1-190x271.jpg?t=1625920159"
        ],
        [
         "23",
         "Bloom Into You",
         "Yuu has always loved shoujo manga and awaits the day she gets a love confession that sends her heart aflutter with bubbles and hearts, and yet when a junior high classmate confesses his feelings to her...she feels nothing. Disappointed and confused, Yuu enters high school still unsure how to respond. That's when Yuu sees the beautiful student council president Nanami turn down a suitor with such maturity that she's inspired to ask her for help. But when the next person to confess to Yuu is Nanami herself, has her shoujo romance finally begun?",
         "4.7",
         "2015.0",
         "['Drama', 'GL', 'Romance', 'Shoujo-ai', 'Shounen', 'LGBT Themes', 'Love Confession', 'Love Triangle', 'School Life', 'Senpai-Kouhai Relationship', 'Student Council', 'Adapted to Anime']",
         "https://cdn.anime-planet.com/manga/primary/bloom-into-you-1-190x271.jpg?t=1625913980"
        ],
        [
         "24",
         "The Male Lead's Little Lion Daughter",
         "The handsome Duke Voreoti is the most terrifying man in the empire, with the coldest of demeanors and a gaze that can kill. But one day, he suddenly says that he wants to… adopt a child?! And that child is me?! After finding me at a shady orphanage, he whisked me away to his snowy palace without a second thought. Now I’m learning all the ways of the feared Voreoti family from his knights. However, things get dicey when the Duke becomes suspicious of my origins. With these fangs and jet black hair, perhaps we are more than just kindred spirits…",
         "4.7",
         "2021.0",
         "['Comedy', 'Drama', 'Fantasy', 'Manhwa', 'Romance', 'Webtoons', 'Full Color', 'Nobility', 'Person in a Strange World', 'Transported Into a Novel', 'Based on a Web Novel']",
         "https://cdn.anime-planet.com/manga/primary/the-male-leads-little-lion-daughter-1-285x399.webp?t=1640373784"
        ],
        [
         "25",
         "20th Century Boys",
         "The world is never quite the same once we grow up. Villains and robots that once ran rampant in our imaginations are reduced to drawings in Manga, and our lives are distilled until there is little left but the daily grind; so it has been for Kenji. After a childhood of dreams he now runs his late father's liquor store and is raising his sister's child. The memories and friends from his early years bring him some happiness, but they become tainted as a string of murders find connections to his past. Kenji and his friends must now fight to save the future from their past and unravel the mystery of \"Friend.\"",
         "4.7",
         "1999.0",
         "['Action', 'Drama', 'Mystery', 'Sci Fi', 'Seinen', 'Historical', 'Psychological']",
         "https://cdn.anime-planet.com/manga/primary/20th-century-boys-1-190x275.jpg?t=1625907535"
        ],
        [
         "26",
         "Vagabond",
         "Following a horrific defeat at the battle of Sekigahara, two survivors, Takezo Shinmen and Matahachi Hon’iden, are deflated at having been unable to make a name for themselves and earn glory on the battlefield. But while Matahachi is anxious to go home, Takezo has vowed never to return and intends to become a vagabond, travelling the country polishing and testing his skills as a swordsman. With a beastial mercilessness when it comes to killing and a habit of cutting down all in his path, it doesn’t take long for Takezo to become a wanted fugitive. However, after being captured by a monk named Takuan and given a new lease of life, Takezo begins to live under the name of Musashi Miyamoto. Now, with a new view on life and death, Musashi continues to travel the nation challenging the most infamous fighters to achieve his goal of becoming the strongest samurai ever known.",
         "4.7",
         "1998.0",
         "['Action', 'Adventure', 'Drama', 'Seinen', '17th Century', 'Feudal Japan', 'Hiatus', 'Historical', 'Samurai', 'Swordplay', 'Explicit Violence']",
         "https://cdn.anime-planet.com/manga/primary/vagabond-1-190x272.jpg?t=1625908170"
        ],
        [
         "27",
         "Roxana",
         "Kidnapping, murder, and risqué relationships! Within the scandalous pages of The Abysmal Flower, the downfall of Roxana Agrece’s criminal family is already foretold. So when Cassis Pedelian, the heroine’s older brother, is kidnapped by Roxana’s father, she can either wait for the heroine’s revenge... or take matters into her own hands, since Cassis is the key to her survival. But with deceitful characters on all sides, can Roxana and Cassis trust each other enough to bring down the brutal Agreces?",
         "4.7",
         "2021.0",
         "['Drama', 'Fantasy', 'Manhwa', 'Romance', 'Webtoons', 'Full Color', 'Isekai', 'Person in a Strange World', 'Psychological', 'Transported Into a Novel', 'Based on a Web Novel']",
         "https://cdn.anime-planet.com/manga/primary/roxana-1-285x399.jpg?t=1629329045"
        ],
        [
         "28",
         "Nano Machine",
         "After being held in disdain and having his life put in danger, an orphan from the Demonic Cult, Cheon Yeo-Woon, has an unexpected visit from his descendant from the future who inserts a nano machine into Cheon Yeo-Woon's body, which drastically changes Cheon Yeo-Woon's life after its activation. The story of Cheon Yeo-Woon's journey of bypassing the Demonic Cult and rising to become the best martial artist has just begun.",
         "4.7",
         "2020.0",
         "['Action', 'Adventure', 'Fantasy', 'Manhwa', 'Sci Fi', 'Webtoons', 'Full Color', 'Martial Arts', 'Based on a Web Novel']",
         "https://cdn.anime-planet.com/manga/primary/nano-machine-1-190x266.jpg?t=1625927193"
        ],
        [
         "29",
         "GTO",
         "With a history of leading a motorcycle gang and getting bad grades in school, why would 22 year old Onizuka ever want to become a teacher? Is it to educate young minds or spread the joy of education? Sure, if it involves being able to look up high school girls' skirts! Watch as this would-be educator uses his own life lessons and unconstituted methods as a means to control a delinquent class of students -- students who certainly aren't as happy to have him as a teacher as he is happy to be teaching...",
         "4.7",
         "1996.0",
         "['Comedy', 'Drama', 'Ecchi', 'Shounen', 'Delinquents', 'School Life', 'Slapstick', 'Teaching', 'Work Life', 'Bullying', 'Emotional Abuse', 'Adapted to Anime']",
         "https://cdn.anime-planet.com/manga/primary/gto-1-190x285.jpg?t=1625908141"
        ],
        [
         "30",
         "Level Up with the Gods",
         "“Maybe Inner Gods can never defeat Outer Gods…” so thought Yuwon Kim, a plucky, high-ranking warrior, after a bitter defeat. But Yuwon is too tenacious to give up. His loss becomes the dawn of a new journey as a returnee. With renewed determination, Yuwon starts back from where he began, smashing monster after monster and relearning his skills before taking on the Tower once again. But can he fight his way through the tutorials and level up once more, or will his conquest crumble before him?",
         "4.7",
         "2021.0",
         "['Action', 'Adventure', 'Fantasy', 'Manhwa', 'Webtoons', 'Full Color', 'Second Chance', 'Supernatural', 'Time Travel', 'Based on a Web Novel']",
         "https://cdn.anime-planet.com/manga/primary/level-up-with-the-gods-1-285x399.webp?t=1641972910"
        ],
        [
         "31",
         "Kaguya-sama: Love Is War",
         "As leaders of their prestigious academy’s student council, Kaguya and Miyuki are the elite of the elite! But it’s lonely at the top… Luckily for them, they’ve fallen in love! There’s just one problem—they both have too much pride to admit it. And so begins the daily scheming to get the object of their affection to confess their romantic feelings first…Love is a war you win by losing.",
         "4.7",
         "2015.0",
         "['Comedy', 'Drama', 'Romance', 'Seinen', 'Episodic', 'Love Confession', 'Mind Games', 'School Life', 'Student Council', 'Adapted to Anime']",
         "https://cdn.anime-planet.com/manga/primary/kaguya-sama-love-is-war-1-190x285.jpg?t=1625914338"
        ],
        [
         "32",
         "Sign",
         "There are a few unusual things about Cafe Goyo. Number one, their coffee sucks. Number two, their customers never order off the menu. And number three, Yohan, the cafe manager, is deaf. So when Soohwa joins as a part-timer, though he is not expected to learn how to make good coffee, he is asked to expand his sign language vocabulary beyond the words, “higher,” “pay,” and “please.” But when Yohan offers to give him private lessons, Soohwa is reluctant. Not because he doesn’t want to study, but because he has a “hard” time around Yohan. Like, literally. He gets hard. Whenever he hears Yohan’s deep, sexy voice.",
         "4.7",
         "2017.0",
         "['BL', 'Comedy', 'Manhwa', 'Romance', 'Slice of Life', 'Webtoons', 'Yaoi', 'Adult Couples', 'Boss-Employee Relationship', 'Cafe', 'Cohabitation', 'Disability', 'Fetish', 'Full Color', 'Mature Romance', 'Smut', 'Explicit Sex']",
         "https://cdn.anime-planet.com/manga/primary/sign-1-190x266.jpg?t=1625916752"
        ],
        [
         "33",
         "Three Days of Happiness (Light Novel)",
         "In this dark, moody love story, college student Kusunoki decides to sell off the next thirty years of his life at a mysterious shop in exchange for money—and maybe a chance to find something worth living for.",
         "4.7",
         "2013.0",
         "['Drama', 'Light Novels', 'Romance', 'Slice of Life', 'Mysterious Shop', 'Psychological', 'Supernatural']",
         "https://cdn.anime-planet.com/manga/primary/three-days-of-happiness-light-novel-1-190x285.jpg?t=1625917101"
        ],
        [
         "34",
         "The Legend of the Northern Blade",
         "For decades, the brave warriors of the Northern Heavenly Sect fought to keep the world safe from the evil Silent Night. But when the fourth generation leader is accused of colluding with the enemy, he is forced to disband the sect and commit suicide to protect his son, Moowon. With no family and allies left, Moowon leads a dreary life under close surveillance... until a surprise attack from the Silent Night gives him a chance to escape to the mountains. There, the young warrior trains to master the fighting techniques of his predecessors, before the mysterious disappearance of a loved one brings him back to the mainland. Follow Moowon as he embarks on a journey to avenge his father’s death and take down the villains who threaten to plunge the world into darkness!",
         "4.7",
         "2019.0",
         "['Action', 'Adventure', 'Fantasy', 'Manhwa', 'Webtoons', 'Full Color', 'Martial Arts', 'Revenge']",
         "https://cdn.anime-planet.com/manga/primary/the-legend-of-the-northern-blade-1-285x399.jpg?t=1638497726"
        ],
        [
         "35",
         "The Horizon",
         "Two children unexpectedly meet in the midst of war. After running away from the chaos, they come across a long empty road. With no adults to rely on, the two strangers, now become friends, walk alongside each other to see what's at the end of the road. All they hope is to keep being able to move forward. Just what kind of trials and tragedy awaits them during their journey for survival?",
         "4.7",
         "2016.0",
         "['Drama', 'Manhwa', 'Webtoons', 'Melancholy', 'Survival', 'War', 'Mature Themes', 'Suicide', 'Violence']",
         "https://cdn.anime-planet.com/manga/primary/the-horizon-1-190x275.jpg?t=1625916048"
        ],
        [
         "36",
         "Skip Beat!",
         "Kyoko moves to the big city with the prince of her dreams Shotaro; he wants to make it big in the entertainment business, so she works hard at many different jobs to support him as he achieves his dream. However, one day, Kyoko accidentally discovers the horrible truth: the love of her life thinks of her as a 'plain and boring woman!' Outraged, Kyoko swears revenge - she will make it even bigger than Shotaro in the entertainment world. The only question is, how will she fulfill her desire?",
         "4.7",
         "2002.0",
         "['Comedy', 'Drama', 'Romance', 'Shoujo', 'Slice of Life', 'Acting', 'Idols', 'Showbiz', 'Work Life', 'Adapted to Anime']",
         "https://cdn.anime-planet.com/manga/primary/skip-beat-1-190x285.jpg?t=1625908039"
        ],
        [
         "37",
         "10 Years That I Loved You the Most",
         "I've loved you the most for most of my life. Now I am a piece of crumpled paper in the corner you would never glimpse. I thought you would be my today and all of my tomorrows. I imagined that someday you would turn around again and stare at me with all your love. However, when our love is gone, I'll just pick a sunny afternoon with gentle wind, put on my coat and leave for good...",
         "4.6",
         "2018.0",
         "['BL', 'Drama', 'Manhua', 'Slice of Life', 'Webtoons', 'Yaoi', 'Full Color', 'Melancholy', 'Mature Themes', 'Sexual Abuse', 'Sexual Content', 'Suicide', 'Based on a Novel']",
         "https://cdn.anime-planet.com/manga/primary/10-years-that-i-loved-you-the-most-1-190x266.jpg?t=1625919504"
        ],
        [
         "38",
         "Pirouette into My Heart",
         "Known as “the little swan” of his ballet studio, Shen has big dreams of leaving the humble farming town he grew up in and shooting to stardom. Though soft-spoken and timid, he meets his match in the stoic, wealthy, and equally as intense Jinyi, who pursues boxing next door. An unlikely pair, they cheer each other on and raise each other up through thick and thin. Determined to achieve their separate ambitions in the midst of their personal troubles, will their deep connection be strong enough to endure the journey and take flight?",
         "4.6",
         "2019.0",
         "['BL', 'Manhua', 'Romance', 'Shounen-ai', 'Sports', 'Webtoons', 'Ballet Dancing', 'Boxing', 'Dancing', 'Full Color', 'Hand to Hand Combat', 'Based on a Web Novel']",
         "https://cdn.anime-planet.com/manga/primary/pirouette-into-my-heart-1-285x398.webp?t=1641779480"
        ],
        [
         "39",
         "Classroom of the Elite: Year 2 (Light Novel)",
         "Students of the prestigious Tokyo Metropolitan Advanced Nurturing High School are given remarkable freedom–if they can win, barter, or save enough points to work their way up the ranks! Ayanokouji Kiyotaka started at the bottom in the scorned Class D, where he met Horikita Suzune, who was determined to rise up the ladder to Class A. Who can beat the system in a school where cutthroat competition is the name of the game? The second year of this intense school drama begins now!",
         "4.6",
         "2020.0",
         "['Comedy', 'Drama', 'Light Novels', 'Romance', 'Boarding School', 'Psychological', 'School Life']",
         "https://cdn.anime-planet.com/manga/primary/classroom-of-the-elite-year-2-light-novel-1-285x405.jpg?t=1632623188"
        ],
        [
         "40",
         "SQ: Begin W/Your Name!",
         "When Sun Jing in Affiliated No.2 Middle School encounters with Qiutong of South Middle School, a small episode makes Sun remember the girl whose smile as warm as sunshine. Their schools are adjacent, so Sun Jing always meets Qiu at the bus station. He starts to keep an eye on the girl and they become friends since then.",
         "4.6",
         "2014.0",
         "['Comedy', 'GL', 'Manhua', 'Romance', 'Shoujo-ai', 'Webtoons', 'School Life']",
         "https://cdn.anime-planet.com/manga/primary/sq-begin-w-your-name-1-190x258.jpg?t=1625913638"
        ],
        [
         "41",
         "Spice and Wolf (Light Novel)",
         "The life of a traveling merchant is a lonely one, a fact with which Kraft Lawrence is well acquainted. Wandering from town to town with just his horse, cart, and whatever wares have come his way, the peddler has pretty well settled into his routine—that is, until the night Lawrence finds a wolf goddess asleep in his cart. Taking the form of a fetching girl with wolf ears and a tail, Holo has wearied of tending to harvests in the countryside and strikes up a bargain with the merchant to lend him the cunning of \"Holo the Wisewolf\" to increase his profits in exchange for taking her along on his travels. What kind of businessman could turn down such an offer? Lawrence soon learns, though, that having an ancient goddess as a traveling companion can be a bit of a mixed blessing. Will this wolf girl turn out to be too wild to tame?",
         "4.6",
         "2006.0",
         "['Adventure', 'Drama', 'Fantasy', 'Light Novels', 'Romance', 'Adult Couples', 'Animal Characteristics', 'Animal Transformation', 'Economics', 'God-Human Relationship', 'Interspecies Relationship', 'Mature Romance', 'Medieval', 'Non-Human Protagonists', 'Political', 'Adapted to Anime']",
         "https://cdn.anime-planet.com/manga/primary/spice-and-wolf-light-novel-1-285x429.jpg?t=1630622455"
        ],
        [
         "42",
         "Mage & Demon Queen - Part 3",
         "The third season of Mage & Demon Queen.",
         "4.6",
         "2021.0",
         "['Comedy', 'Fantasy', 'GL', 'OEL', 'Romance', 'Shoujo-ai', 'Webtoons', 'Full Color']",
         "https://cdn.anime-planet.com/manga/primary/mage-and-demon-queen-part-3-1-190x266.jpg?t=1625932419"
        ],
        [
         "43",
         "Mage & Demon Queen - Part 2",
         "The second season of Mage & Demon Queen.",
         "4.6",
         "2019.0",
         "['Comedy', 'Fantasy', 'GL', 'OEL', 'Romance', 'Shoujo-ai', 'Webtoons', 'Demon King', 'Demons', 'Full Color', 'Interspecies Relationship', 'Magic', 'Royalty']",
         "https://cdn.anime-planet.com/manga/primary/mage-and-demon-queen-part-2-1-190x266.jpg?t=1625923070"
        ],
        [
         "44",
         "Kamisama Kiss",
         "Nanami used to live in a ramshackle apartment with her father - a man who spent half his time gambling and the other half hiding from debt collectors - until one day the scoundrel ran away, leaving his daughter hungry and homeless. That is, until she meets a mysterious stranger in the park who deems her the new goddess of a local shrine! Unfortunately, Nanami’s new home is occupied by Tomoe, a fox familiar who objects to the presence of a mere mortal and immediately begins to bicker with the girl. If she can manage to form a contract with the troublesome man, he’ll be obligated to accept and help her perform her duties. But there’s a catch: Nanami has to kiss him first, and who’d want to lock lips with that awful guy?!",
         "4.6",
         "2008.0",
         "['Comedy', 'Drama', 'Fantasy', 'Romance', 'Shoujo', 'Animal Characteristics', 'Interspecies Relationship', 'Japanese Mythology', 'Master-Servant Relationship', 'Non-Human Protagonists', 'Youkai', 'Violence', 'Adapted to Anime']",
         "https://cdn.anime-planet.com/manga/primary/kamisama-kiss-1-190x285.jpg?t=1625908371"
        ],
        [
         "45",
         "Vinland Saga",
         "Ten years ago, a strong warrior named Thors lost his life in a fight with Askeladd - a powerful and ruthless Viking. Having witnessed his demise, Thors’ son, Thorfinn, became consumed by hatred and vowed to exact revenge on his father’s killer in an honorable duel. With nowhere to go, Thorfinn was recruited onto Askeladd’s ship and began working with the crew as they pillage settlements and trick naive armies. Now, the young boy spends his days honing his battle skills while carrying out Askeladd’s bidding in order to earn his reward of a duel with the vicious captain. But despite having failed in all his bouts with the man he despises so much, will the day ever come when Thorfinn can finally defeat Askeladd and lay his father’s memory to rest?",
         "4.6",
         "2005.0",
         "['Action', 'Adventure', 'Drama', 'Seinen', 'Death of a Loved One', 'England', 'Europe', 'Hand to Hand Combat', 'Historical', 'Medieval', 'Psychological', 'Revenge', 'Swordplay', 'Weak to Strong', 'Violence', 'Adapted to Anime']",
         "https://cdn.anime-planet.com/manga/primary/vinland-saga-1-285x389.jpg?t=1633674473"
        ],
        [
         "46",
         "Heesu in Class 2",
         "Heesu’s world revolves around Chanyoung, his best friend and secret crush. He doesn’t mind cheering Chanyoung from the sidelines or listening to all his girl problems. He doesn’t care if people only know him as “Chanyoung’s friend.” Then one day, Heesu starts hearing his name everywhere. On the bus, in the halls, during lunch… Turns out, there’s a rumor going around school (Got a love problem? Find Heesu in Class 2 and he’ll tell you what to do!) and with that, Heesu suddenly finds himself the center of attention. But how could he give anyone advice? He doesn’t even know what to do about his own crush!",
         "4.6",
         "2017.0",
         "['BL', 'Manhwa', 'Romance', 'Shounen-ai', 'Webtoons', 'Childhood Friends', 'Full Color', 'School Life']",
         "https://cdn.anime-planet.com/manga/primary/heesu-in-class-2-1-190x253.jpg?t=1625917510"
        ],
        [
         "47",
         "Blue Period.",
         "Yatora is the perfect high school student, with good grades and lots of friends. It’s an effortless performance, and, ultimately … a dull one. But he wanders into the art room one day, and a lone painting captures his eye, awakening him to a kind of beauty he never knew. Compelled and consumed, he dives in headfirst—and he’s about to learn how savage and unforgiving art can be!",
         "4.6",
         "2017.0",
         "['Drama', 'Seinen', 'Art', 'Psychological', 'School Club', 'School Life', 'Nudity', 'Adapted to Anime']",
         "https://cdn.anime-planet.com/manga/primary/blue-period-1-190x266.jpg?t=1625918712"
        ],
        [
         "48",
         "Shokuba to Jitaku de Gyappu no Aru Papa",
         "At work he's smooth and cool, but at home he's a total softie?!",
         "4.6",
         "2020.0",
         "['Comedy', 'Romance', 'Slice of Life', 'Doujinshi']",
         "https://cdn.anime-planet.com/manga/primary/shokuba-to-jitaku-de-gyappu-no-aru-papa-1-190x270.jpg?t=1625930414"
        ],
        [
         "49",
         "Kaichou wa Maid-sama! Marriage",
         "This entry currently doesn't have a synopsis. Check back soon!",
         "4.6",
         "2013.0",
         "['Comedy', 'Drama', 'Fantasy', 'Romance', 'Shoujo', 'Collections', 'Crossover', 'School Life']",
         "https://cdn.anime-planet.com/manga/primary/kaichou-wa-maid-sama-marriage-1-190x298.jpg?t=1625916637"
        ]
       ],
       "shape": {
        "columns": 6,
        "rows": 29423
       }
      },
      "text/html": [
       "<div>\n",
       "<style scoped>\n",
       "    .dataframe tbody tr th:only-of-type {\n",
       "        vertical-align: middle;\n",
       "    }\n",
       "\n",
       "    .dataframe tbody tr th {\n",
       "        vertical-align: top;\n",
       "    }\n",
       "\n",
       "    .dataframe thead th {\n",
       "        text-align: right;\n",
       "    }\n",
       "</style>\n",
       "<table border=\"1\" class=\"dataframe\">\n",
       "  <thead>\n",
       "    <tr style=\"text-align: right;\">\n",
       "      <th></th>\n",
       "      <th>title</th>\n",
       "      <th>description</th>\n",
       "      <th>rating</th>\n",
       "      <th>year</th>\n",
       "      <th>tags</th>\n",
       "      <th>cover</th>\n",
       "    </tr>\n",
       "  </thead>\n",
       "  <tbody>\n",
       "    <tr>\n",
       "      <th>0</th>\n",
       "      <td>Salad Days (Tang LiuZang) - Part 2</td>\n",
       "      <td>The second season of Salad Days (Tang LiuZang).</td>\n",
       "      <td>4.7</td>\n",
       "      <td>2021.0</td>\n",
       "      <td>['BL', 'Manhua', 'Romance', 'Shounen-ai', 'Spo...</td>\n",
       "      <td>https://cdn.anime-planet.com/manga/primary/sal...</td>\n",
       "    </tr>\n",
       "    <tr>\n",
       "      <th>1</th>\n",
       "      <td>The Master of Diabolism</td>\n",
       "      <td>As the grandmaster who founded the Demonic Sec...</td>\n",
       "      <td>4.7</td>\n",
       "      <td>2017.0</td>\n",
       "      <td>['Action', 'Adventure', 'BL', 'Comedy', 'Manhu...</td>\n",
       "      <td>https://cdn.anime-planet.com/manga/primary/the...</td>\n",
       "    </tr>\n",
       "    <tr>\n",
       "      <th>2</th>\n",
       "      <td>JoJo's Bizarre Adventure Part 7: Steel Ball Run</td>\n",
       "      <td>Set in 1890, Steel Ball Run spotlights Gyro Ze...</td>\n",
       "      <td>4.7</td>\n",
       "      <td>2004.0</td>\n",
       "      <td>['Action', 'Adventure', 'Horror', 'Mystery', '...</td>\n",
       "      <td>https://cdn.anime-planet.com/manga/primary/joj...</td>\n",
       "    </tr>\n",
       "    <tr>\n",
       "      <th>3</th>\n",
       "      <td>A Sign of Affection</td>\n",
       "      <td>Yuki is a typical college student, whose world...</td>\n",
       "      <td>4.7</td>\n",
       "      <td>2019.0</td>\n",
       "      <td>['Romance', 'Shoujo', 'Slice of Life', 'Disabi...</td>\n",
       "      <td>https://cdn.anime-planet.com/manga/primary/a-s...</td>\n",
       "    </tr>\n",
       "    <tr>\n",
       "      <th>4</th>\n",
       "      <td>Moriarty the Patriot</td>\n",
       "      <td>Before he was Sherlock’s rival, Moriarty fough...</td>\n",
       "      <td>4.7</td>\n",
       "      <td>2016.0</td>\n",
       "      <td>['Mystery', 'Shounen', 'Detectives', 'England'...</td>\n",
       "      <td>https://cdn.anime-planet.com/manga/primary/mor...</td>\n",
       "    </tr>\n",
       "    <tr>\n",
       "      <th>...</th>\n",
       "      <td>...</td>\n",
       "      <td>...</td>\n",
       "      <td>...</td>\n",
       "      <td>...</td>\n",
       "      <td>...</td>\n",
       "      <td>...</td>\n",
       "    </tr>\n",
       "    <tr>\n",
       "      <th>29865</th>\n",
       "      <td>The Rib of Adam</td>\n",
       "      <td>Taeyoung’s always treated girls like crap. But...</td>\n",
       "      <td>2.6</td>\n",
       "      <td>2021.0</td>\n",
       "      <td>['Manhwa', 'Webtoons', 'Borderline H', 'Full C...</td>\n",
       "      <td>https://cdn.anime-planet.com/manga/primary/the...</td>\n",
       "    </tr>\n",
       "    <tr>\n",
       "      <th>29867</th>\n",
       "      <td>My Sweet Sisters</td>\n",
       "      <td>This entry currently doesn't have a synopsis. ...</td>\n",
       "      <td>2.6</td>\n",
       "      <td>2008.0</td>\n",
       "      <td>['Ecchi', 'One Shot', 'Shounen', 'Slice of Lif...</td>\n",
       "      <td>https://cdn.anime-planet.com/manga/primary/my-...</td>\n",
       "    </tr>\n",
       "    <tr>\n",
       "      <th>29868</th>\n",
       "      <td>Classmate (Nemui ASADA)</td>\n",
       "      <td>Shouma and his friends demean and assault the ...</td>\n",
       "      <td>2.6</td>\n",
       "      <td>2015.0</td>\n",
       "      <td>['BL', 'Drama', 'One Shot', 'Yaoi', 'School Li...</td>\n",
       "      <td>https://cdn.anime-planet.com/manga/primary/cla...</td>\n",
       "    </tr>\n",
       "    <tr>\n",
       "      <th>29869</th>\n",
       "      <td>Konna Kekkon, Masaka Watashi ga Suru Nante!? n...</td>\n",
       "      <td>She happens to meet him for the first time. Th...</td>\n",
       "      <td>2.4</td>\n",
       "      <td>2014.0</td>\n",
       "      <td>['Romance', 'Shoujo', 'Anthologies']</td>\n",
       "      <td>https://cdn.anime-planet.com/manga/primary/kon...</td>\n",
       "    </tr>\n",
       "    <tr>\n",
       "      <th>29870</th>\n",
       "      <td>High School Musical</td>\n",
       "      <td>Troy and the gang of East High School are goin...</td>\n",
       "      <td>2.0</td>\n",
       "      <td>2008.0</td>\n",
       "      <td>['Comedy', 'Romance', 'Shoujo', 'America', 'Di...</td>\n",
       "      <td>https://cdn.anime-planet.com/manga/primary/hig...</td>\n",
       "    </tr>\n",
       "  </tbody>\n",
       "</table>\n",
       "<p>29423 rows × 6 columns</p>\n",
       "</div>"
      ],
      "text/plain": [
       "                                                   title  \\\n",
       "0                     Salad Days (Tang LiuZang) - Part 2   \n",
       "1                                The Master of Diabolism   \n",
       "2        JoJo's Bizarre Adventure Part 7: Steel Ball Run   \n",
       "3                                    A Sign of Affection   \n",
       "4                                   Moriarty the Patriot   \n",
       "...                                                  ...   \n",
       "29865                                    The Rib of Adam   \n",
       "29867                                   My Sweet Sisters   \n",
       "29868                            Classmate (Nemui ASADA)   \n",
       "29869  Konna Kekkon, Masaka Watashi ga Suru Nante!? n...   \n",
       "29870                                High School Musical   \n",
       "\n",
       "                                             description  rating    year  \\\n",
       "0        The second season of Salad Days (Tang LiuZang).     4.7  2021.0   \n",
       "1      As the grandmaster who founded the Demonic Sec...     4.7  2017.0   \n",
       "2      Set in 1890, Steel Ball Run spotlights Gyro Ze...     4.7  2004.0   \n",
       "3      Yuki is a typical college student, whose world...     4.7  2019.0   \n",
       "4      Before he was Sherlock’s rival, Moriarty fough...     4.7  2016.0   \n",
       "...                                                  ...     ...     ...   \n",
       "29865  Taeyoung’s always treated girls like crap. But...     2.6  2021.0   \n",
       "29867  This entry currently doesn't have a synopsis. ...     2.6  2008.0   \n",
       "29868  Shouma and his friends demean and assault the ...     2.6  2015.0   \n",
       "29869  She happens to meet him for the first time. Th...     2.4  2014.0   \n",
       "29870  Troy and the gang of East High School are goin...     2.0  2008.0   \n",
       "\n",
       "                                                    tags  \\\n",
       "0      ['BL', 'Manhua', 'Romance', 'Shounen-ai', 'Spo...   \n",
       "1      ['Action', 'Adventure', 'BL', 'Comedy', 'Manhu...   \n",
       "2      ['Action', 'Adventure', 'Horror', 'Mystery', '...   \n",
       "3      ['Romance', 'Shoujo', 'Slice of Life', 'Disabi...   \n",
       "4      ['Mystery', 'Shounen', 'Detectives', 'England'...   \n",
       "...                                                  ...   \n",
       "29865  ['Manhwa', 'Webtoons', 'Borderline H', 'Full C...   \n",
       "29867  ['Ecchi', 'One Shot', 'Shounen', 'Slice of Lif...   \n",
       "29868  ['BL', 'Drama', 'One Shot', 'Yaoi', 'School Li...   \n",
       "29869               ['Romance', 'Shoujo', 'Anthologies']   \n",
       "29870  ['Comedy', 'Romance', 'Shoujo', 'America', 'Di...   \n",
       "\n",
       "                                                   cover  \n",
       "0      https://cdn.anime-planet.com/manga/primary/sal...  \n",
       "1      https://cdn.anime-planet.com/manga/primary/the...  \n",
       "2      https://cdn.anime-planet.com/manga/primary/joj...  \n",
       "3      https://cdn.anime-planet.com/manga/primary/a-s...  \n",
       "4      https://cdn.anime-planet.com/manga/primary/mor...  \n",
       "...                                                  ...  \n",
       "29865  https://cdn.anime-planet.com/manga/primary/the...  \n",
       "29867  https://cdn.anime-planet.com/manga/primary/my-...  \n",
       "29868  https://cdn.anime-planet.com/manga/primary/cla...  \n",
       "29869  https://cdn.anime-planet.com/manga/primary/kon...  \n",
       "29870  https://cdn.anime-planet.com/manga/primary/hig...  \n",
       "\n",
       "[29423 rows x 6 columns]"
      ]
     },
     "execution_count": 13,
     "metadata": {},
     "output_type": "execute_result"
    }
   ],
   "source": [
    "df.dropna(axis = 0, how = \"any\", inplace = True)\n",
    "df"
   ]
  },
  {
   "cell_type": "code",
   "execution_count": 14,
   "metadata": {},
   "outputs": [
    {
     "data": {
      "application/vnd.microsoft.datawrangler.viewer.v0+json": {
       "columns": [
        {
         "name": "index",
         "rawType": "int64",
         "type": "integer"
        },
        {
         "name": "title",
         "rawType": "bool",
         "type": "boolean"
        },
        {
         "name": "description",
         "rawType": "bool",
         "type": "boolean"
        },
        {
         "name": "rating",
         "rawType": "bool",
         "type": "boolean"
        },
        {
         "name": "year",
         "rawType": "bool",
         "type": "boolean"
        },
        {
         "name": "tags",
         "rawType": "bool",
         "type": "boolean"
        },
        {
         "name": "cover",
         "rawType": "bool",
         "type": "boolean"
        }
       ],
       "conversionMethod": "pd.DataFrame",
       "ref": "67245db8-b05a-4371-a38c-3bf0758fa41c",
       "rows": [
        [
         "0",
         "False",
         "False",
         "False",
         "False",
         "False",
         "False"
        ],
        [
         "1",
         "False",
         "False",
         "False",
         "False",
         "False",
         "False"
        ],
        [
         "2",
         "False",
         "False",
         "False",
         "False",
         "False",
         "False"
        ],
        [
         "3",
         "False",
         "False",
         "False",
         "False",
         "False",
         "False"
        ],
        [
         "4",
         "False",
         "False",
         "False",
         "False",
         "False",
         "False"
        ],
        [
         "5",
         "False",
         "False",
         "False",
         "False",
         "False",
         "False"
        ],
        [
         "6",
         "False",
         "False",
         "False",
         "False",
         "False",
         "False"
        ],
        [
         "7",
         "False",
         "False",
         "False",
         "False",
         "False",
         "False"
        ],
        [
         "8",
         "False",
         "False",
         "False",
         "False",
         "False",
         "False"
        ],
        [
         "9",
         "False",
         "False",
         "False",
         "False",
         "False",
         "False"
        ],
        [
         "10",
         "False",
         "False",
         "False",
         "False",
         "False",
         "False"
        ],
        [
         "11",
         "False",
         "False",
         "False",
         "False",
         "False",
         "False"
        ],
        [
         "12",
         "False",
         "False",
         "False",
         "False",
         "False",
         "False"
        ],
        [
         "13",
         "False",
         "False",
         "False",
         "False",
         "False",
         "False"
        ],
        [
         "14",
         "False",
         "False",
         "False",
         "False",
         "False",
         "False"
        ],
        [
         "15",
         "False",
         "False",
         "False",
         "False",
         "False",
         "False"
        ],
        [
         "16",
         "False",
         "False",
         "False",
         "False",
         "False",
         "False"
        ],
        [
         "17",
         "False",
         "False",
         "False",
         "False",
         "False",
         "False"
        ],
        [
         "18",
         "False",
         "False",
         "False",
         "False",
         "False",
         "False"
        ],
        [
         "19",
         "False",
         "False",
         "False",
         "False",
         "False",
         "False"
        ],
        [
         "20",
         "False",
         "False",
         "False",
         "False",
         "False",
         "False"
        ],
        [
         "21",
         "False",
         "False",
         "False",
         "False",
         "False",
         "False"
        ],
        [
         "22",
         "False",
         "False",
         "False",
         "False",
         "False",
         "False"
        ],
        [
         "23",
         "False",
         "False",
         "False",
         "False",
         "False",
         "False"
        ],
        [
         "24",
         "False",
         "False",
         "False",
         "False",
         "False",
         "False"
        ],
        [
         "25",
         "False",
         "False",
         "False",
         "False",
         "False",
         "False"
        ],
        [
         "26",
         "False",
         "False",
         "False",
         "False",
         "False",
         "False"
        ],
        [
         "27",
         "False",
         "False",
         "False",
         "False",
         "False",
         "False"
        ],
        [
         "28",
         "False",
         "False",
         "False",
         "False",
         "False",
         "False"
        ],
        [
         "29",
         "False",
         "False",
         "False",
         "False",
         "False",
         "False"
        ],
        [
         "30",
         "False",
         "False",
         "False",
         "False",
         "False",
         "False"
        ],
        [
         "31",
         "False",
         "False",
         "False",
         "False",
         "False",
         "False"
        ],
        [
         "32",
         "False",
         "False",
         "False",
         "False",
         "False",
         "False"
        ],
        [
         "33",
         "False",
         "False",
         "False",
         "False",
         "False",
         "False"
        ],
        [
         "34",
         "False",
         "False",
         "False",
         "False",
         "False",
         "False"
        ],
        [
         "35",
         "False",
         "False",
         "False",
         "False",
         "False",
         "False"
        ],
        [
         "36",
         "False",
         "False",
         "False",
         "False",
         "False",
         "False"
        ],
        [
         "37",
         "False",
         "False",
         "False",
         "False",
         "False",
         "False"
        ],
        [
         "38",
         "False",
         "False",
         "False",
         "False",
         "False",
         "False"
        ],
        [
         "39",
         "False",
         "False",
         "False",
         "False",
         "False",
         "False"
        ],
        [
         "40",
         "False",
         "False",
         "False",
         "False",
         "False",
         "False"
        ],
        [
         "41",
         "False",
         "False",
         "False",
         "False",
         "False",
         "False"
        ],
        [
         "42",
         "False",
         "False",
         "False",
         "False",
         "False",
         "False"
        ],
        [
         "43",
         "False",
         "False",
         "False",
         "False",
         "False",
         "False"
        ],
        [
         "44",
         "False",
         "False",
         "False",
         "False",
         "False",
         "False"
        ],
        [
         "45",
         "False",
         "False",
         "False",
         "False",
         "False",
         "False"
        ],
        [
         "46",
         "False",
         "False",
         "False",
         "False",
         "False",
         "False"
        ],
        [
         "47",
         "False",
         "False",
         "False",
         "False",
         "False",
         "False"
        ],
        [
         "48",
         "False",
         "False",
         "False",
         "False",
         "False",
         "False"
        ],
        [
         "49",
         "False",
         "False",
         "False",
         "False",
         "False",
         "False"
        ]
       ],
       "shape": {
        "columns": 6,
        "rows": 29423
       }
      },
      "text/html": [
       "<div>\n",
       "<style scoped>\n",
       "    .dataframe tbody tr th:only-of-type {\n",
       "        vertical-align: middle;\n",
       "    }\n",
       "\n",
       "    .dataframe tbody tr th {\n",
       "        vertical-align: top;\n",
       "    }\n",
       "\n",
       "    .dataframe thead th {\n",
       "        text-align: right;\n",
       "    }\n",
       "</style>\n",
       "<table border=\"1\" class=\"dataframe\">\n",
       "  <thead>\n",
       "    <tr style=\"text-align: right;\">\n",
       "      <th></th>\n",
       "      <th>title</th>\n",
       "      <th>description</th>\n",
       "      <th>rating</th>\n",
       "      <th>year</th>\n",
       "      <th>tags</th>\n",
       "      <th>cover</th>\n",
       "    </tr>\n",
       "  </thead>\n",
       "  <tbody>\n",
       "    <tr>\n",
       "      <th>0</th>\n",
       "      <td>False</td>\n",
       "      <td>False</td>\n",
       "      <td>False</td>\n",
       "      <td>False</td>\n",
       "      <td>False</td>\n",
       "      <td>False</td>\n",
       "    </tr>\n",
       "    <tr>\n",
       "      <th>1</th>\n",
       "      <td>False</td>\n",
       "      <td>False</td>\n",
       "      <td>False</td>\n",
       "      <td>False</td>\n",
       "      <td>False</td>\n",
       "      <td>False</td>\n",
       "    </tr>\n",
       "    <tr>\n",
       "      <th>2</th>\n",
       "      <td>False</td>\n",
       "      <td>False</td>\n",
       "      <td>False</td>\n",
       "      <td>False</td>\n",
       "      <td>False</td>\n",
       "      <td>False</td>\n",
       "    </tr>\n",
       "    <tr>\n",
       "      <th>3</th>\n",
       "      <td>False</td>\n",
       "      <td>False</td>\n",
       "      <td>False</td>\n",
       "      <td>False</td>\n",
       "      <td>False</td>\n",
       "      <td>False</td>\n",
       "    </tr>\n",
       "    <tr>\n",
       "      <th>4</th>\n",
       "      <td>False</td>\n",
       "      <td>False</td>\n",
       "      <td>False</td>\n",
       "      <td>False</td>\n",
       "      <td>False</td>\n",
       "      <td>False</td>\n",
       "    </tr>\n",
       "    <tr>\n",
       "      <th>...</th>\n",
       "      <td>...</td>\n",
       "      <td>...</td>\n",
       "      <td>...</td>\n",
       "      <td>...</td>\n",
       "      <td>...</td>\n",
       "      <td>...</td>\n",
       "    </tr>\n",
       "    <tr>\n",
       "      <th>29865</th>\n",
       "      <td>False</td>\n",
       "      <td>False</td>\n",
       "      <td>False</td>\n",
       "      <td>False</td>\n",
       "      <td>False</td>\n",
       "      <td>False</td>\n",
       "    </tr>\n",
       "    <tr>\n",
       "      <th>29867</th>\n",
       "      <td>False</td>\n",
       "      <td>False</td>\n",
       "      <td>False</td>\n",
       "      <td>False</td>\n",
       "      <td>False</td>\n",
       "      <td>False</td>\n",
       "    </tr>\n",
       "    <tr>\n",
       "      <th>29868</th>\n",
       "      <td>False</td>\n",
       "      <td>False</td>\n",
       "      <td>False</td>\n",
       "      <td>False</td>\n",
       "      <td>False</td>\n",
       "      <td>False</td>\n",
       "    </tr>\n",
       "    <tr>\n",
       "      <th>29869</th>\n",
       "      <td>False</td>\n",
       "      <td>False</td>\n",
       "      <td>False</td>\n",
       "      <td>False</td>\n",
       "      <td>False</td>\n",
       "      <td>False</td>\n",
       "    </tr>\n",
       "    <tr>\n",
       "      <th>29870</th>\n",
       "      <td>False</td>\n",
       "      <td>False</td>\n",
       "      <td>False</td>\n",
       "      <td>False</td>\n",
       "      <td>False</td>\n",
       "      <td>False</td>\n",
       "    </tr>\n",
       "  </tbody>\n",
       "</table>\n",
       "<p>29423 rows × 6 columns</p>\n",
       "</div>"
      ],
      "text/plain": [
       "       title  description  rating   year   tags  cover\n",
       "0      False        False   False  False  False  False\n",
       "1      False        False   False  False  False  False\n",
       "2      False        False   False  False  False  False\n",
       "3      False        False   False  False  False  False\n",
       "4      False        False   False  False  False  False\n",
       "...      ...          ...     ...    ...    ...    ...\n",
       "29865  False        False   False  False  False  False\n",
       "29867  False        False   False  False  False  False\n",
       "29868  False        False   False  False  False  False\n",
       "29869  False        False   False  False  False  False\n",
       "29870  False        False   False  False  False  False\n",
       "\n",
       "[29423 rows x 6 columns]"
      ]
     },
     "execution_count": 14,
     "metadata": {},
     "output_type": "execute_result"
    }
   ],
   "source": [
    "df.isna()"
   ]
  },
  {
   "cell_type": "code",
   "execution_count": 15,
   "metadata": {},
   "outputs": [
    {
     "data": {
      "application/vnd.microsoft.datawrangler.viewer.v0+json": {
       "columns": [
        {
         "name": "index",
         "rawType": "int64",
         "type": "integer"
        },
        {
         "name": "title",
         "rawType": "object",
         "type": "string"
        },
        {
         "name": "description",
         "rawType": "object",
         "type": "string"
        },
        {
         "name": "rating",
         "rawType": "float64",
         "type": "float"
        },
        {
         "name": "year",
         "rawType": "float64",
         "type": "float"
        },
        {
         "name": "tags",
         "rawType": "object",
         "type": "string"
        }
       ],
       "conversionMethod": "pd.DataFrame",
       "ref": "b8475230-d621-4f86-8006-807752fa7fca",
       "rows": [
        [
         "0",
         "Salad Days (Tang LiuZang) - Part 2",
         "The second season of Salad Days (Tang LiuZang).",
         "4.7",
         "2021.0",
         "['BL', 'Manhua', 'Romance', 'Shounen-ai', 'Sports', 'Webtoons', 'Full Color']"
        ],
        [
         "1",
         "The Master of Diabolism",
         "As the grandmaster who founded the Demonic Sect, Wei WuXian roamed the world in his wanton ways, hated by millions for the chaos he created. In the end, he was back-stabbed by his dearest shidi and killed by powerful clans that combined to overpower him. He incarnates into the body of a lunatic who was abandoned by his clan and is later, unwillingly, taken away by a famous cultivator among the clans—Lan WangJi, his archenemy.",
         "4.7",
         "2017.0",
         "['Action', 'Adventure', 'BL', 'Comedy', 'Manhua', 'Mystery', 'Romance', 'Shounen-ai', 'Ancient China', 'Cultivation', 'Martial Arts', 'Supernatural', 'Xianxia', 'Mature Themes', 'Suicide', 'Violence', 'Based on a Web Novel']"
        ],
        [
         "2",
         "JoJo's Bizarre Adventure Part 7: Steel Ball Run",
         "Set in 1890, Steel Ball Run spotlights Gyro Zepelli and Johnny Joestar as they pit their spirits on a Fifty Million Dollar race across the heart of America. Their track quickly becomes a no-rules land as the racers' dreams collide and only human will spurs them on. But there is more to this race than any contestant realized and each of them soon grasps the real size of their world.",
         "4.7",
         "2004.0",
         "['Action', 'Adventure', 'Horror', 'Mystery', 'Seinen', '19th Century', 'America', 'Historical']"
        ],
        [
         "3",
         "A Sign of Affection",
         "Yuki is a typical college student, whose world revolves around her friends, social media, and the latest sales. But when a chance encounter on a train leads to her meeting friend-of-a-friend and fellow student Itsuomi-san, her world starts to widen. But even though Itsuomi-kun can speak three languages, sign language isn’t one of them. Can the two learn to communicate the budding feelings between them?",
         "4.7",
         "2019.0",
         "['Romance', 'Shoujo', 'Slice of Life', 'Disability']"
        ],
        [
         "4",
         "Moriarty the Patriot",
         "Before he was Sherlock’s rival, Moriarty fought against the unfair class caste system in London by making sure corrupt nobility got their comeuppance. But even the best-intentioned plans can spin out of control—will Moriarty’s dream of a more just and equal world turn him into a hero…or a monster?",
         "4.7",
         "2016.0",
         "['Mystery', 'Shounen', 'Detectives', 'England', 'Europe', 'Historical', 'Sherlock Holmes', 'Adapted to Anime', 'Based on a Novel']"
        ],
        [
         "5",
         "Classroom of the Elite (Light Novel)",
         "At the prestigious Tokyo Metropolitan Advanced Nurturing High School, which aims to produce the country’s future leaders, students are given remarkable freedom. However, they also have to deal with a point system that decides one’s place in the school’s hierarchy! Ayanokoji Kiyotaka has landed at the bottom in the scorned Class D, where he meets Horikita Suzune, who’s determined to work her way back up to Class A, and Kushida Kikyo, who seems like she only wants to make friends. Can they advance through this school where cutthroat competition is the name of the game?",
         "4.7",
         "2015.0",
         "['Comedy', 'Drama', 'Ecchi', 'Harem', 'Light Novels', 'Romance', 'Boarding School', 'School Life', 'Adapted to Anime']"
        ],
        [
         "6",
         "Who Made Me a Princess",
         "The beautiful Athanasia was killed at the hands of her own biological father, Claude de Alger Obelia, the cold-blooded emperor! It’s just a silly bedtime story… until one woman wakes up to suddenly find she’s become that unfortunate princess! She needs a plan to survive her doomed fate, and time is running out. Will she go with Plan A, live as quietly as possible without being noticed by the infamous emperor? Plan B, collect enough money to escape the palace? Or will she be stuck with plan C, sweet-talking her way into her father’s good graces?!",
         "4.7",
         "2017.0",
         "['Fantasy', 'Manhwa', 'Romance', 'Slice of Life', 'Webtoons', 'Full Color', 'Isekai', 'Magic', 'Person in a Strange World', 'Political', 'Reincarnation', 'Royalty', 'Based on a Web Novel']"
        ],
        [
         "7",
         "Demon Slayer: Kimetsu no Yaiba",
         "The setting is Taisho era Japan. Tanjirou is a kindhearted young boy who lived peacefully with his family as a coal seller. Their normal life changes completely when his family is slaughtered by demons. The only other survivor, Tanjirou's younger sister Nezuko, has become a ferocious demon. In order to return Nezuko to normal and get revenge on the demon that killed their family, the two of them depart on a journey. From a young talent, an adventure tale of blood and swords begins!",
         "4.7",
         "2016.0",
         "['Action', 'Adventure', 'Comedy', 'Drama', 'Fantasy', 'Shounen', 'Death of a Loved One', 'Demons', 'Historical', 'Martial Arts', 'Orphans', 'Siblings', 'Explicit Violence', 'Adapted to Anime']"
        ],
        [
         "8",
         "Omniscient Reader (Novel)",
         "One day, our MC finds himself stuck in the world of his favorite web novel. What should he do to survive? It's a world struck by catastrophe and danger all around. His edge? He knows the plot of the story to end, because he was the sole reader that stuck with it. ",
         "4.7",
         "2018.0",
         "['Action', 'Adventure', 'Drama', 'Fantasy', 'Manhwa', 'Web Novels', 'Cheats', 'High Stakes Games', 'Martial Arts', 'Play or Die', 'Psychological', 'Urban Fantasy']"
        ],
        [
         "9",
         "Omniscient Reader",
         "Back then, Dokja had no idea. He had no idea his favorite web novel 'Three Ways to Survive the Apocalypse' was going to come to life, and that he would become the only person to know how the world was going to end. He also had no idea he would end up becoming the protagonist of this novel-turned-reality. Now, Dokja will go on a journey to change the course of the story and save humankind once and for all.",
         "4.7",
         "2020.0",
         "['Action', 'Adventure', 'Drama', 'Fantasy', 'Manhwa', 'Webtoons', 'Cheats', 'Full Color', 'High Stakes Games', 'Play or Die', 'Psychological', 'PVE', 'PVP', 'RPG', 'Survival', 'Urban Fantasy', 'Explicit Violence', 'Based on a Web Novel']"
        ],
        [
         "10",
         "Tower of God - Part 3",
         "The third season of Tower of God.",
         "4.7",
         "2019.0",
         "['Action', 'Adventure', 'Drama', 'Fantasy', 'Manhwa', 'Webtoons', 'Full Color', 'Violence']"
        ],
        [
         "11",
         "Yotsuba&!",
         "Meet Yotsuba Koiwai, the strangest little girl around. With a mind so straight it's twisted, Yotsuba takes everything in life at face value and sees everything with the eyes of impenetrable innocence. With her laid-back father, Yotsuba moves into a new house and makes new friends - friends whose minds boggle at the wacky and somewhat wise way that Yotsuba lives her daily life!",
         "4.7",
         "2003.0",
         "['Comedy', 'Shounen', 'Slice of Life', 'Iyashikei', 'Single Parent']"
        ],
        [
         "12",
         "Bastard",
         "Jin has lived a tough life. One of his oldest memories is waking up in the hospital, having received an artificial heart valve, and a glass eye. And as a student, he's relentlessly bullied for his disabilities. But Jin's school life is nothing compared to his home life, where he's raised by his father, a serial killer who targets young women and forces the boy to act as his accomplice. Can Jin do anything to stop his father's reign of terror without becoming the next victim?",
         "4.7",
         "2014.0",
         "['Drama', 'Horror', 'Manhwa', 'Romance', 'Webtoons', 'Criminals', 'Disability', 'Dysfunctional Families', 'Full Color', 'Mind Games', 'Psychological', 'Psychopaths', 'Serial Killers', 'Thriller', 'Bullying', 'Emotional Abuse', 'Explicit Violence', 'Mature Themes', 'Physical Abuse', 'Domestic Abuse']"
        ],
        [
         "13",
         "Tower of God - Part 2",
         "The second season of Tower of God.",
         "4.7",
         "2012.0",
         "['Action', 'Adventure', 'Drama', 'Fantasy', 'Manhwa', 'Webtoons', 'Full Color', 'High Stakes Games', 'Violence']"
        ],
        [
         "14",
         "I’m Really Not the Devil’s Lackey",
         "Lin Jie, who has transmigrated into this world, runs a bookshop. Nice and passionate, he always recommends books that are capable of healing one's soul to customers who find themselves in a rough patch in life. Occasionally, he would recommend his own work to them as well. Over time, these customers have grown to respect him a lot. They bring him some simple souvenirs every day to repay him and ask him for recommendations of literary works. At the same time, they tell the people around them about this bookstore owner as well. They have respectful and affectionate ways of addressing him-\"The Devil's Hyena\", \"The Communicator of Flesh Gospel of Books\", \"The Author of the Corpse Ritual\" and \" The Star Shepard\".",
         "4.7",
         "2021.0",
         "['Fantasy', 'Manhua', 'Webtoons', 'Bookstore', 'Full Color', 'Isekai', 'Person in a Strange World', 'Based on a Web Novel']"
        ],
        [
         "15",
         "Umarekawatte mo mata, Watashi to Kekkon shite kuremasu ka?",
         "Toranosuke fell in love with his servant Kaoru. For twenty years, they slowly developed their love for each other, thus a Showa couple of clumsy husband and muscle brained wife was born. They spend a lot of time together, and they begin to talk in a nostalgic manner in Toranosuke's hospital room. Gentle memories of a deeply in love husband and wife.",
         "4.7",
         "2017.0",
         "['Comedy', 'Drama', 'Romance', 'Historical', 'Mature Romance']"
        ],
        [
         "16",
         "Banana Fish",
         "Nature made Ash Lynx beautiful; nurture made him a cold ruthless killer. A runaway brought up as the adopted heir and sex toy of \"Papa\" Dino Golzine, Ash, now at the rebellious age of seventeen, forsakes the kingdom held out by the devil who raised him. But the hideous secret that drove Ash's older brother mad in Vietnam has suddenly fallen into Papa's insatiably ambitious hands--and it's exactly the wrong time for Eiji Okamura, a pure-hearted young photographer from Japan, to make Ash Lynx's acquaintance...",
         "4.7",
         "1985.0",
         "['Action', 'Adventure', 'Drama', 'Mystery', 'Shoujo', 'America', 'Delinquents', 'Guns', 'Hand to Hand Combat', 'Psychological', 'Drug Use', 'Emotional Abuse', 'Mature Themes', 'Nudity', 'Physical Abuse', 'Sexual Abuse', 'Sexual Content', 'Adapted to Anime']"
        ],
        [
         "17",
         "Teenage Mercenary",
         "At the age of eight, Ijin Yu lost his parents in a plane crash and became stranded in a foreign land, forced to become a child mercenary in order to stay alive. He returns home ten years later to be reunited with his family in Korea, where food and shelter are plenty and everything seems peaceful. But Ijin will soon learn that life as a teenager is a whole other feat of survival. With only one year of high school left, Ijin must master new tactics to maneuver his way around the schoolhouse battleground. Can he survive a year of high school? Or rather, will the school be able to survive him?",
         "4.7",
         "2020.0",
         "['Action', 'Drama', 'Manhwa', 'Webtoons', 'Full Color', 'Lifestyle Change', 'School Life']"
        ],
        [
         "18",
         "I Want to Eat Your Pancreas (Novel)",
         "In this deeply moving first-person story, a high school boy finds the diary of his classmate—and discovers that she’s dying. Yamauchi Sakura has been silently suffering from a pancreatic disease in school, and now exactly one person outside her family knows. He swears to her that he won’t tell anyone what he learned, and the shared secret brings them closer together. The two have very little in common, but they find themselves drawn to each other in Sakura’s final months to live.",
         "4.7",
         "2015.0",
         "['Drama', 'Romance', 'Coming of Age', 'Illness', 'Novels', 'Opposites Attract', 'School Life', 'Adapted to Anime', 'Based on a Web Novel']"
        ],
        [
         "19",
         "Our Dreams at Dusk: Shimanami Tasogare",
         "Not only is high schooler Tasuku Kaname the new kid in town, he's also terrified that he's been outed as gay. Just as he's contemplating doing the unthinkable, Tasuku meets a mysterious woman who leads him to a group of people dealing with problems not so different from his own. In this realistic, heartfelt depiction of LGBT+ characters from different backgrounds finding their place in the world, a search for inner peace proves to be the most universal experience of all.",
         "4.7",
         "2015.0",
         "['Drama', 'Seinen', 'LGBT Themes', 'Psychological', 'School Life', 'Bullying']"
        ],
        [
         "20",
         "Spirit Fingers!",
         "What do you do if you're going on 18, totally awkward and lacking in self- confidence? You could just sit in your room all day and all night and study and wonder why you never get asked out…OR, if you’re Amy Song you could join up with the Spirit Fingers – the strangest, hippest, coolest (yet most welcoming) art club ever. But as Amy is about to learn, discovering your TRUE colors is about more than just painting.",
         "4.7",
         "2015.0",
         "['Comedy', 'Manhwa', 'Romance', 'Webtoons', 'Full Color', 'School Club']"
        ],
        [
         "21",
         "Your Letter",
         "Sori is a special young girl - kind, caring and principled well beyond her years. Unfortunately, these are NOT the personality traits generally celebrated in middle school – especially Sori’s, where she’s bullied mercilessly for defending the defenseless until she herself becomes a target. To escape, she transfers to a new school where the same old problems begin to play out all over again – that is until a mysterious trail of letters leads Sori on a magical scavenger hunt through the hidden world that exists right below the surface of her new middle school. The mail trail is the work an anonymous guardian angel, whose mission seems to be to provide a soft landing for Sori at her new school. But who is this person? And why did he choose her? With each letter, secrets are revealed and bonds are formed - as Sori learns about friendship, flora, fauna and finding the good in people in this strange new environment.",
         "4.7",
         "2018.0",
         "['Adventure', 'Drama', 'Manhwa', 'Mystery', 'Webtoons', 'Full Color', 'School Life', 'Bullying']"
        ],
        [
         "22",
         "Only I Level Up (Novel)",
         "In this world where Hunters with various magical powers battle monsters from invading the defenceless humanity, Sung Jin-Woo was the weakest of all the Hunters, barely able to make a living. However, a mysterious System grants him the power of the ‘Player’, setting him on a course for an incredible and often times perilous Journey. Follow Sung Jin-Woo as he embarks on an adventure to become an unparalleled existence through his “Level-Up” system - the only one in the entire world!",
         "4.7",
         "2016.0",
         "['Action', 'Adventure', 'Fantasy', 'Manhwa', 'Web Novels', 'Dungeon', 'Magic', 'RPG', 'Weak to Strong']"
        ],
        [
         "23",
         "Bloom Into You",
         "Yuu has always loved shoujo manga and awaits the day she gets a love confession that sends her heart aflutter with bubbles and hearts, and yet when a junior high classmate confesses his feelings to her...she feels nothing. Disappointed and confused, Yuu enters high school still unsure how to respond. That's when Yuu sees the beautiful student council president Nanami turn down a suitor with such maturity that she's inspired to ask her for help. But when the next person to confess to Yuu is Nanami herself, has her shoujo romance finally begun?",
         "4.7",
         "2015.0",
         "['Drama', 'GL', 'Romance', 'Shoujo-ai', 'Shounen', 'LGBT Themes', 'Love Confession', 'Love Triangle', 'School Life', 'Senpai-Kouhai Relationship', 'Student Council', 'Adapted to Anime']"
        ],
        [
         "24",
         "The Male Lead's Little Lion Daughter",
         "The handsome Duke Voreoti is the most terrifying man in the empire, with the coldest of demeanors and a gaze that can kill. But one day, he suddenly says that he wants to… adopt a child?! And that child is me?! After finding me at a shady orphanage, he whisked me away to his snowy palace without a second thought. Now I’m learning all the ways of the feared Voreoti family from his knights. However, things get dicey when the Duke becomes suspicious of my origins. With these fangs and jet black hair, perhaps we are more than just kindred spirits…",
         "4.7",
         "2021.0",
         "['Comedy', 'Drama', 'Fantasy', 'Manhwa', 'Romance', 'Webtoons', 'Full Color', 'Nobility', 'Person in a Strange World', 'Transported Into a Novel', 'Based on a Web Novel']"
        ],
        [
         "25",
         "20th Century Boys",
         "The world is never quite the same once we grow up. Villains and robots that once ran rampant in our imaginations are reduced to drawings in Manga, and our lives are distilled until there is little left but the daily grind; so it has been for Kenji. After a childhood of dreams he now runs his late father's liquor store and is raising his sister's child. The memories and friends from his early years bring him some happiness, but they become tainted as a string of murders find connections to his past. Kenji and his friends must now fight to save the future from their past and unravel the mystery of \"Friend.\"",
         "4.7",
         "1999.0",
         "['Action', 'Drama', 'Mystery', 'Sci Fi', 'Seinen', 'Historical', 'Psychological']"
        ],
        [
         "26",
         "Vagabond",
         "Following a horrific defeat at the battle of Sekigahara, two survivors, Takezo Shinmen and Matahachi Hon’iden, are deflated at having been unable to make a name for themselves and earn glory on the battlefield. But while Matahachi is anxious to go home, Takezo has vowed never to return and intends to become a vagabond, travelling the country polishing and testing his skills as a swordsman. With a beastial mercilessness when it comes to killing and a habit of cutting down all in his path, it doesn’t take long for Takezo to become a wanted fugitive. However, after being captured by a monk named Takuan and given a new lease of life, Takezo begins to live under the name of Musashi Miyamoto. Now, with a new view on life and death, Musashi continues to travel the nation challenging the most infamous fighters to achieve his goal of becoming the strongest samurai ever known.",
         "4.7",
         "1998.0",
         "['Action', 'Adventure', 'Drama', 'Seinen', '17th Century', 'Feudal Japan', 'Hiatus', 'Historical', 'Samurai', 'Swordplay', 'Explicit Violence']"
        ],
        [
         "27",
         "Roxana",
         "Kidnapping, murder, and risqué relationships! Within the scandalous pages of The Abysmal Flower, the downfall of Roxana Agrece’s criminal family is already foretold. So when Cassis Pedelian, the heroine’s older brother, is kidnapped by Roxana’s father, she can either wait for the heroine’s revenge... or take matters into her own hands, since Cassis is the key to her survival. But with deceitful characters on all sides, can Roxana and Cassis trust each other enough to bring down the brutal Agreces?",
         "4.7",
         "2021.0",
         "['Drama', 'Fantasy', 'Manhwa', 'Romance', 'Webtoons', 'Full Color', 'Isekai', 'Person in a Strange World', 'Psychological', 'Transported Into a Novel', 'Based on a Web Novel']"
        ],
        [
         "28",
         "Nano Machine",
         "After being held in disdain and having his life put in danger, an orphan from the Demonic Cult, Cheon Yeo-Woon, has an unexpected visit from his descendant from the future who inserts a nano machine into Cheon Yeo-Woon's body, which drastically changes Cheon Yeo-Woon's life after its activation. The story of Cheon Yeo-Woon's journey of bypassing the Demonic Cult and rising to become the best martial artist has just begun.",
         "4.7",
         "2020.0",
         "['Action', 'Adventure', 'Fantasy', 'Manhwa', 'Sci Fi', 'Webtoons', 'Full Color', 'Martial Arts', 'Based on a Web Novel']"
        ],
        [
         "29",
         "GTO",
         "With a history of leading a motorcycle gang and getting bad grades in school, why would 22 year old Onizuka ever want to become a teacher? Is it to educate young minds or spread the joy of education? Sure, if it involves being able to look up high school girls' skirts! Watch as this would-be educator uses his own life lessons and unconstituted methods as a means to control a delinquent class of students -- students who certainly aren't as happy to have him as a teacher as he is happy to be teaching...",
         "4.7",
         "1996.0",
         "['Comedy', 'Drama', 'Ecchi', 'Shounen', 'Delinquents', 'School Life', 'Slapstick', 'Teaching', 'Work Life', 'Bullying', 'Emotional Abuse', 'Adapted to Anime']"
        ],
        [
         "30",
         "Level Up with the Gods",
         "“Maybe Inner Gods can never defeat Outer Gods…” so thought Yuwon Kim, a plucky, high-ranking warrior, after a bitter defeat. But Yuwon is too tenacious to give up. His loss becomes the dawn of a new journey as a returnee. With renewed determination, Yuwon starts back from where he began, smashing monster after monster and relearning his skills before taking on the Tower once again. But can he fight his way through the tutorials and level up once more, or will his conquest crumble before him?",
         "4.7",
         "2021.0",
         "['Action', 'Adventure', 'Fantasy', 'Manhwa', 'Webtoons', 'Full Color', 'Second Chance', 'Supernatural', 'Time Travel', 'Based on a Web Novel']"
        ],
        [
         "31",
         "Kaguya-sama: Love Is War",
         "As leaders of their prestigious academy’s student council, Kaguya and Miyuki are the elite of the elite! But it’s lonely at the top… Luckily for them, they’ve fallen in love! There’s just one problem—they both have too much pride to admit it. And so begins the daily scheming to get the object of their affection to confess their romantic feelings first…Love is a war you win by losing.",
         "4.7",
         "2015.0",
         "['Comedy', 'Drama', 'Romance', 'Seinen', 'Episodic', 'Love Confession', 'Mind Games', 'School Life', 'Student Council', 'Adapted to Anime']"
        ],
        [
         "32",
         "Sign",
         "There are a few unusual things about Cafe Goyo. Number one, their coffee sucks. Number two, their customers never order off the menu. And number three, Yohan, the cafe manager, is deaf. So when Soohwa joins as a part-timer, though he is not expected to learn how to make good coffee, he is asked to expand his sign language vocabulary beyond the words, “higher,” “pay,” and “please.” But when Yohan offers to give him private lessons, Soohwa is reluctant. Not because he doesn’t want to study, but because he has a “hard” time around Yohan. Like, literally. He gets hard. Whenever he hears Yohan’s deep, sexy voice.",
         "4.7",
         "2017.0",
         "['BL', 'Comedy', 'Manhwa', 'Romance', 'Slice of Life', 'Webtoons', 'Yaoi', 'Adult Couples', 'Boss-Employee Relationship', 'Cafe', 'Cohabitation', 'Disability', 'Fetish', 'Full Color', 'Mature Romance', 'Smut', 'Explicit Sex']"
        ],
        [
         "33",
         "Three Days of Happiness (Light Novel)",
         "In this dark, moody love story, college student Kusunoki decides to sell off the next thirty years of his life at a mysterious shop in exchange for money—and maybe a chance to find something worth living for.",
         "4.7",
         "2013.0",
         "['Drama', 'Light Novels', 'Romance', 'Slice of Life', 'Mysterious Shop', 'Psychological', 'Supernatural']"
        ],
        [
         "34",
         "The Legend of the Northern Blade",
         "For decades, the brave warriors of the Northern Heavenly Sect fought to keep the world safe from the evil Silent Night. But when the fourth generation leader is accused of colluding with the enemy, he is forced to disband the sect and commit suicide to protect his son, Moowon. With no family and allies left, Moowon leads a dreary life under close surveillance... until a surprise attack from the Silent Night gives him a chance to escape to the mountains. There, the young warrior trains to master the fighting techniques of his predecessors, before the mysterious disappearance of a loved one brings him back to the mainland. Follow Moowon as he embarks on a journey to avenge his father’s death and take down the villains who threaten to plunge the world into darkness!",
         "4.7",
         "2019.0",
         "['Action', 'Adventure', 'Fantasy', 'Manhwa', 'Webtoons', 'Full Color', 'Martial Arts', 'Revenge']"
        ],
        [
         "35",
         "The Horizon",
         "Two children unexpectedly meet in the midst of war. After running away from the chaos, they come across a long empty road. With no adults to rely on, the two strangers, now become friends, walk alongside each other to see what's at the end of the road. All they hope is to keep being able to move forward. Just what kind of trials and tragedy awaits them during their journey for survival?",
         "4.7",
         "2016.0",
         "['Drama', 'Manhwa', 'Webtoons', 'Melancholy', 'Survival', 'War', 'Mature Themes', 'Suicide', 'Violence']"
        ],
        [
         "36",
         "Skip Beat!",
         "Kyoko moves to the big city with the prince of her dreams Shotaro; he wants to make it big in the entertainment business, so she works hard at many different jobs to support him as he achieves his dream. However, one day, Kyoko accidentally discovers the horrible truth: the love of her life thinks of her as a 'plain and boring woman!' Outraged, Kyoko swears revenge - she will make it even bigger than Shotaro in the entertainment world. The only question is, how will she fulfill her desire?",
         "4.7",
         "2002.0",
         "['Comedy', 'Drama', 'Romance', 'Shoujo', 'Slice of Life', 'Acting', 'Idols', 'Showbiz', 'Work Life', 'Adapted to Anime']"
        ],
        [
         "37",
         "10 Years That I Loved You the Most",
         "I've loved you the most for most of my life. Now I am a piece of crumpled paper in the corner you would never glimpse. I thought you would be my today and all of my tomorrows. I imagined that someday you would turn around again and stare at me with all your love. However, when our love is gone, I'll just pick a sunny afternoon with gentle wind, put on my coat and leave for good...",
         "4.6",
         "2018.0",
         "['BL', 'Drama', 'Manhua', 'Slice of Life', 'Webtoons', 'Yaoi', 'Full Color', 'Melancholy', 'Mature Themes', 'Sexual Abuse', 'Sexual Content', 'Suicide', 'Based on a Novel']"
        ],
        [
         "38",
         "Pirouette into My Heart",
         "Known as “the little swan” of his ballet studio, Shen has big dreams of leaving the humble farming town he grew up in and shooting to stardom. Though soft-spoken and timid, he meets his match in the stoic, wealthy, and equally as intense Jinyi, who pursues boxing next door. An unlikely pair, they cheer each other on and raise each other up through thick and thin. Determined to achieve their separate ambitions in the midst of their personal troubles, will their deep connection be strong enough to endure the journey and take flight?",
         "4.6",
         "2019.0",
         "['BL', 'Manhua', 'Romance', 'Shounen-ai', 'Sports', 'Webtoons', 'Ballet Dancing', 'Boxing', 'Dancing', 'Full Color', 'Hand to Hand Combat', 'Based on a Web Novel']"
        ],
        [
         "39",
         "Classroom of the Elite: Year 2 (Light Novel)",
         "Students of the prestigious Tokyo Metropolitan Advanced Nurturing High School are given remarkable freedom–if they can win, barter, or save enough points to work their way up the ranks! Ayanokouji Kiyotaka started at the bottom in the scorned Class D, where he met Horikita Suzune, who was determined to rise up the ladder to Class A. Who can beat the system in a school where cutthroat competition is the name of the game? The second year of this intense school drama begins now!",
         "4.6",
         "2020.0",
         "['Comedy', 'Drama', 'Light Novels', 'Romance', 'Boarding School', 'Psychological', 'School Life']"
        ],
        [
         "40",
         "SQ: Begin W/Your Name!",
         "When Sun Jing in Affiliated No.2 Middle School encounters with Qiutong of South Middle School, a small episode makes Sun remember the girl whose smile as warm as sunshine. Their schools are adjacent, so Sun Jing always meets Qiu at the bus station. He starts to keep an eye on the girl and they become friends since then.",
         "4.6",
         "2014.0",
         "['Comedy', 'GL', 'Manhua', 'Romance', 'Shoujo-ai', 'Webtoons', 'School Life']"
        ],
        [
         "41",
         "Spice and Wolf (Light Novel)",
         "The life of a traveling merchant is a lonely one, a fact with which Kraft Lawrence is well acquainted. Wandering from town to town with just his horse, cart, and whatever wares have come his way, the peddler has pretty well settled into his routine—that is, until the night Lawrence finds a wolf goddess asleep in his cart. Taking the form of a fetching girl with wolf ears and a tail, Holo has wearied of tending to harvests in the countryside and strikes up a bargain with the merchant to lend him the cunning of \"Holo the Wisewolf\" to increase his profits in exchange for taking her along on his travels. What kind of businessman could turn down such an offer? Lawrence soon learns, though, that having an ancient goddess as a traveling companion can be a bit of a mixed blessing. Will this wolf girl turn out to be too wild to tame?",
         "4.6",
         "2006.0",
         "['Adventure', 'Drama', 'Fantasy', 'Light Novels', 'Romance', 'Adult Couples', 'Animal Characteristics', 'Animal Transformation', 'Economics', 'God-Human Relationship', 'Interspecies Relationship', 'Mature Romance', 'Medieval', 'Non-Human Protagonists', 'Political', 'Adapted to Anime']"
        ],
        [
         "42",
         "Mage & Demon Queen - Part 3",
         "The third season of Mage & Demon Queen.",
         "4.6",
         "2021.0",
         "['Comedy', 'Fantasy', 'GL', 'OEL', 'Romance', 'Shoujo-ai', 'Webtoons', 'Full Color']"
        ],
        [
         "43",
         "Mage & Demon Queen - Part 2",
         "The second season of Mage & Demon Queen.",
         "4.6",
         "2019.0",
         "['Comedy', 'Fantasy', 'GL', 'OEL', 'Romance', 'Shoujo-ai', 'Webtoons', 'Demon King', 'Demons', 'Full Color', 'Interspecies Relationship', 'Magic', 'Royalty']"
        ],
        [
         "44",
         "Kamisama Kiss",
         "Nanami used to live in a ramshackle apartment with her father - a man who spent half his time gambling and the other half hiding from debt collectors - until one day the scoundrel ran away, leaving his daughter hungry and homeless. That is, until she meets a mysterious stranger in the park who deems her the new goddess of a local shrine! Unfortunately, Nanami’s new home is occupied by Tomoe, a fox familiar who objects to the presence of a mere mortal and immediately begins to bicker with the girl. If she can manage to form a contract with the troublesome man, he’ll be obligated to accept and help her perform her duties. But there’s a catch: Nanami has to kiss him first, and who’d want to lock lips with that awful guy?!",
         "4.6",
         "2008.0",
         "['Comedy', 'Drama', 'Fantasy', 'Romance', 'Shoujo', 'Animal Characteristics', 'Interspecies Relationship', 'Japanese Mythology', 'Master-Servant Relationship', 'Non-Human Protagonists', 'Youkai', 'Violence', 'Adapted to Anime']"
        ],
        [
         "45",
         "Vinland Saga",
         "Ten years ago, a strong warrior named Thors lost his life in a fight with Askeladd - a powerful and ruthless Viking. Having witnessed his demise, Thors’ son, Thorfinn, became consumed by hatred and vowed to exact revenge on his father’s killer in an honorable duel. With nowhere to go, Thorfinn was recruited onto Askeladd’s ship and began working with the crew as they pillage settlements and trick naive armies. Now, the young boy spends his days honing his battle skills while carrying out Askeladd’s bidding in order to earn his reward of a duel with the vicious captain. But despite having failed in all his bouts with the man he despises so much, will the day ever come when Thorfinn can finally defeat Askeladd and lay his father’s memory to rest?",
         "4.6",
         "2005.0",
         "['Action', 'Adventure', 'Drama', 'Seinen', 'Death of a Loved One', 'England', 'Europe', 'Hand to Hand Combat', 'Historical', 'Medieval', 'Psychological', 'Revenge', 'Swordplay', 'Weak to Strong', 'Violence', 'Adapted to Anime']"
        ],
        [
         "46",
         "Heesu in Class 2",
         "Heesu’s world revolves around Chanyoung, his best friend and secret crush. He doesn’t mind cheering Chanyoung from the sidelines or listening to all his girl problems. He doesn’t care if people only know him as “Chanyoung’s friend.” Then one day, Heesu starts hearing his name everywhere. On the bus, in the halls, during lunch… Turns out, there’s a rumor going around school (Got a love problem? Find Heesu in Class 2 and he’ll tell you what to do!) and with that, Heesu suddenly finds himself the center of attention. But how could he give anyone advice? He doesn’t even know what to do about his own crush!",
         "4.6",
         "2017.0",
         "['BL', 'Manhwa', 'Romance', 'Shounen-ai', 'Webtoons', 'Childhood Friends', 'Full Color', 'School Life']"
        ],
        [
         "47",
         "Blue Period.",
         "Yatora is the perfect high school student, with good grades and lots of friends. It’s an effortless performance, and, ultimately … a dull one. But he wanders into the art room one day, and a lone painting captures his eye, awakening him to a kind of beauty he never knew. Compelled and consumed, he dives in headfirst—and he’s about to learn how savage and unforgiving art can be!",
         "4.6",
         "2017.0",
         "['Drama', 'Seinen', 'Art', 'Psychological', 'School Club', 'School Life', 'Nudity', 'Adapted to Anime']"
        ],
        [
         "48",
         "Shokuba to Jitaku de Gyappu no Aru Papa",
         "At work he's smooth and cool, but at home he's a total softie?!",
         "4.6",
         "2020.0",
         "['Comedy', 'Romance', 'Slice of Life', 'Doujinshi']"
        ],
        [
         "49",
         "Kaichou wa Maid-sama! Marriage",
         "This entry currently doesn't have a synopsis. Check back soon!",
         "4.6",
         "2013.0",
         "['Comedy', 'Drama', 'Fantasy', 'Romance', 'Shoujo', 'Collections', 'Crossover', 'School Life']"
        ]
       ],
       "shape": {
        "columns": 5,
        "rows": 29423
       }
      },
      "text/html": [
       "<div>\n",
       "<style scoped>\n",
       "    .dataframe tbody tr th:only-of-type {\n",
       "        vertical-align: middle;\n",
       "    }\n",
       "\n",
       "    .dataframe tbody tr th {\n",
       "        vertical-align: top;\n",
       "    }\n",
       "\n",
       "    .dataframe thead th {\n",
       "        text-align: right;\n",
       "    }\n",
       "</style>\n",
       "<table border=\"1\" class=\"dataframe\">\n",
       "  <thead>\n",
       "    <tr style=\"text-align: right;\">\n",
       "      <th></th>\n",
       "      <th>title</th>\n",
       "      <th>description</th>\n",
       "      <th>rating</th>\n",
       "      <th>year</th>\n",
       "      <th>tags</th>\n",
       "    </tr>\n",
       "  </thead>\n",
       "  <tbody>\n",
       "    <tr>\n",
       "      <th>0</th>\n",
       "      <td>Salad Days (Tang LiuZang) - Part 2</td>\n",
       "      <td>The second season of Salad Days (Tang LiuZang).</td>\n",
       "      <td>4.7</td>\n",
       "      <td>2021.0</td>\n",
       "      <td>['BL', 'Manhua', 'Romance', 'Shounen-ai', 'Spo...</td>\n",
       "    </tr>\n",
       "    <tr>\n",
       "      <th>1</th>\n",
       "      <td>The Master of Diabolism</td>\n",
       "      <td>As the grandmaster who founded the Demonic Sec...</td>\n",
       "      <td>4.7</td>\n",
       "      <td>2017.0</td>\n",
       "      <td>['Action', 'Adventure', 'BL', 'Comedy', 'Manhu...</td>\n",
       "    </tr>\n",
       "    <tr>\n",
       "      <th>2</th>\n",
       "      <td>JoJo's Bizarre Adventure Part 7: Steel Ball Run</td>\n",
       "      <td>Set in 1890, Steel Ball Run spotlights Gyro Ze...</td>\n",
       "      <td>4.7</td>\n",
       "      <td>2004.0</td>\n",
       "      <td>['Action', 'Adventure', 'Horror', 'Mystery', '...</td>\n",
       "    </tr>\n",
       "    <tr>\n",
       "      <th>3</th>\n",
       "      <td>A Sign of Affection</td>\n",
       "      <td>Yuki is a typical college student, whose world...</td>\n",
       "      <td>4.7</td>\n",
       "      <td>2019.0</td>\n",
       "      <td>['Romance', 'Shoujo', 'Slice of Life', 'Disabi...</td>\n",
       "    </tr>\n",
       "    <tr>\n",
       "      <th>4</th>\n",
       "      <td>Moriarty the Patriot</td>\n",
       "      <td>Before he was Sherlock’s rival, Moriarty fough...</td>\n",
       "      <td>4.7</td>\n",
       "      <td>2016.0</td>\n",
       "      <td>['Mystery', 'Shounen', 'Detectives', 'England'...</td>\n",
       "    </tr>\n",
       "    <tr>\n",
       "      <th>...</th>\n",
       "      <td>...</td>\n",
       "      <td>...</td>\n",
       "      <td>...</td>\n",
       "      <td>...</td>\n",
       "      <td>...</td>\n",
       "    </tr>\n",
       "    <tr>\n",
       "      <th>29865</th>\n",
       "      <td>The Rib of Adam</td>\n",
       "      <td>Taeyoung’s always treated girls like crap. But...</td>\n",
       "      <td>2.6</td>\n",
       "      <td>2021.0</td>\n",
       "      <td>['Manhwa', 'Webtoons', 'Borderline H', 'Full C...</td>\n",
       "    </tr>\n",
       "    <tr>\n",
       "      <th>29867</th>\n",
       "      <td>My Sweet Sisters</td>\n",
       "      <td>This entry currently doesn't have a synopsis. ...</td>\n",
       "      <td>2.6</td>\n",
       "      <td>2008.0</td>\n",
       "      <td>['Ecchi', 'One Shot', 'Shounen', 'Slice of Lif...</td>\n",
       "    </tr>\n",
       "    <tr>\n",
       "      <th>29868</th>\n",
       "      <td>Classmate (Nemui ASADA)</td>\n",
       "      <td>Shouma and his friends demean and assault the ...</td>\n",
       "      <td>2.6</td>\n",
       "      <td>2015.0</td>\n",
       "      <td>['BL', 'Drama', 'One Shot', 'Yaoi', 'School Li...</td>\n",
       "    </tr>\n",
       "    <tr>\n",
       "      <th>29869</th>\n",
       "      <td>Konna Kekkon, Masaka Watashi ga Suru Nante!? n...</td>\n",
       "      <td>She happens to meet him for the first time. Th...</td>\n",
       "      <td>2.4</td>\n",
       "      <td>2014.0</td>\n",
       "      <td>['Romance', 'Shoujo', 'Anthologies']</td>\n",
       "    </tr>\n",
       "    <tr>\n",
       "      <th>29870</th>\n",
       "      <td>High School Musical</td>\n",
       "      <td>Troy and the gang of East High School are goin...</td>\n",
       "      <td>2.0</td>\n",
       "      <td>2008.0</td>\n",
       "      <td>['Comedy', 'Romance', 'Shoujo', 'America', 'Di...</td>\n",
       "    </tr>\n",
       "  </tbody>\n",
       "</table>\n",
       "<p>29423 rows × 5 columns</p>\n",
       "</div>"
      ],
      "text/plain": [
       "                                                   title  \\\n",
       "0                     Salad Days (Tang LiuZang) - Part 2   \n",
       "1                                The Master of Diabolism   \n",
       "2        JoJo's Bizarre Adventure Part 7: Steel Ball Run   \n",
       "3                                    A Sign of Affection   \n",
       "4                                   Moriarty the Patriot   \n",
       "...                                                  ...   \n",
       "29865                                    The Rib of Adam   \n",
       "29867                                   My Sweet Sisters   \n",
       "29868                            Classmate (Nemui ASADA)   \n",
       "29869  Konna Kekkon, Masaka Watashi ga Suru Nante!? n...   \n",
       "29870                                High School Musical   \n",
       "\n",
       "                                             description  rating    year  \\\n",
       "0        The second season of Salad Days (Tang LiuZang).     4.7  2021.0   \n",
       "1      As the grandmaster who founded the Demonic Sec...     4.7  2017.0   \n",
       "2      Set in 1890, Steel Ball Run spotlights Gyro Ze...     4.7  2004.0   \n",
       "3      Yuki is a typical college student, whose world...     4.7  2019.0   \n",
       "4      Before he was Sherlock’s rival, Moriarty fough...     4.7  2016.0   \n",
       "...                                                  ...     ...     ...   \n",
       "29865  Taeyoung’s always treated girls like crap. But...     2.6  2021.0   \n",
       "29867  This entry currently doesn't have a synopsis. ...     2.6  2008.0   \n",
       "29868  Shouma and his friends demean and assault the ...     2.6  2015.0   \n",
       "29869  She happens to meet him for the first time. Th...     2.4  2014.0   \n",
       "29870  Troy and the gang of East High School are goin...     2.0  2008.0   \n",
       "\n",
       "                                                    tags  \n",
       "0      ['BL', 'Manhua', 'Romance', 'Shounen-ai', 'Spo...  \n",
       "1      ['Action', 'Adventure', 'BL', 'Comedy', 'Manhu...  \n",
       "2      ['Action', 'Adventure', 'Horror', 'Mystery', '...  \n",
       "3      ['Romance', 'Shoujo', 'Slice of Life', 'Disabi...  \n",
       "4      ['Mystery', 'Shounen', 'Detectives', 'England'...  \n",
       "...                                                  ...  \n",
       "29865  ['Manhwa', 'Webtoons', 'Borderline H', 'Full C...  \n",
       "29867  ['Ecchi', 'One Shot', 'Shounen', 'Slice of Lif...  \n",
       "29868  ['BL', 'Drama', 'One Shot', 'Yaoi', 'School Li...  \n",
       "29869               ['Romance', 'Shoujo', 'Anthologies']  \n",
       "29870  ['Comedy', 'Romance', 'Shoujo', 'America', 'Di...  \n",
       "\n",
       "[29423 rows x 5 columns]"
      ]
     },
     "execution_count": 15,
     "metadata": {},
     "output_type": "execute_result"
    }
   ],
   "source": [
    "df.drop([\"cover\"], axis = 1, inplace = True)\n",
    "df"
   ]
  },
  {
   "cell_type": "code",
   "execution_count": 16,
   "metadata": {},
   "outputs": [],
   "source": [
    "df.to_csv(\"manga_year_processed.csv\")"
   ]
  },
  {
   "cell_type": "markdown",
   "metadata": {},
   "source": [
    "5. Use Excel to create a chart using your modifications.\n",
    "6. Write a short paragraph about where you found your data, and how you altered it."
   ]
  },
  {
   "cell_type": "markdown",
   "metadata": {},
   "source": [
    "# Wrangled File\n",
    "\n",
    "I have removed manga from years before 1980. I chose this arbitariliy because the fewest manga were listed in the years before 1980. And also those would be the hardest to gain access. Additionally, they may not be translated. \n",
    "\n",
    "\n"
   ]
  }
 ],
 "metadata": {
  "kernelspec": {
   "display_name": "Python 3",
   "language": "python",
   "name": "python3"
  },
  "language_info": {
   "codemirror_mode": {
    "name": "ipython",
    "version": 3
   },
   "file_extension": ".py",
   "mimetype": "text/x-python",
   "name": "python",
   "nbconvert_exporter": "python",
   "pygments_lexer": "ipython3",
   "version": "3.13.2"
  }
 },
 "nbformat": 4,
 "nbformat_minor": 2
}
