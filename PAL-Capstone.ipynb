{
 "cells": [
  {
   "cell_type": "markdown",
   "metadata": {},
   "source": [
    "# April 3rd 2024\n",
    "\n",
    "## Notes\n",
    "\n",
    "If the file is within the same folder as another file, they are both siblings under the same parent folder.\n",
    "\n",
    "For that reason, you do not need a file path to call the csv. You can just use the file name.\n",
    "\n",
    "There are also additional ways you can do that for cousin files that are under different files under eachother.\n",
    "\n",
    "File name is the relative path.\n",
    "\n",
    "Absolute path is where to find a file from anywhere on the computer\n",
    "\n",
    "Learned different methods for editing the data can even drop columns now.\n",
    "\n",
    "I am less afraid of prepping my capstone.\n",
    "\n",
    "Maybe I will data wrangle this weekend..\n"
   ]
  }
 ],
 "metadata": {
  "language_info": {
   "name": "python"
  }
 },
 "nbformat": 4,
 "nbformat_minor": 2
}
