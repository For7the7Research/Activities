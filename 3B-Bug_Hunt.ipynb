{
 "cells": [
  {
   "cell_type": "markdown",
   "metadata": {},
   "source": [
    "# LAB: BUG HUNT!\n",
    "### March 13th DAP 2025"
   ]
  },
  {
   "cell_type": "markdown",
   "metadata": {},
   "source": [
    "**Goal**: Find and fix all the bugs!\n",
    "\n",
    "Below is a 30-line Python program that implements a simple \"Guess the Number\" game. The overall concept is sound, but this code needs a little help to be just right.\n",
    "\n",
    "There are 7 bugs in the game's code:\n",
    "\n",
    "- Two `SyntaxError`s\n",
    "- One `IndentationError`\n",
    "- One `NameError`\n",
    "- One `print()` bug\n",
    "- Two logical bugs\n",
    "\n",
    "For the first four bugs, **let the error messages guide you**. Scroll to the very last line of the crash output and try to use the hint that comes after the error name to fix the bug. Study the comments and pay close attention to VSCode's syntax hilighting and red/yellow error underlines.\n",
    "\n",
    "Not every bug has an associated error message! Python will happily run code that is valid but incorrect.\n",
    "\n",
    "For the last three bugs, **let your intuition guide you**. The game should be fair, winnable, and consistent with your understanding of the rules according to the printed messages and comments. Print statements should correctly report the state of the game. \n",
    "\n",
    "When it's bug-free, the output of the program should look something like this:\n",
    "\n",
    "```\n",
    "Let's play: Guess the Number!\n",
    "Enter a number from 1 to 3: 1\n",
    "You guessed 1.\n",
    "The secret number was 1.\n",
    "YEAH!!! You Win!\n",
    "```\n",
    "\n",
    "**Be sure to use the Jupyter Variables panel to help your debugging efforts!**"
   ]
  },
  {
   "cell_type": "markdown",
   "metadata": {},
   "source": [
    "# Bonus: Statistics Tracking\n",
    "In a traditional Python program, variables are local to the script they're in, and they completely disappear once execution is finished.\n",
    "\n",
    "In Jupyter Notebooks, variables are global across all cells in the notebook, and they persist until you restart the Python kernel.\n",
    "\n",
    "You can use this difference to your advantage.\n",
    "\n",
    "**Goal**: Implement a **game counter** and a **win counter**, so the player can see how many times they've played, and how many times they've won. You could also calculate and display their win percentage. Output of the program would look something like this:\n",
    "\n",
    "```\n",
    "Let's play: Guess the Number!\n",
    "Enter a number from 1 to 3: 2\n",
    "You guessed 2.\n",
    "The secret number was 3.\n",
    "Nuts... You Lose.\n",
    "You have now played 7 games and won 3 times, a 42% win rate.\n",
    "```"
   ]
  },
  {
   "cell_type": "code",
   "execution_count": 70,
   "metadata": {},
   "outputs": [
    {
     "name": "stdout",
     "output_type": "stream",
     "text": [
      "Let's play: Guess the Number!\n",
      "You guessed 2.\n",
      "The secret number was 3.\n",
      "Nuts... You Lose.\n",
      "You have now played 19 games and you have won 5 times! You have a% success rate\n"
     ]
    }
   ],
   "source": [
    "# Guess the Number\n",
    "# A simple Python game where the computer thinks of a number\n",
    "# and the player tries to guess it.\n",
    "\n",
    "# Import a package to get random numbers\n",
    "#Bug 1 syntax error spelling\n",
    "import random\n",
    "\n",
    "#added code for Bonus\n",
    "play_counter = play_counter + 1\n",
    "\n",
    "# Greet the player\n",
    "#Bug 2 change \" to apostrophe\"\n",
    "print(\"Let's play: Guess the Number!\")\n",
    "\n",
    "# Choose a secret number from 1 to 3 at random\n",
    "#Bug 5 - logical error, change 30 to 3\n",
    "secret_number = random.randint(1, 3)\n",
    "\n",
    "# Prompt the player to input their guess\n",
    "guess = input(\"Enter a number from 1 to 3: \")\n",
    "\n",
    "# Confirm the player's input\n",
    "#bug 4 missing s in guess variable, spelling error, syntax error\n",
    "print(f\"You guessed {guess}.\")\n",
    "\n",
    "# Reveal the secret number\n",
    "#Bug 6 format string error\n",
    "print(f\"The secret number was {secret_number}.\")\n",
    "\n",
    "# Output the appropriate result\n",
    "#Bug 7 indent print, determines relationship with the blocks\n",
    "#Bug 8 change the prints to match the true and false\n",
    "if int(guess) == secret_number:\n",
    "    print(\"YEAH!!! You Win!\")\n",
    "    win_counter = win_counter + 1\n",
    "else:\n",
    "    print(\"Nuts... You Lose.\")\n",
    "\n",
    "#{Print the number of times that you have played and number of times you won}\n",
    "##win_percent = (int({win_counter/play_counter}) * 100)\n",
    "print(f\"You have now played {play_counter} games and you have won {win_counter} times! You have a% success rate\")\n"
   ]
  },
  {
   "cell_type": "code",
   "execution_count": 50,
   "metadata": {},
   "outputs": [
    {
     "name": "stdout",
     "output_type": "stream",
     "text": [
      "Initialized play counter: 0\n",
      "Initialized win_counter: 0\n"
     ]
    }
   ],
   "source": [
    "#because in jupyter notebook need this additional block which will restart the count to zero for the code block above\n",
    "play_counter=0\n",
    "#print is defining what happens when you run this code block\n",
    "print(\"Initialized play counter:\", play_counter)\n",
    "win_counter=0\n",
    "print(\"Initialized win_counter:\", win_counter)"
   ]
  },
  {
   "cell_type": "code",
   "execution_count": null,
   "metadata": {},
   "outputs": [
    {
     "name": "stdout",
     "output_type": "stream",
     "text": [
      "Play Counter: 3\n"
     ]
    }
   ],
   "source": [
    "play_counter = play_counter + 1\n",
    "print(\"Play Counter:\", play_counter)"
   ]
  },
  {
   "cell_type": "code",
   "execution_count": 68,
   "metadata": {},
   "outputs": [
    {
     "ename": "TypeError",
     "evalue": "unsupported operand type(s) for *: 'set' and 'int'",
     "output_type": "error",
     "traceback": [
      "\u001b[31m---------------------------------------------------------------------------\u001b[39m",
      "\u001b[31mTypeError\u001b[39m                                 Traceback (most recent call last)",
      "\u001b[36mCell\u001b[39m\u001b[36m \u001b[39m\u001b[32mIn[68]\u001b[39m\u001b[32m, line 1\u001b[39m\n\u001b[32m----> \u001b[39m\u001b[32m1\u001b[39m win_percent = (\u001b[43m{\u001b[49m\u001b[43mwin_counter\u001b[49m\u001b[43m/\u001b[49m\u001b[43mplay_counter\u001b[49m\u001b[43m}\u001b[49m\u001b[43m \u001b[49m\u001b[43m*\u001b[49m\u001b[43m \u001b[49m\u001b[32;43m100\u001b[39;49m)\n",
      "\u001b[31mTypeError\u001b[39m: unsupported operand type(s) for *: 'set' and 'int'"
     ]
    }
   ],
   "source": [
    "win_percent = ({win_counter/play_counter} * 100)"
   ]
  }
 ],
 "metadata": {
  "kernelspec": {
   "display_name": "Python 3",
   "language": "python",
   "name": "python3"
  },
  "language_info": {
   "codemirror_mode": {
    "name": "ipython",
    "version": 3
   },
   "file_extension": ".py",
   "mimetype": "text/x-python",
   "name": "python",
   "nbconvert_exporter": "python",
   "pygments_lexer": "ipython3",
   "version": "3.13.2"
  }
 },
 "nbformat": 4,
 "nbformat_minor": 2
}
